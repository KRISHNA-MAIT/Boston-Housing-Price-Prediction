{
  "nbformat": 4,
  "nbformat_minor": 0,
  "metadata": {
    "kernelspec": {
      "display_name": "Python 3",
      "language": "python",
      "name": "python3"
    },
    "language_info": {
      "codemirror_mode": {
        "name": "ipython",
        "version": 3
      },
      "file_extension": ".py",
      "mimetype": "text/x-python",
      "name": "python",
      "nbconvert_exporter": "python",
      "pygments_lexer": "ipython3",
      "version": "3.7.4"
    },
    "colab": {
      "name": "Boston_Housing_Project_using_Linear_Regression.ipynb",
      "provenance": [],
      "collapsed_sections": []
    }
  },
  "cells": [
    {
      "cell_type": "markdown",
      "metadata": {
        "id": "O3Sv6yA9yyiV"
      },
      "source": [
        "# BOSTON HOUSING PROJECT"
      ]
    },
    {
      "cell_type": "markdown",
      "metadata": {
        "id": "zd7X9ABayyic"
      },
      "source": [
        "### The steps involved in solving machine learning problems are:\n",
        "    1. Data Preprocessing\n",
        "    2. Defining \"Error\"\n",
        "    3. Spliting data in two parts: Training Set and Testing Set\n",
        "    4. Training Model: This step involves \"learning\" the target function from the given training\n",
        "       data. We need to choose the appropriate machine learning problem. Then train it on the\n",
        "       data. And finally, testing the model with the testing data.\n",
        "    5. Prediction: Obtain the predicted values for the given input and visualize the results."
      ]
    },
    {
      "cell_type": "markdown",
      "metadata": {
        "id": "zv4Vl4Ejyyic"
      },
      "source": [
        "### Importing Essential Libraries"
      ]
    },
    {
      "cell_type": "code",
      "metadata": {
        "id": "kHe8UiWtyyid"
      },
      "source": [
        "import numpy as np\n",
        "import pandas as pd\n",
        "from pandas.plotting import scatter_matrix\n",
        "import matplotlib as mpl\n",
        "import matplotlib.pyplot as plt\n",
        "\n",
        "from matplotlib.animation import FuncAnimation\n",
        "from sklearn.datasets import load_boston # sklearn -> Scikit Learn Library whcih contains ML Models.\n",
        "from sklearn.metrics import mean_squared_error #MSE\n",
        "from sklearn.model_selection import train_test_split\n",
        "from sklearn.preprocessing import MinMaxScaler\n",
        "\n",
        "from IPython.display import HTML"
      ],
      "execution_count": null,
      "outputs": []
    },
    {
      "cell_type": "markdown",
      "metadata": {
        "id": "kEIkYiBuyyid"
      },
      "source": [
        "## Step 1: Data Preprocessing"
      ]
    },
    {
      "cell_type": "markdown",
      "metadata": {
        "id": "9aBgdvOcyyid"
      },
      "source": [
        "### Some Keywords related to Boston Housing dataset:\n",
        "1. data: Contains the information for various houses.\n",
        "2. target: Prices of the houses.\n",
        "3. feature_names: names of the features.\n",
        "4. DESCR: describes the dataset."
      ]
    },
    {
      "cell_type": "markdown",
      "metadata": {
        "id": "FsP5WdlCyyie"
      },
      "source": [
        "### Loading Dataset"
      ]
    },
    {
      "cell_type": "code",
      "metadata": {
        "id": "-WsbFMtykFU_"
      },
      "source": [
        "#from google.colab import files\n",
        "#files.upload()\n"
      ],
      "execution_count": null,
      "outputs": []
    },
    {
      "cell_type": "code",
      "metadata": {
        "id": "ThBJtGKlkSyU"
      },
      "source": [
        "#%pwd"
      ],
      "execution_count": null,
      "outputs": []
    },
    {
      "cell_type": "code",
      "metadata": {
        "id": "vWSjYJmTkYsN"
      },
      "source": [
        "#%ls"
      ],
      "execution_count": null,
      "outputs": []
    },
    {
      "cell_type": "code",
      "metadata": {
        "id": "yUZFIkchkdJ1"
      },
      "source": [
        "#Boston = pd.read_csv('Boston.csv')"
      ],
      "execution_count": null,
      "outputs": []
    },
    {
      "cell_type": "code",
      "metadata": {
        "id": "lcOLc7XWyyie"
      },
      "source": [
        "# Here we are loading the Boston Hounsing dataset already present in scikit-learn library\n",
        "# 'boston' below is the object for the class load_boston.\n",
        "boston = load_boston()\n",
        "\n",
        "# Description of the dataset\n",
        "# This tells about the essential informations about dataset. We can find this as housing.names on UCI website.\n",
        "print(boston.DESCR)\n"
      ],
      "execution_count": null,
      "outputs": []
    },
    {
      "cell_type": "code",
      "metadata": {
        "id": "V0iAJEyFyyif",
        "colab": {
          "base_uri": "https://localhost:8080/",
          "height": 424
        },
        "outputId": "6f8ccd3b-f4ca-40d4-ebba-49a49c6409a7"
      },
      "source": [
        "# Put the data into pandas DataFrame\n",
        "# 'features' below are the initial 13 columns of our dataset.\n",
        "features = pd.DataFrame(boston.data, columns=boston.feature_names)\n",
        "features"
      ],
      "execution_count": null,
      "outputs": [
        {
          "output_type": "execute_result",
          "data": {
            "text/html": [
              "<div>\n",
              "<style scoped>\n",
              "    .dataframe tbody tr th:only-of-type {\n",
              "        vertical-align: middle;\n",
              "    }\n",
              "\n",
              "    .dataframe tbody tr th {\n",
              "        vertical-align: top;\n",
              "    }\n",
              "\n",
              "    .dataframe thead th {\n",
              "        text-align: right;\n",
              "    }\n",
              "</style>\n",
              "<table border=\"1\" class=\"dataframe\">\n",
              "  <thead>\n",
              "    <tr style=\"text-align: right;\">\n",
              "      <th></th>\n",
              "      <th>CRIM</th>\n",
              "      <th>ZN</th>\n",
              "      <th>INDUS</th>\n",
              "      <th>CHAS</th>\n",
              "      <th>NOX</th>\n",
              "      <th>RM</th>\n",
              "      <th>AGE</th>\n",
              "      <th>DIS</th>\n",
              "      <th>RAD</th>\n",
              "      <th>TAX</th>\n",
              "      <th>PTRATIO</th>\n",
              "      <th>B</th>\n",
              "      <th>LSTAT</th>\n",
              "    </tr>\n",
              "  </thead>\n",
              "  <tbody>\n",
              "    <tr>\n",
              "      <th>0</th>\n",
              "      <td>0.00632</td>\n",
              "      <td>18.0</td>\n",
              "      <td>2.31</td>\n",
              "      <td>0.0</td>\n",
              "      <td>0.538</td>\n",
              "      <td>6.575</td>\n",
              "      <td>65.2</td>\n",
              "      <td>4.0900</td>\n",
              "      <td>1.0</td>\n",
              "      <td>296.0</td>\n",
              "      <td>15.3</td>\n",
              "      <td>396.90</td>\n",
              "      <td>4.98</td>\n",
              "    </tr>\n",
              "    <tr>\n",
              "      <th>1</th>\n",
              "      <td>0.02731</td>\n",
              "      <td>0.0</td>\n",
              "      <td>7.07</td>\n",
              "      <td>0.0</td>\n",
              "      <td>0.469</td>\n",
              "      <td>6.421</td>\n",
              "      <td>78.9</td>\n",
              "      <td>4.9671</td>\n",
              "      <td>2.0</td>\n",
              "      <td>242.0</td>\n",
              "      <td>17.8</td>\n",
              "      <td>396.90</td>\n",
              "      <td>9.14</td>\n",
              "    </tr>\n",
              "    <tr>\n",
              "      <th>2</th>\n",
              "      <td>0.02729</td>\n",
              "      <td>0.0</td>\n",
              "      <td>7.07</td>\n",
              "      <td>0.0</td>\n",
              "      <td>0.469</td>\n",
              "      <td>7.185</td>\n",
              "      <td>61.1</td>\n",
              "      <td>4.9671</td>\n",
              "      <td>2.0</td>\n",
              "      <td>242.0</td>\n",
              "      <td>17.8</td>\n",
              "      <td>392.83</td>\n",
              "      <td>4.03</td>\n",
              "    </tr>\n",
              "    <tr>\n",
              "      <th>3</th>\n",
              "      <td>0.03237</td>\n",
              "      <td>0.0</td>\n",
              "      <td>2.18</td>\n",
              "      <td>0.0</td>\n",
              "      <td>0.458</td>\n",
              "      <td>6.998</td>\n",
              "      <td>45.8</td>\n",
              "      <td>6.0622</td>\n",
              "      <td>3.0</td>\n",
              "      <td>222.0</td>\n",
              "      <td>18.7</td>\n",
              "      <td>394.63</td>\n",
              "      <td>2.94</td>\n",
              "    </tr>\n",
              "    <tr>\n",
              "      <th>4</th>\n",
              "      <td>0.06905</td>\n",
              "      <td>0.0</td>\n",
              "      <td>2.18</td>\n",
              "      <td>0.0</td>\n",
              "      <td>0.458</td>\n",
              "      <td>7.147</td>\n",
              "      <td>54.2</td>\n",
              "      <td>6.0622</td>\n",
              "      <td>3.0</td>\n",
              "      <td>222.0</td>\n",
              "      <td>18.7</td>\n",
              "      <td>396.90</td>\n",
              "      <td>5.33</td>\n",
              "    </tr>\n",
              "    <tr>\n",
              "      <th>...</th>\n",
              "      <td>...</td>\n",
              "      <td>...</td>\n",
              "      <td>...</td>\n",
              "      <td>...</td>\n",
              "      <td>...</td>\n",
              "      <td>...</td>\n",
              "      <td>...</td>\n",
              "      <td>...</td>\n",
              "      <td>...</td>\n",
              "      <td>...</td>\n",
              "      <td>...</td>\n",
              "      <td>...</td>\n",
              "      <td>...</td>\n",
              "    </tr>\n",
              "    <tr>\n",
              "      <th>501</th>\n",
              "      <td>0.06263</td>\n",
              "      <td>0.0</td>\n",
              "      <td>11.93</td>\n",
              "      <td>0.0</td>\n",
              "      <td>0.573</td>\n",
              "      <td>6.593</td>\n",
              "      <td>69.1</td>\n",
              "      <td>2.4786</td>\n",
              "      <td>1.0</td>\n",
              "      <td>273.0</td>\n",
              "      <td>21.0</td>\n",
              "      <td>391.99</td>\n",
              "      <td>9.67</td>\n",
              "    </tr>\n",
              "    <tr>\n",
              "      <th>502</th>\n",
              "      <td>0.04527</td>\n",
              "      <td>0.0</td>\n",
              "      <td>11.93</td>\n",
              "      <td>0.0</td>\n",
              "      <td>0.573</td>\n",
              "      <td>6.120</td>\n",
              "      <td>76.7</td>\n",
              "      <td>2.2875</td>\n",
              "      <td>1.0</td>\n",
              "      <td>273.0</td>\n",
              "      <td>21.0</td>\n",
              "      <td>396.90</td>\n",
              "      <td>9.08</td>\n",
              "    </tr>\n",
              "    <tr>\n",
              "      <th>503</th>\n",
              "      <td>0.06076</td>\n",
              "      <td>0.0</td>\n",
              "      <td>11.93</td>\n",
              "      <td>0.0</td>\n",
              "      <td>0.573</td>\n",
              "      <td>6.976</td>\n",
              "      <td>91.0</td>\n",
              "      <td>2.1675</td>\n",
              "      <td>1.0</td>\n",
              "      <td>273.0</td>\n",
              "      <td>21.0</td>\n",
              "      <td>396.90</td>\n",
              "      <td>5.64</td>\n",
              "    </tr>\n",
              "    <tr>\n",
              "      <th>504</th>\n",
              "      <td>0.10959</td>\n",
              "      <td>0.0</td>\n",
              "      <td>11.93</td>\n",
              "      <td>0.0</td>\n",
              "      <td>0.573</td>\n",
              "      <td>6.794</td>\n",
              "      <td>89.3</td>\n",
              "      <td>2.3889</td>\n",
              "      <td>1.0</td>\n",
              "      <td>273.0</td>\n",
              "      <td>21.0</td>\n",
              "      <td>393.45</td>\n",
              "      <td>6.48</td>\n",
              "    </tr>\n",
              "    <tr>\n",
              "      <th>505</th>\n",
              "      <td>0.04741</td>\n",
              "      <td>0.0</td>\n",
              "      <td>11.93</td>\n",
              "      <td>0.0</td>\n",
              "      <td>0.573</td>\n",
              "      <td>6.030</td>\n",
              "      <td>80.8</td>\n",
              "      <td>2.5050</td>\n",
              "      <td>1.0</td>\n",
              "      <td>273.0</td>\n",
              "      <td>21.0</td>\n",
              "      <td>396.90</td>\n",
              "      <td>7.88</td>\n",
              "    </tr>\n",
              "  </tbody>\n",
              "</table>\n",
              "<p>506 rows × 13 columns</p>\n",
              "</div>"
            ],
            "text/plain": [
              "        CRIM    ZN  INDUS  CHAS    NOX  ...  RAD    TAX  PTRATIO       B  LSTAT\n",
              "0    0.00632  18.0   2.31   0.0  0.538  ...  1.0  296.0     15.3  396.90   4.98\n",
              "1    0.02731   0.0   7.07   0.0  0.469  ...  2.0  242.0     17.8  396.90   9.14\n",
              "2    0.02729   0.0   7.07   0.0  0.469  ...  2.0  242.0     17.8  392.83   4.03\n",
              "3    0.03237   0.0   2.18   0.0  0.458  ...  3.0  222.0     18.7  394.63   2.94\n",
              "4    0.06905   0.0   2.18   0.0  0.458  ...  3.0  222.0     18.7  396.90   5.33\n",
              "..       ...   ...    ...   ...    ...  ...  ...    ...      ...     ...    ...\n",
              "501  0.06263   0.0  11.93   0.0  0.573  ...  1.0  273.0     21.0  391.99   9.67\n",
              "502  0.04527   0.0  11.93   0.0  0.573  ...  1.0  273.0     21.0  396.90   9.08\n",
              "503  0.06076   0.0  11.93   0.0  0.573  ...  1.0  273.0     21.0  396.90   5.64\n",
              "504  0.10959   0.0  11.93   0.0  0.573  ...  1.0  273.0     21.0  393.45   6.48\n",
              "505  0.04741   0.0  11.93   0.0  0.573  ...  1.0  273.0     21.0  396.90   7.88\n",
              "\n",
              "[506 rows x 13 columns]"
            ]
          },
          "metadata": {},
          "execution_count": 7
        }
      ]
    },
    {
      "cell_type": "code",
      "metadata": {
        "id": "xWV7dcAsyyif",
        "colab": {
          "base_uri": "https://localhost:8080/",
          "height": 424
        },
        "outputId": "380eb6e4-0404-4d23-d70e-2232de428dcf"
      },
      "source": [
        "# 'target' below is the 14 column (named 'MEDV') of our dataset which contains\n",
        "# the price of houses depending on the fearutes listed.\n",
        "target = pd.DataFrame(boston.target, columns=['target'])\n",
        "target"
      ],
      "execution_count": null,
      "outputs": [
        {
          "output_type": "execute_result",
          "data": {
            "text/html": [
              "<div>\n",
              "<style scoped>\n",
              "    .dataframe tbody tr th:only-of-type {\n",
              "        vertical-align: middle;\n",
              "    }\n",
              "\n",
              "    .dataframe tbody tr th {\n",
              "        vertical-align: top;\n",
              "    }\n",
              "\n",
              "    .dataframe thead th {\n",
              "        text-align: right;\n",
              "    }\n",
              "</style>\n",
              "<table border=\"1\" class=\"dataframe\">\n",
              "  <thead>\n",
              "    <tr style=\"text-align: right;\">\n",
              "      <th></th>\n",
              "      <th>target</th>\n",
              "    </tr>\n",
              "  </thead>\n",
              "  <tbody>\n",
              "    <tr>\n",
              "      <th>0</th>\n",
              "      <td>24.0</td>\n",
              "    </tr>\n",
              "    <tr>\n",
              "      <th>1</th>\n",
              "      <td>21.6</td>\n",
              "    </tr>\n",
              "    <tr>\n",
              "      <th>2</th>\n",
              "      <td>34.7</td>\n",
              "    </tr>\n",
              "    <tr>\n",
              "      <th>3</th>\n",
              "      <td>33.4</td>\n",
              "    </tr>\n",
              "    <tr>\n",
              "      <th>4</th>\n",
              "      <td>36.2</td>\n",
              "    </tr>\n",
              "    <tr>\n",
              "      <th>...</th>\n",
              "      <td>...</td>\n",
              "    </tr>\n",
              "    <tr>\n",
              "      <th>501</th>\n",
              "      <td>22.4</td>\n",
              "    </tr>\n",
              "    <tr>\n",
              "      <th>502</th>\n",
              "      <td>20.6</td>\n",
              "    </tr>\n",
              "    <tr>\n",
              "      <th>503</th>\n",
              "      <td>23.9</td>\n",
              "    </tr>\n",
              "    <tr>\n",
              "      <th>504</th>\n",
              "      <td>22.0</td>\n",
              "    </tr>\n",
              "    <tr>\n",
              "      <th>505</th>\n",
              "      <td>11.9</td>\n",
              "    </tr>\n",
              "  </tbody>\n",
              "</table>\n",
              "<p>506 rows × 1 columns</p>\n",
              "</div>"
            ],
            "text/plain": [
              "     target\n",
              "0      24.0\n",
              "1      21.6\n",
              "2      34.7\n",
              "3      33.4\n",
              "4      36.2\n",
              "..      ...\n",
              "501    22.4\n",
              "502    20.6\n",
              "503    23.9\n",
              "504    22.0\n",
              "505    11.9\n",
              "\n",
              "[506 rows x 1 columns]"
            ]
          },
          "metadata": {},
          "execution_count": 8
        }
      ]
    },
    {
      "cell_type": "code",
      "metadata": {
        "id": "5lLki0Wmyyif",
        "colab": {
          "base_uri": "https://localhost:8080/",
          "height": 424
        },
        "outputId": "9eef5d17-41c8-43d5-c954-421fb71e6cc6"
      },
      "source": [
        "# Concatenate features and target into a single DataFrame.\n",
        "# axis=1 makes it concatenate column wise.\n",
        "df = pd.concat([features,target], axis=1)\n",
        "df"
      ],
      "execution_count": null,
      "outputs": [
        {
          "output_type": "execute_result",
          "data": {
            "text/html": [
              "<div>\n",
              "<style scoped>\n",
              "    .dataframe tbody tr th:only-of-type {\n",
              "        vertical-align: middle;\n",
              "    }\n",
              "\n",
              "    .dataframe tbody tr th {\n",
              "        vertical-align: top;\n",
              "    }\n",
              "\n",
              "    .dataframe thead th {\n",
              "        text-align: right;\n",
              "    }\n",
              "</style>\n",
              "<table border=\"1\" class=\"dataframe\">\n",
              "  <thead>\n",
              "    <tr style=\"text-align: right;\">\n",
              "      <th></th>\n",
              "      <th>CRIM</th>\n",
              "      <th>ZN</th>\n",
              "      <th>INDUS</th>\n",
              "      <th>CHAS</th>\n",
              "      <th>NOX</th>\n",
              "      <th>RM</th>\n",
              "      <th>AGE</th>\n",
              "      <th>DIS</th>\n",
              "      <th>RAD</th>\n",
              "      <th>TAX</th>\n",
              "      <th>PTRATIO</th>\n",
              "      <th>B</th>\n",
              "      <th>LSTAT</th>\n",
              "      <th>target</th>\n",
              "    </tr>\n",
              "  </thead>\n",
              "  <tbody>\n",
              "    <tr>\n",
              "      <th>0</th>\n",
              "      <td>0.00632</td>\n",
              "      <td>18.0</td>\n",
              "      <td>2.31</td>\n",
              "      <td>0.0</td>\n",
              "      <td>0.538</td>\n",
              "      <td>6.575</td>\n",
              "      <td>65.2</td>\n",
              "      <td>4.0900</td>\n",
              "      <td>1.0</td>\n",
              "      <td>296.0</td>\n",
              "      <td>15.3</td>\n",
              "      <td>396.90</td>\n",
              "      <td>4.98</td>\n",
              "      <td>24.0</td>\n",
              "    </tr>\n",
              "    <tr>\n",
              "      <th>1</th>\n",
              "      <td>0.02731</td>\n",
              "      <td>0.0</td>\n",
              "      <td>7.07</td>\n",
              "      <td>0.0</td>\n",
              "      <td>0.469</td>\n",
              "      <td>6.421</td>\n",
              "      <td>78.9</td>\n",
              "      <td>4.9671</td>\n",
              "      <td>2.0</td>\n",
              "      <td>242.0</td>\n",
              "      <td>17.8</td>\n",
              "      <td>396.90</td>\n",
              "      <td>9.14</td>\n",
              "      <td>21.6</td>\n",
              "    </tr>\n",
              "    <tr>\n",
              "      <th>2</th>\n",
              "      <td>0.02729</td>\n",
              "      <td>0.0</td>\n",
              "      <td>7.07</td>\n",
              "      <td>0.0</td>\n",
              "      <td>0.469</td>\n",
              "      <td>7.185</td>\n",
              "      <td>61.1</td>\n",
              "      <td>4.9671</td>\n",
              "      <td>2.0</td>\n",
              "      <td>242.0</td>\n",
              "      <td>17.8</td>\n",
              "      <td>392.83</td>\n",
              "      <td>4.03</td>\n",
              "      <td>34.7</td>\n",
              "    </tr>\n",
              "    <tr>\n",
              "      <th>3</th>\n",
              "      <td>0.03237</td>\n",
              "      <td>0.0</td>\n",
              "      <td>2.18</td>\n",
              "      <td>0.0</td>\n",
              "      <td>0.458</td>\n",
              "      <td>6.998</td>\n",
              "      <td>45.8</td>\n",
              "      <td>6.0622</td>\n",
              "      <td>3.0</td>\n",
              "      <td>222.0</td>\n",
              "      <td>18.7</td>\n",
              "      <td>394.63</td>\n",
              "      <td>2.94</td>\n",
              "      <td>33.4</td>\n",
              "    </tr>\n",
              "    <tr>\n",
              "      <th>4</th>\n",
              "      <td>0.06905</td>\n",
              "      <td>0.0</td>\n",
              "      <td>2.18</td>\n",
              "      <td>0.0</td>\n",
              "      <td>0.458</td>\n",
              "      <td>7.147</td>\n",
              "      <td>54.2</td>\n",
              "      <td>6.0622</td>\n",
              "      <td>3.0</td>\n",
              "      <td>222.0</td>\n",
              "      <td>18.7</td>\n",
              "      <td>396.90</td>\n",
              "      <td>5.33</td>\n",
              "      <td>36.2</td>\n",
              "    </tr>\n",
              "    <tr>\n",
              "      <th>...</th>\n",
              "      <td>...</td>\n",
              "      <td>...</td>\n",
              "      <td>...</td>\n",
              "      <td>...</td>\n",
              "      <td>...</td>\n",
              "      <td>...</td>\n",
              "      <td>...</td>\n",
              "      <td>...</td>\n",
              "      <td>...</td>\n",
              "      <td>...</td>\n",
              "      <td>...</td>\n",
              "      <td>...</td>\n",
              "      <td>...</td>\n",
              "      <td>...</td>\n",
              "    </tr>\n",
              "    <tr>\n",
              "      <th>501</th>\n",
              "      <td>0.06263</td>\n",
              "      <td>0.0</td>\n",
              "      <td>11.93</td>\n",
              "      <td>0.0</td>\n",
              "      <td>0.573</td>\n",
              "      <td>6.593</td>\n",
              "      <td>69.1</td>\n",
              "      <td>2.4786</td>\n",
              "      <td>1.0</td>\n",
              "      <td>273.0</td>\n",
              "      <td>21.0</td>\n",
              "      <td>391.99</td>\n",
              "      <td>9.67</td>\n",
              "      <td>22.4</td>\n",
              "    </tr>\n",
              "    <tr>\n",
              "      <th>502</th>\n",
              "      <td>0.04527</td>\n",
              "      <td>0.0</td>\n",
              "      <td>11.93</td>\n",
              "      <td>0.0</td>\n",
              "      <td>0.573</td>\n",
              "      <td>6.120</td>\n",
              "      <td>76.7</td>\n",
              "      <td>2.2875</td>\n",
              "      <td>1.0</td>\n",
              "      <td>273.0</td>\n",
              "      <td>21.0</td>\n",
              "      <td>396.90</td>\n",
              "      <td>9.08</td>\n",
              "      <td>20.6</td>\n",
              "    </tr>\n",
              "    <tr>\n",
              "      <th>503</th>\n",
              "      <td>0.06076</td>\n",
              "      <td>0.0</td>\n",
              "      <td>11.93</td>\n",
              "      <td>0.0</td>\n",
              "      <td>0.573</td>\n",
              "      <td>6.976</td>\n",
              "      <td>91.0</td>\n",
              "      <td>2.1675</td>\n",
              "      <td>1.0</td>\n",
              "      <td>273.0</td>\n",
              "      <td>21.0</td>\n",
              "      <td>396.90</td>\n",
              "      <td>5.64</td>\n",
              "      <td>23.9</td>\n",
              "    </tr>\n",
              "    <tr>\n",
              "      <th>504</th>\n",
              "      <td>0.10959</td>\n",
              "      <td>0.0</td>\n",
              "      <td>11.93</td>\n",
              "      <td>0.0</td>\n",
              "      <td>0.573</td>\n",
              "      <td>6.794</td>\n",
              "      <td>89.3</td>\n",
              "      <td>2.3889</td>\n",
              "      <td>1.0</td>\n",
              "      <td>273.0</td>\n",
              "      <td>21.0</td>\n",
              "      <td>393.45</td>\n",
              "      <td>6.48</td>\n",
              "      <td>22.0</td>\n",
              "    </tr>\n",
              "    <tr>\n",
              "      <th>505</th>\n",
              "      <td>0.04741</td>\n",
              "      <td>0.0</td>\n",
              "      <td>11.93</td>\n",
              "      <td>0.0</td>\n",
              "      <td>0.573</td>\n",
              "      <td>6.030</td>\n",
              "      <td>80.8</td>\n",
              "      <td>2.5050</td>\n",
              "      <td>1.0</td>\n",
              "      <td>273.0</td>\n",
              "      <td>21.0</td>\n",
              "      <td>396.90</td>\n",
              "      <td>7.88</td>\n",
              "      <td>11.9</td>\n",
              "    </tr>\n",
              "  </tbody>\n",
              "</table>\n",
              "<p>506 rows × 14 columns</p>\n",
              "</div>"
            ],
            "text/plain": [
              "        CRIM    ZN  INDUS  CHAS    NOX  ...    TAX  PTRATIO       B  LSTAT  target\n",
              "0    0.00632  18.0   2.31   0.0  0.538  ...  296.0     15.3  396.90   4.98    24.0\n",
              "1    0.02731   0.0   7.07   0.0  0.469  ...  242.0     17.8  396.90   9.14    21.6\n",
              "2    0.02729   0.0   7.07   0.0  0.469  ...  242.0     17.8  392.83   4.03    34.7\n",
              "3    0.03237   0.0   2.18   0.0  0.458  ...  222.0     18.7  394.63   2.94    33.4\n",
              "4    0.06905   0.0   2.18   0.0  0.458  ...  222.0     18.7  396.90   5.33    36.2\n",
              "..       ...   ...    ...   ...    ...  ...    ...      ...     ...    ...     ...\n",
              "501  0.06263   0.0  11.93   0.0  0.573  ...  273.0     21.0  391.99   9.67    22.4\n",
              "502  0.04527   0.0  11.93   0.0  0.573  ...  273.0     21.0  396.90   9.08    20.6\n",
              "503  0.06076   0.0  11.93   0.0  0.573  ...  273.0     21.0  396.90   5.64    23.9\n",
              "504  0.10959   0.0  11.93   0.0  0.573  ...  273.0     21.0  393.45   6.48    22.0\n",
              "505  0.04741   0.0  11.93   0.0  0.573  ...  273.0     21.0  396.90   7.88    11.9\n",
              "\n",
              "[506 rows x 14 columns]"
            ]
          },
          "metadata": {},
          "execution_count": 9
        }
      ]
    },
    {
      "cell_type": "markdown",
      "metadata": {
        "id": "qHRsu4LAyyig"
      },
      "source": [
        "### Using describe() to generate a summary of dataset\n",
        "The describe() method computes the following parameter for each column\n",
        "- count - Number of rows\n",
        "- mean - Mean of the column\n",
        "- std - Standard Deviation of the column\n",
        "- min - Minimum value in the column\n",
        "- max - Maximum value in the column\n",
        "- 25% - 25 percentile\n",
        "- 50% - 50 percentile\n",
        "- 75% - 75 percentile\n",
        "\n",
        "Percentile - A percentile (centile) is a measure used in statistics indicating the value below which a given percentage of observations in a group of observations fails."
      ]
    },
    {
      "cell_type": "code",
      "metadata": {
        "id": "9gHONxo-yyig",
        "colab": {
          "base_uri": "https://localhost:8080/",
          "height": 300
        },
        "outputId": "41f59cd5-4122-4ac2-b0aa-f6a3e7998b34"
      },
      "source": [
        "# using round(decimals=2) to set the precision to 2 decimal places.\n",
        "df.describe().round(decimals=2)"
      ],
      "execution_count": null,
      "outputs": [
        {
          "output_type": "execute_result",
          "data": {
            "text/html": [
              "<div>\n",
              "<style scoped>\n",
              "    .dataframe tbody tr th:only-of-type {\n",
              "        vertical-align: middle;\n",
              "    }\n",
              "\n",
              "    .dataframe tbody tr th {\n",
              "        vertical-align: top;\n",
              "    }\n",
              "\n",
              "    .dataframe thead th {\n",
              "        text-align: right;\n",
              "    }\n",
              "</style>\n",
              "<table border=\"1\" class=\"dataframe\">\n",
              "  <thead>\n",
              "    <tr style=\"text-align: right;\">\n",
              "      <th></th>\n",
              "      <th>CRIM</th>\n",
              "      <th>ZN</th>\n",
              "      <th>INDUS</th>\n",
              "      <th>CHAS</th>\n",
              "      <th>NOX</th>\n",
              "      <th>RM</th>\n",
              "      <th>AGE</th>\n",
              "      <th>DIS</th>\n",
              "      <th>RAD</th>\n",
              "      <th>TAX</th>\n",
              "      <th>PTRATIO</th>\n",
              "      <th>B</th>\n",
              "      <th>LSTAT</th>\n",
              "      <th>target</th>\n",
              "    </tr>\n",
              "  </thead>\n",
              "  <tbody>\n",
              "    <tr>\n",
              "      <th>count</th>\n",
              "      <td>506.00</td>\n",
              "      <td>506.00</td>\n",
              "      <td>506.00</td>\n",
              "      <td>506.00</td>\n",
              "      <td>506.00</td>\n",
              "      <td>506.00</td>\n",
              "      <td>506.00</td>\n",
              "      <td>506.00</td>\n",
              "      <td>506.00</td>\n",
              "      <td>506.00</td>\n",
              "      <td>506.00</td>\n",
              "      <td>506.00</td>\n",
              "      <td>506.00</td>\n",
              "      <td>506.00</td>\n",
              "    </tr>\n",
              "    <tr>\n",
              "      <th>mean</th>\n",
              "      <td>3.61</td>\n",
              "      <td>11.36</td>\n",
              "      <td>11.14</td>\n",
              "      <td>0.07</td>\n",
              "      <td>0.55</td>\n",
              "      <td>6.28</td>\n",
              "      <td>68.57</td>\n",
              "      <td>3.80</td>\n",
              "      <td>9.55</td>\n",
              "      <td>408.24</td>\n",
              "      <td>18.46</td>\n",
              "      <td>356.67</td>\n",
              "      <td>12.65</td>\n",
              "      <td>22.53</td>\n",
              "    </tr>\n",
              "    <tr>\n",
              "      <th>std</th>\n",
              "      <td>8.60</td>\n",
              "      <td>23.32</td>\n",
              "      <td>6.86</td>\n",
              "      <td>0.25</td>\n",
              "      <td>0.12</td>\n",
              "      <td>0.70</td>\n",
              "      <td>28.15</td>\n",
              "      <td>2.11</td>\n",
              "      <td>8.71</td>\n",
              "      <td>168.54</td>\n",
              "      <td>2.16</td>\n",
              "      <td>91.29</td>\n",
              "      <td>7.14</td>\n",
              "      <td>9.20</td>\n",
              "    </tr>\n",
              "    <tr>\n",
              "      <th>min</th>\n",
              "      <td>0.01</td>\n",
              "      <td>0.00</td>\n",
              "      <td>0.46</td>\n",
              "      <td>0.00</td>\n",
              "      <td>0.38</td>\n",
              "      <td>3.56</td>\n",
              "      <td>2.90</td>\n",
              "      <td>1.13</td>\n",
              "      <td>1.00</td>\n",
              "      <td>187.00</td>\n",
              "      <td>12.60</td>\n",
              "      <td>0.32</td>\n",
              "      <td>1.73</td>\n",
              "      <td>5.00</td>\n",
              "    </tr>\n",
              "    <tr>\n",
              "      <th>25%</th>\n",
              "      <td>0.08</td>\n",
              "      <td>0.00</td>\n",
              "      <td>5.19</td>\n",
              "      <td>0.00</td>\n",
              "      <td>0.45</td>\n",
              "      <td>5.89</td>\n",
              "      <td>45.02</td>\n",
              "      <td>2.10</td>\n",
              "      <td>4.00</td>\n",
              "      <td>279.00</td>\n",
              "      <td>17.40</td>\n",
              "      <td>375.38</td>\n",
              "      <td>6.95</td>\n",
              "      <td>17.02</td>\n",
              "    </tr>\n",
              "    <tr>\n",
              "      <th>50%</th>\n",
              "      <td>0.26</td>\n",
              "      <td>0.00</td>\n",
              "      <td>9.69</td>\n",
              "      <td>0.00</td>\n",
              "      <td>0.54</td>\n",
              "      <td>6.21</td>\n",
              "      <td>77.50</td>\n",
              "      <td>3.21</td>\n",
              "      <td>5.00</td>\n",
              "      <td>330.00</td>\n",
              "      <td>19.05</td>\n",
              "      <td>391.44</td>\n",
              "      <td>11.36</td>\n",
              "      <td>21.20</td>\n",
              "    </tr>\n",
              "    <tr>\n",
              "      <th>75%</th>\n",
              "      <td>3.68</td>\n",
              "      <td>12.50</td>\n",
              "      <td>18.10</td>\n",
              "      <td>0.00</td>\n",
              "      <td>0.62</td>\n",
              "      <td>6.62</td>\n",
              "      <td>94.07</td>\n",
              "      <td>5.19</td>\n",
              "      <td>24.00</td>\n",
              "      <td>666.00</td>\n",
              "      <td>20.20</td>\n",
              "      <td>396.22</td>\n",
              "      <td>16.96</td>\n",
              "      <td>25.00</td>\n",
              "    </tr>\n",
              "    <tr>\n",
              "      <th>max</th>\n",
              "      <td>88.98</td>\n",
              "      <td>100.00</td>\n",
              "      <td>27.74</td>\n",
              "      <td>1.00</td>\n",
              "      <td>0.87</td>\n",
              "      <td>8.78</td>\n",
              "      <td>100.00</td>\n",
              "      <td>12.13</td>\n",
              "      <td>24.00</td>\n",
              "      <td>711.00</td>\n",
              "      <td>22.00</td>\n",
              "      <td>396.90</td>\n",
              "      <td>37.97</td>\n",
              "      <td>50.00</td>\n",
              "    </tr>\n",
              "  </tbody>\n",
              "</table>\n",
              "</div>"
            ],
            "text/plain": [
              "         CRIM      ZN   INDUS    CHAS  ...  PTRATIO       B   LSTAT  target\n",
              "count  506.00  506.00  506.00  506.00  ...   506.00  506.00  506.00  506.00\n",
              "mean     3.61   11.36   11.14    0.07  ...    18.46  356.67   12.65   22.53\n",
              "std      8.60   23.32    6.86    0.25  ...     2.16   91.29    7.14    9.20\n",
              "min      0.01    0.00    0.46    0.00  ...    12.60    0.32    1.73    5.00\n",
              "25%      0.08    0.00    5.19    0.00  ...    17.40  375.38    6.95   17.02\n",
              "50%      0.26    0.00    9.69    0.00  ...    19.05  391.44   11.36   21.20\n",
              "75%      3.68   12.50   18.10    0.00  ...    20.20  396.22   16.96   25.00\n",
              "max     88.98  100.00   27.74    1.00  ...    22.00  396.90   37.97   50.00\n",
              "\n",
              "[8 rows x 14 columns]"
            ]
          },
          "metadata": {},
          "execution_count": 10
        }
      ]
    },
    {
      "cell_type": "code",
      "metadata": {
        "id": "LDfAQbmTyyig",
        "colab": {
          "base_uri": "https://localhost:8080/",
          "height": 265
        },
        "outputId": "53428b96-2468-4b08-8ed0-924d06f6d735"
      },
      "source": [
        "## Let's create univariate plot for looking at the relations between data.\n",
        "df.plot(kind='box', subplots=True, layout=(2,7), sharex=False, sharey=False)\n",
        "plt.show()"
      ],
      "execution_count": null,
      "outputs": [
        {
          "output_type": "display_data",
          "data": {
            "image/png": "[encoded data removed]",
            "text/plain": [
              "<Figure size 432x288 with 14 Axes>"
            ]
          },
          "metadata": {
            "needs_background": "light"
          }
        }
      ]
    },
    {
      "cell_type": "code",
      "metadata": {
        "id": "tgD8odYeyyig",
        "colab": {
          "base_uri": "https://localhost:8080/",
          "height": 268
        },
        "outputId": "439649d8-630c-462b-c1ee-55b68fd67056"
      },
      "source": [
        "# df.hist()\n",
        "df.plot(kind='hist', subplots=True, layout=(4,4), sharex=False, sharey=False)\n",
        "plt.show()"
      ],
      "execution_count": null,
      "outputs": [
        {
          "output_type": "display_data",
          "data": {
            "image/png": "[encoded data removed]",
            "text/plain": [
              "<Figure size 432x288 with 16 Axes>"
            ]
          },
          "metadata": {
            "needs_background": "light"
          }
        }
      ]
    },
    {
      "cell_type": "code",
      "metadata": {
        "id": "dwTK159Eyyih",
        "colab": {
          "base_uri": "https://localhost:8080/",
          "height": 820
        },
        "outputId": "d3e3f849-1e99-42d0-fbc5-7f8fac493385"
      },
      "source": [
        "# # Let's see the scattered matrix for our dataset.\n",
        "# scatter_matrix(df)\n",
        "# plt.show()\n",
        "df.plot(kind=\"scatter\", x=\"LSTAT\", y=\"target\", alpha=0.8)\n",
        "df.plot(kind=\"scatter\", x=\"RM\", y=\"target\", alpha=0.8)\n",
        "df.plot(kind=\"scatter\", x=\"PTRATIO\", y=\"target\", alpha=0.8)"
      ],
      "execution_count": null,
      "outputs": [
        {
          "output_type": "execute_result",
          "data": {
            "text/plain": [
              "<matplotlib.axes._subplots.AxesSubplot at 0x7f38a0a49910>"
            ]
          },
          "metadata": {},
          "execution_count": 13
        },
        {
          "output_type": "display_data",
          "data": {
            "image/png": "[encoded data removed]",
            "text/plain": [
              "<Figure size 432x288 with 1 Axes>"
            ]
          },
          "metadata": {
            "needs_background": "light"
          }
        },
        {
          "output_type": "display_data",
          "data": {
            "image/png": "[encoded data removed]",
            "text/plain": [
              "<Figure size 432x288 with 1 Axes>"
            ]
          },
          "metadata": {
            "needs_background": "light"
          }
        },
        {
          "output_type": "display_data",
          "data": {
            "image/png": "[encoded data removed]",
            "text/plain": [
              "<Figure size 432x288 with 1 Axes>"
            ]
          },
          "metadata": {
            "needs_background": "light"
          }
        }
      ]
    },
    {
      "cell_type": "code",
      "metadata": {
        "id": "CyC6CYmCyyih",
        "colab": {
          "base_uri": "https://localhost:8080/",
          "height": 334
        },
        "outputId": "1810bce8-52b1-426d-bc33-6b711714402c"
      },
      "source": [
        "# Calculate correlatioin between every column on the data\n",
        "corr = df.corr('pearson')\n",
        "\n",
        "# Take absolute values of correlation\n",
        "corrs = [abs(corr[attr]['target']) for attr in list(features)]\n",
        "\n",
        "# Make a list of pairs [(corr, feature)]\n",
        "l = list(zip(corrs, list(features)))\n",
        "\n",
        "# Sort the list of pairs in reverse/descending order,\n",
        "# with the correlation value ('x[0]' here) as the key for sorting\n",
        "l.sort(key= lambda x: x[0], reverse=True)\n",
        "\n",
        "# \"Unzip\" pairs to two lists\n",
        "# zip(*l) - takes a list that looks like [[a,b,c], [d,e,f], [g,h,i]]\n",
        "# and returns [[a,d,g], [b,e,h], [c,f,i]]\n",
        "corrs, labels = list(zip((*l)))\n",
        "\n",
        "# Plot correlations with respect to the target variable as a bar graph\n",
        "index = np.arange(len(labels))\n",
        "plt.figure(figsize=(15,5))\n",
        "plt.bar(index, corrs, width=0.5)\n",
        "plt.xlabel('Attributes')\n",
        "plt.ylabel('Correlation with the target variable')\n",
        "plt.xticks(index, labels)\n",
        "plt.show()"
      ],
      "execution_count": null,
      "outputs": [
        {
          "output_type": "display_data",
          "data": {
            "image/png": "[encoded data removed]",
            "text/plain": [
              "<Figure size 1080x360 with 1 Axes>"
            ]
          },
          "metadata": {
            "needs_background": "light"
          }
        }
      ]
    },
    {
      "cell_type": "markdown",
      "metadata": {
        "id": "WJ-qQuPKyyii"
      },
      "source": [
        "# We observe from the bar graph generated above, that LSAT & RM have the two highest absolute correlation values."
      ]
    },
    {
      "cell_type": "markdown",
      "metadata": {
        "id": "2BBhfA8pyyii"
      },
      "source": [
        "## Normalize the Data\n",
        "Normalize the data with MinMaxScaler"
      ]
    },
    {
      "cell_type": "code",
      "metadata": {
        "id": "ZQwJJbIpyyii"
      },
      "source": [
        "X = df['LSTAT'].values\n",
        "Y = df['target'].values"
      ],
      "execution_count": null,
      "outputs": []
    },
    {
      "cell_type": "code",
      "metadata": {
        "id": "hTvz_N8ayyii"
      },
      "source": [
        "# creating objects of MinMaxScaler as 'x_scaler' and 'y_scaler'.\n",
        "x_scaler = MinMaxScaler()\n",
        "X = x_scaler.fit_transform(X.reshape(-1, 1))\n",
        "X = X[:, -1]\n",
        "y_scaler = MinMaxScaler()\n",
        "Y = y_scaler.fit_transform(Y.reshape(-1, 1))\n",
        "Y = Y[:, -1]"
      ],
      "execution_count": null,
      "outputs": []
    },
    {
      "cell_type": "markdown",
      "metadata": {
        "id": "VeD5CWeHyyij"
      },
      "source": [
        "# Step 2: Define Error"
      ]
    },
    {
      "cell_type": "markdown",
      "metadata": {
        "id": "soKMmQqbyyij"
      },
      "source": [
        "There are many ways to calculate errors like:\n",
        "- MSE - Mean Square Error\n",
        "- MAE - Mean Absolute Error\n",
        "- CEL - Cross Entropy Loss (Used for classification methods)\n",
        "\n",
        "Here we will be using MSE as it makes it easy to calculate gradients for linear regression models.\n",
        "$$ MSE = \\frac{1}{n} \\sum_{i=1}^{n} (X_i^* - X_i)^2 $$"
      ]
    },
    {
      "cell_type": "code",
      "metadata": {
        "id": "M3lYImN2yyij"
      },
      "source": [
        "def error(m, x, c, t):\n",
        "    N = x.size\n",
        "    e = sum(((m*x+c) - t)**2)\n",
        "    return e*(1/(N))"
      ],
      "execution_count": null,
      "outputs": []
    },
    {
      "cell_type": "markdown",
      "metadata": {
        "id": "AgWDLcS0yyij"
      },
      "source": [
        "# Step 3: Split the Data"
      ]
    },
    {
      "cell_type": "markdown",
      "metadata": {
        "id": "MAqGKj-Dyyik"
      },
      "source": [
        "- **Split the data into training and testing data:** The data is split before the training step and the samples in the set of data do not change during the course of the training process.\n",
        "- **Cross Validation:** Split the data into equal chunks. At each step of training, choose one chunk of data as training data and other chunk as testing data."
      ]
    },
    {
      "cell_type": "markdown",
      "metadata": {
        "id": "cyMfWLaJyyik"
      },
      "source": [
        "### Splitting the data into fixed sets."
      ]
    },
    {
      "cell_type": "code",
      "metadata": {
        "colab": {
          "base_uri": "https://localhost:8080/"
        },
        "id": "CqVVT36Zyyik",
        "outputId": "dcc30bd8-3167-41f9-cd10-652ab25559b7"
      },
      "source": [
        "# 0.2 indicates 20% of the data is randomly sampled as testing data.\n",
        "xtrain, xtest, ytrain, ytest = train_test_split(X, Y, test_size=0.2, random_state=42)\n",
        "print(f\"Rows in train set: {len(ytrain)}\\nRows in test set: {len(ytest)}\\n\")"
      ],
      "execution_count": null,
      "outputs": [
        {
          "output_type": "stream",
          "name": "stdout",
          "text": [
            "Rows in train set: 404\n",
            "Rows in test set: 102\n",
            "\n"
          ]
        }
      ]
    },
    {
      "cell_type": "markdown",
      "metadata": {
        "id": "snVT-rliyyik"
      },
      "source": [
        "## Step 4: Build the Model"
      ]
    },
    {
      "cell_type": "code",
      "metadata": {
        "id": "o_AbRN4byyik"
      },
      "source": [
        "def update(m, x, c, t, learning_rate):\n",
        "    grad_m = sum(2*((m*x + c) - t)*x)\n",
        "    grad_c = sum(2*((m*x + c) - t))\n",
        "    m = m-grad_m * learning_rate\n",
        "    c = c-grad_c * learning_rate\n",
        "    return m, c"
      ],
      "execution_count": null,
      "outputs": []
    },
    {
      "cell_type": "markdown",
      "metadata": {
        "id": "ONgoCHZeyyil"
      },
      "source": [
        "**Error Threshold**: If the error fall below the threshold, the gradient descent process is stopped and the weights are returned"
      ]
    },
    {
      "cell_type": "code",
      "metadata": {
        "id": "HEpg7Jrkyyil"
      },
      "source": [
        "def gradient_descent(init_m, init_c, x, t, learning_rate, iterations, error_threshold):\n",
        "    m = init_m\n",
        "    c = init_c\n",
        "    error_values = list()\n",
        "    mc_values = list()\n",
        "    for i in range(iterations):\n",
        "        e = error(m, x, c, t)\n",
        "        if e < error_threshold:\n",
        "            print(\"Error less than the threshold.\\nStopping gradient descent\")\n",
        "            break\n",
        "        error_values.append(e)\n",
        "        m, c = update(m, x, c, t, learning_rate)\n",
        "        # the values of m and c returned from 'update' function are larger\n",
        "        # hence we have rounded them to 5 decimal places.\n",
        "        m = m.round(decimals=5)\n",
        "        c = c.round(decimals=5)\n",
        "        mc_values.append((m,c))\n",
        "    return m, c, error_values, mc_values"
      ],
      "execution_count": null,
      "outputs": []
    },
    {
      "cell_type": "code",
      "metadata": {
        "scrolled": true,
        "colab": {
          "base_uri": "https://localhost:8080/"
        },
        "id": "JHloBw0Yyyil",
        "outputId": "ef9e65a6-49c8-4f42-d733-60ef77495f29"
      },
      "source": [
        "%%time\n",
        "init_m = 0.9\n",
        "init_c = 0\n",
        "learning_rate = 0.001\n",
        "iterations = 250\n",
        "error_threshold = 0.001\n",
        "\n",
        "\n",
        "m, c, error_values, mc_values = gradient_descent(init_m, init_c, xtrain, ytrain, learning_rate, iterations, error_threshold)"
      ],
      "execution_count": null,
      "outputs": [
        {
          "output_type": "stream",
          "name": "stdout",
          "text": [
            "CPU times: user 70.8 ms, sys: 19 µs, total: 70.8 ms\n",
            "Wall time: 72.9 ms\n"
          ]
        }
      ]
    },
    {
      "cell_type": "code",
      "metadata": {
        "colab": {
          "base_uri": "https://localhost:8080/"
        },
        "id": "V0rHgDCHyyil",
        "outputId": "b14534a1-e169-434f-8a4d-5bc902346ca3"
      },
      "source": [
        "print(len(mc_values))\n",
        "print(len(error_values))"
      ],
      "execution_count": null,
      "outputs": [
        {
          "output_type": "stream",
          "name": "stdout",
          "text": [
            "250\n",
            "250\n"
          ]
        }
      ]
    },
    {
      "cell_type": "markdown",
      "metadata": {
        "id": "yWhd-pvCyyil"
      },
      "source": [
        "## Animation may take a minute or more to get processed.\n",
        "Therefore selecting every 5th value to reduce the processing time."
      ]
    },
    {
      "cell_type": "code",
      "metadata": {
        "id": "0pBZRdXoyyim"
      },
      "source": [
        "# As the number of iteration increases, changes in the line are less noticable.\n",
        "# In order to reduce the processing time for the animation, it is advised to choose smaller values.\n",
        "mc_values_anim = mc_values[::5]"
      ],
      "execution_count": null,
      "outputs": []
    },
    {
      "cell_type": "code",
      "metadata": {
        "id": "TANrmfqOyyim",
        "colab": {
          "base_uri": "https://localhost:8080/",
          "height": 561
        },
        "outputId": "2b109377-7cf6-4fd3-cc5e-434208e9a24c"
      },
      "source": [
        "fig, ax = plt.subplots()\n",
        "ln, = plt.plot([],[], 'ro-', animated=True)\n",
        "\n",
        "\n",
        "def init():\n",
        "    plt.scatter(xtrain, ytrain, color='g')\n",
        "    ax.set_xlim(0, 1.0)\n",
        "    ax.set_ylim(0, 1.0)\n",
        "    return ln,\n",
        "\n",
        "def update_frame(frame):\n",
        "    m, c = mc_values_anim[frame]\n",
        "    x1, y1 = -0.5, m* -.5 + c\n",
        "    x2, y2 = 1.5, m* 1.5 + c\n",
        "    ln.set_data([x1,x2], [y1,y2])\n",
        "    return ln,\n",
        "\n",
        "\n",
        "anim = FuncAnimation(fig, update_frame, frames=range(len(mc_values_anim)), init_func=init, blit=True)\n",
        "HTML(anim.to_html5_video())"
      ],
      "execution_count": null,
      "outputs": [
        {
          "output_type": "execute_result",
          "data": {
            "text/html": [
              "<video width=\"432\" height=\"288\" controls autoplay loop>\n",
              "  <source type=\"video/mp4\" src=\"data:video/mp4;base64,AAAAHGZ0eXBNNFYgAAACAGlzb21pc28yYXZjMQAAAAhmcmVlAADFUW1kYXQAAAKtBgX//6ncRem9\n",
              "5tlIt5Ys2CDZI+7veDI2NCAtIGNvcmUgMTUyIHIyODU0IGU5YTU5MDMgLSBILjI2NC9NUEVHLTQg\n",
              "QVZDIGNvZGVjIC0gQ29weWxlZnQgMjAwMy0yMDE3IC0gaHR0cDovL3d3dy52aWRlb2xhbi5vcmcv\n",
              "eDI2NC5odG1sIC0gb3B0aW9uczogY2FiYWM9MSByZWY9MyBkZWJsb2NrPTE6MDowIGFuYWx5c2U9\n",
              "MHgzOjB4MTEzIG1lPWhleCBzdWJtZT03IHBzeT0xIHBzeV9yZD0xLjAwOjAuMDAgbWl4ZWRfcmVm\n",
              "PTEgbWVfcmFuZ2U9MTYgY2hyb21hX21lPTEgdHJlbGxpcz0xIDh4OGRjdD0xIGNxbT0wIGRlYWR6\n",
              "b25lPTIxLDExIGZhc3RfcHNraXA9MSBjaHJvbWFfcXBfb2Zmc2V0PS0yIHRocmVhZHM9MyBsb29r\n",
              "YWhlYWRfdGhyZWFkcz0xIHNsaWNlZF90aHJlYWRzPTAgbnI9MCBkZWNpbWF0ZT0xIGludGVybGFj\n",
              "ZWQ9MCBibHVyYXlfY29tcGF0PTAgY29uc3RyYWluZWRfaW50cmE9MCBiZnJhbWVzPTMgYl9weXJh\n",
              "bWlkPTIgYl9hZGFwdD0xIGJfYmlhcz0wIGRpcmVjdD0xIHdlaWdodGI9MSBvcGVuX2dvcD0wIHdl\n",
              "aWdodHA9MiBrZXlpbnQ9MjUwIGtleWludF9taW49NSBzY2VuZWN1dD00MCBpbnRyYV9yZWZyZXNo\n",
              "PTAgcmNfbG9va2FoZWFkPTQwIHJjPWNyZiBtYnRyZWU9MSBjcmY9MjMuMCBxY29tcD0wLjYwIHFw\n",
              "bWluPTAgcXBtYXg9NjkgcXBzdGVwPTQgaXBfcmF0aW89MS40MCBhcT0xOjEuMDAAgAAAQvBliIQA\n",
              "E//+97GPgU3IAA2XOop6H+EVsfSQUXqx2aBk6gAAAwAAiYH638JRwsQHwht3BudId0Uq2fQAIbty\n",
              "qmwF8gX0LLzk2vyiTGtHdrlUU0pvR9E1IWLAAGdLElzm0F+YKb0MJhE+T2NumtX7TTF8pigVhe0e\n",
              "r977kTqG3rWhSuI4WldWhyiZMW2mxwklk9u21aQfI9h6ATTXzRwEwGZa3zZxtFyLCSx6LKotsfAE\n",
              "GgboxzYNW7oGdCVabybv6jc38AoymLuM02OuGNccxMULEDP7Zi26iS6rX/LVIYxhJZgfe0XbIBSa\n",
              "c7Zbt5jYiSrOYFIhxIdxJxlt5BoZexbZscGVBQ50jJoarv6StCovCMXXVqnw7nocGzEG7gURSVZQ\n",
              "FY/tY8H/ezO9MNQKxNDD+8txZXES67Ak06LmL5m1AcjI3BRY/cs3WzVlLmWTGb+BTckpYKgRClFE\n",
              "ciWrbJnZRaB9Qtb2NlxYzZxKDzTaQPGWC13D5pnEq/jTl6xRFD2/XW9X0JzVL+GCXfbrkbUaMwCx\n",
              "IWBH95j9dkmXLhbcgaPmYoFiPjU0P9fvDVa9/dmqW+om4NBDkj9TFUTnsuEe2jXUKZYJ1zilKHap\n",
              "2c8TbU3/E0NMrx6YpRTObI4l4rj56GEgO+OCtXAmcB0pikDvgS+IadVis3tgB9bZKjT6ymL0lAtr\n",
              "QQQj0p4hHpgJsZX/2HgwQ4wOldI+PCZ/G1Om9KePXTkdgLfCwbVIGU8Gblmmr1NmuV+L3gWfToyx\n",
              "jEu0dzVOZ8SooJjdxLf4JdIAK1K/DoGFq5MypsJSk/CtjIh5VLzPg/STUyarMrzkypah0XYN8Net\n",
              "gv/x2yHwLWXn0hauzqwnv1p8uESJMOsxBqM/XbBY2fkg3UsBPWV7S9xiIwwkJOfGR4Kimk4643BH\n",
              "jaaF72SEEPL1IwLPd1izPI2ukVN6iuiJXmIlWA7Ar75XmYJn0qFTByKNVxnphKPzNoYxg1zzPI1N\n",
              "gXY1kvhLbclanJtp3FBI59rD4buFbM2RDNP6ScrZmd3P9vIhg7T4b/6sve9b/TPIT+Ta2iywfWOK\n",
              "B/HioqQfQxvOPU8aq+BcH4j1bJ9e7yFBsAuPcF/mxL16ovFbu3oljmpfgl14CHpOQ2+Ah32PmK2h\n",
              "V/M2wu6HPw7OrGG74yFrQ7So4AjiEo//IwWEFcm4QaEb8N59uqZ+rVJ7oZI9dacspFL0RggMZI8r\n",
              "4zRf2oHRxziD7W25K8IpCoIQxkou6ic4SPw/bWiLiHVRnglkw39WsTTjfj3e8d6+bOZbllbYR38g\n",
              "HRlkaF/jG+42ywYRa84TYErQ/lMcY50+SjJZTpSbED/XQJJfnq5ZUvFqmw67sl/vXQ/zKlJ+TT5A\n",
              "XaCdMYvg1vUYFE6kGK5LeESUVRvHpBvg7E8Hb4kuon+NUHgvGb5ls6SC0KQU3BZKK3PJqpMzsqTU\n",
              "A6OGe9jXP9uLvT7m0SiXwVUIBAmjE5+S9G+yEdNyq8570swufZl/DxjtzuVilxKT0ekD5Yx+ptKi\n",
              "C5CLjtnHU7Ntpl8POnXKIRza2hvcfQCvKXQjxLkCr7BLYnxrTXTQ60r/wZ/wVv/Znv6QM3wNi6jb\n",
              "NeK66rQpo882hTs0XM0kC6ZXvp/xfXHbm4TUddavdDzI3Fn1NQXommO4K9nqXsef3yu75vcbcTqv\n",
              "uvUXN99K/q5v5QX/hCArkT9fmjwOv6iaNoKRxKUP6oX/SlFtamJC1yKbsWl0EGzDu9S4qoBeYdmp\n",
              "/OUiv0oc+UXqi6l++GJVCRT29nK2mZ2LhkEvKDUBIEcNnZu16Ev5ZS/Bb06vouQpqH3dXweNM/bL\n",
              "6Iw40vB8CA3iPQp6VJKcEWiqp/T3V/q4luSfZnRRnoGXxLjjPAKUZQIogRGxMgQNcCrinhV3eOiF\n",
              "EDe62bkIRzLrZQuAGL7gKzI6PBxZY96pGwWIsCZ/ti95IJbhIOEjH/OycC4wr5bFMX4s4EUoqjGe\n",
              "cN0ViY90yhz8kxGUDEQ2TeB8xalhyrUh9kjEeWPqV/a19dB5wAJtUgg6gL4thbUlmynwUjIyUcFo\n",
              "5VR5W5bjd1KD8oTFH31Xyq0qK2VClWMSWHAXCY6FMamyOZNp8JJdWTQMajsJ3wElAcuM3jRYAm2l\n",
              "x4z/m5hOoiDP2lPbnjQDuMINS0rI7/GgHIETVnAGueOjveihH27xEyXzxlullcGlfju87S+LU+1o\n",
              "/IUXzqUVzydRRB/EZzgsrOrR7H+Z7dVnEXwGcibsmoKKW/R2kwY19AF2F3Q5FsVRKq16ocgIXd6M\n",
              "joKJOw3XNNRLOvAUfQsFxwnj3HNaAuCvjJf8h0XWMhlwYZfUzsYpWPtSaooWh2uLmj2d6DwMURrl\n",
              "nDESU6W1sFBPbCLQmUSjb/4XsEOFDO7d7H/ruWrqJWrnCDJo81M75tE+TLJaeO/S2IzHlxWR3Y+x\n",
              "RtXvT+vaEdfwdgVyIyRx5/64T0lQ5DlQNIw4mLSKwwqsW5iscv/Nr4Wkh0mTe9OQpiukm6GGODGI\n",
              "no+R8s8dcZxWVZ2QMzXhxf4b0ln/AtBNx4Nzx2uxyV2TiLTc/p/JbmgUXz4dmU86XmspP+7/beRt\n",
              "42JFJZWsZP0nvvG/6wUs1oizduuDXbFnGv0LywBbm//sEXsa2EXNcXlvtfCCJzqP7Skfpa0IwAeF\n",
              "+IaP2qpVPJ6yE9eduPVnMNYygPfKaFmiPrDcM+1FnF5mqWzYxISCsLH1eiO0BjyDr8O8rM57oqrg\n",
              "mwmkQ1wAFfkh58JoQ2bEvfiG3JmqmJfZ69e1lIYkG45dUaD5NXT3T8FWNOWA64wi0CyCE4LVh2ye\n",
              "YUcSr1nTjVYKVpHzOpNU31LTbPLAmllzA7SlXSJx5Kb4L7WiDxTq/BrIBW8Qi5VWRQ+/sUQSjKZn\n",
              "0i1D/zDz4RYChZTJsyP3ays+3TNKjuu2CoU5xUIrVYhnkDoz60eY8V61Fl3Rz2gXYeSzXbcT2jKs\n",
              "C4riGxAtNzOPncB0jOlNFD3jRwp39ZzG+dkBuHAMiz63VEInYtPzN2Ec2F5RaZdHQsxSeO+Hmb3i\n",
              "cTYy7inAP5/bV0kRVXk0U4vF35n1y5teFyzud9g3vatQABDQYJXFnVSwmapH5vW77+zRGhhlBRRl\n",
              "n5wqe1gqpQJpGhd/3t4KenjQ0LofL0nS/vzH4rd7JfUb2IjQeMxp9HXBJZtrY0bP2k2r3wiGzhXc\n",
              "QIVAGIK2/99ntitWTZDlzJ1S1fQycdSbWEOW+h396jiGFK3xf4XO5/tYfHj3e5+gBkD6My7Taqht\n",
              "dcpYpZ9xEO4Xx5fOpN3jZcT2zCt48Y5DXdVpBLJKgGFKY9IsBzQuuSFMPuebn7Xi/onzNo9O3eY4\n",
              "vjpYD1ooqy4GbZphs8mhWRadcZ7A8zWQsJEyTxptF4kGENq/L02j/zKwbuJ2fABd7t0CAVeD//GH\n",
              "UgJlgrsFHUzpBLQ8r8yowocY2omMU2whJOlVAliEXXX2+77MP2YT0jk0LixYhafNud9DVsvfaT8d\n",
              "oK7eoI4Xtf/97iK2+X8PCYWsRED/VhugPwVxqBZb7ZMskNLRC1hviug68dy+d8I9dDYyKOoC06LP\n",
              "gYE481B/XTzCRvGqyaWpq4khqREggJ95e/nBtRka+DDTW1NxowhjvvemLJgUi1VrOkUJZsuixZSf\n",
              "gNXTZlAHFOcK/QFH6BefNPVEui/47TElCOnE80ySkmBsaWX8YzgvCzrdja6cloA9IqyLaTw8MQqV\n",
              "vOxih6u/D5ThsjbyurO5CB/mK4HW0jMEKV/R0bBxlx6R/SYaTZPNd4CEbYMWPbddDwpEgGu7rKr8\n",
              "VfKxZ+G6KJwS3LCqPRk8kV3OnDSR9Ld5OKAtB37RS/cwqnVKuw/5lk7RFz+KMcMDiJJXSrSGZTUe\n",
              "LdDopLwPBqjZCkx1pVVBhctfZER9+thLHuySqrYlUFaC2/LmTkf0ZRcMOzlmBYi2s6hks5SulB/L\n",
              "owzEmEqHUd02R7jxVhww72CRHZXHX9Olve6qkF+0+9dt2Ky+3olBw43XZyHV6h2NNJLzG9IApLX4\n",
              "Opf8/2wMB2qbb2WEEMoX2ZIXr5iFBFco1/kLAfid+C6j4iiD3L0PGnosuNlglIOvPRrXr6l7cO6g\n",
              "zOtI55lilfP5LD0Tpu+hFmehgmp67JVQWtjrpEgzI49wxLBXpsr0rzrz0/ZrDlD26oE3y0T8Khn/\n",
              "PK1MjuSXS4m86aaLaWxFi2VPG82XNOIyA19H1313rhd8Q0tkkMSEqDyE09A1+GoqXRGbisG3n1AE\n",
              "nzp+A5orz+s/ZkIy0Lph4971PZa62wO9I86A5qqrKPWuDVpkacGSA80bhhp7LVTMN1/V1xJHSEH2\n",
              "wrJ9ZknxwFCxzM0+j7T5fcbbuuGIujg38VDDKx/G6DEdF699W6KeYAFCegkGCiCEwKIhcUWor+Sq\n",
              "0BvCjcuYn0wJTQdiW6ao800FpP1m51gYpbuIXymUUxi3JPOTSyP4Zh5biFzWJ8eq+ourL27jHRBS\n",
              "ybnCotnoevi4vWLxKQKeYo1ZtkLRaWgQV3vJdIZJRuN7g3rMenizWH/0Z/3Yb31+10w0YCVGLA/D\n",
              "qkE9dH35CsE0D9MkBu5O/hShMxf8/1hXN7tHYcg1I2F++nD83xm05hSGfBsvu3gUfXTesE0sCqDU\n",
              "YSjAa76lxOtxrgP1+9au8PyzyrAODkACljj/sWSLGf9HN70+TTX3lxNkHGwIwqvutpOS8on6PGx8\n",
              "hcgkFewIR/qi8K2xQbIvpfOyYAahhsdMJCCItO97un2ClaFkit2sBzFsFCRcElkIzGAY8xUr1Qcu\n",
              "gXCzkZyia7fl5oXjDEV7/jh00qcv0WiRJyv1m6ULXFxYa9VtgbrMDQr2xrhl3i4jznbdT8kH1njN\n",
              "VGOcl6BOc8gQRrdNH69R1MN89rRSYvidRBXcoRQTU5/PYiWKrf9rnQSFOt8N3wgFe4AGDMcfw4Kl\n",
              "4GCYaYXfG5qAp1UbnSR5vD4HZuRkl2cN98xDq0EU9PWBd8+nEk/JffE0lDiIWdopALWhjKwdobaR\n",
              "wGT8uK/YVbSodXO0NmUuI808eTNCbubENwSDP2g9qcEwpMiSCGyapqOtmKO4lFDHV/TpqBAxekGx\n",
              "fjVxeUhSfEA38ycQfO8MNxFQFneqAMEKoZx7iN0t7Rs2ckroIbGgtzj/CEdbxGOb9XsrVJtnx+DN\n",
              "L0NwyCMKg9ms1hC4Cs3Hy3UhsPWJIPu0K9Yh1o2P53zMzTdahC3LFvCJxIDnVkPPntRzgwn11U7k\n",
              "sWl0rHPD+53IrCgewAqDaN0z/n4GVCsGIavsmHVgDMQtlYRuT/2t5NQtNWg9y7CZ5kbqiMUbuTw+\n",
              "slRpxzNL5cJwkO2GMdzWYBwPJdFKSY9FF2ayLwiUWhdJUykxPlGJ0iwcapWGQTq0fNM8LFRzIPrE\n",
              "CZhK1TZB4oX78aWbSgYz14sh1Xj2OUi74e70mOTKdFn558LiBjBEun8SaX3lDgRf56Uc3hAj3HtJ\n",
              "vorKMncgLZ52H9PDlHADCyLju3h+weLHejJhXyThRTVyve/mY3Vv0WrB+A2QKwfHctUPFDxidLB4\n",
              "189zNe5zWKZGZVBtLRj+dKkHPyrc1L0BxtWHQQHK1+R76jOnnwPL+/zEWlUs+YrkHQMP4KnfpeNf\n",
              "k6GvDPG7pgsFvaSWdaNArkzX1Lb0MozoJ3orrebg+ciI3eNAtoE/p8I9tSp4FJql1zYQmXFcLihH\n",
              "aZlRWj44nVHXzVLUnfFRQeV/uiCwVn/+if5U4+q2ykI4Qw60+IQ0qNKKE8innfy33Rlizo35iUnI\n",
              "PPVEJJL8JsBRvanrteq46p9ARrkzsRLaPqbO9KClC2znM9P3y+cd2Jn6ICo7qlDMvVtA4GaBZYHG\n",
              "ZxjRuIZD/3g4ruG05CB7/BZOX6y1sV3KcYWf1vZW/M6HFVJfOS4xPiCMsl5OnTE7t7ukNZQRN5XI\n",
              "2WX9CgEMtrH1ssExBHZ4umle3MxtyzIu0AxycEnLpTRRzUKe2J0d7hMZRC9bvkBvTP9mzXwMQV26\n",
              "EX6vUyWPmvcWEBvCpm9+ume/R+C9MyYOJhkzqAQSRqKe+ymFe0UjNfh0qmW6+rlrSHFxpwC9hODb\n",
              "8r8qDuqzIuI9jiHSuM/ctu7KO/o7nQSm8K4cvKFf3YwfQPSRxfjSTERXLC4A2gOYTBuQ7PC/4glB\n",
              "IIu5I/QCLcErhMbHqBTOXoovqruREgId67SPRSqv8PsZqEWsTY9GeL5mTg/xGgKo2PeKkCXkVzS1\n",
              "0RsYoordSwia2sWZluh8KjLHi0rGH+hF5sy9wW6cl/NHThN5SqzW4RfdVt5Bf5Fy6euWEu5Ki9O8\n",
              "KNHW6efHI5wmO/qOnDk8lzH7X6QaO88yTrKgtxR5Lxzgz0sBXhbCdBFdbVfVqnToJfd57n2X+AyW\n",
              "gFURKiZofij3iqX04it395Ca59idvwFpAJj+yKERYB+UR28XO/lPr8mja5VTwYGXFnZoWp5XtK52\n",
              "cEpo5FY/p1U8aBfB/TQiXkCKSruoqj+uQD9yCi7cop5w+DYOdzY0zNej1poBBSZ1xpCvGd/+8lsJ\n",
              "m8A1gfYEXlCAkXhvEhdFGCERDNlkj4TbI22JNNWtD7hVf8ErVRfEbO8UFD8gcYqJy1psn3kB0Rer\n",
              "5f+aFeuSxjQZE7J685WC8OYm1xn1eUgkx5YpW669zqzAy1mZLM17bNxRqdf72rtay50okstxKskS\n",
              "VZ4+xSHmATEVu4pDpgquDSAmMGs2fNf/dQLBR5BKn+AXxS8+gLnIz8c+zYckibaTIhoiUDPpG7tn\n",
              "DodBMzhFVXlTQO1muNfa3WxeABDK6pw7b2YoL5JyCSLnQkC2eNZCZ06pvxRz+Q5X0cthHF4MT/nB\n",
              "dUlmDozb3ybxvZAQZxYDfFUoU1BktPMLSZmIpC3PQ2fbCDfv5qPD4PoUVfBk0adz/63VJcsgX2Zp\n",
              "SX0ORV6JkIYyYXrSdYw54Zm4aO02zdg1M/3W5HXngnrq/cuNs2Ziu3rxGu4GWcSGtDSZstmYMW8j\n",
              "+1/e0qx2vaj9uZSmKfilalRWwH2tjNSxUhJ+95ReKVtN7I/is+ikHCtngieKWMQ86Mne0GSjeXg9\n",
              "16GShBoqFN9erBmFQucphHm48MNljO0Qi7gbIQZdLm0xYN35X0MItTGXaZHxFwpqZHlxXBr0BJM2\n",
              "5ivRNdC9kCDsnxpumlG/1iqluq0Ce20zQaKzhxX9KNgAlLiMCz7gd8gnyorPqaK3+Ma3C22INrK4\n",
              "Wc62/TUuvxll1F0SjfX+Kpkg7Joo5IclkcMlQUsTZpzFeCI4Hh5QOQsXlaN28iYAcA7Yay9JRoEK\n",
              "m7k3DW6IN4jAAiPNs7CH8+eoGCWJy/9N3B7OwBpXtpYEHp+pdAm03OYLEIWHMXO7JhpzHkVJtlpD\n",
              "eNT1CsD51UfMGc1tZXWYozmM1lLcr5ng0XqsKA7v0a5g6ghHKW45uYNM8TwmFmLZdPTvuFCg55d5\n",
              "iJHwgB+sFa3z0/K7/5qygV2T+/RdWbQhq+6n28SQBD39poQjdIGwodRIZM0jvDBBb83NdCYHNhCe\n",
              "sxUG1Kgyi5K0pd+fkI33+0awgBmwQ9hr4c6BUEHbXUqGCnpLxG81zWXnVlI4cTmo8u+cYXZDAvGG\n",
              "VuTImElW/SPnNoSc2fVQfkcKzQatUMVxyZmaF1q1/iLuhNW+ibKNv7vNpp/5c2phekizHnDJY4pV\n",
              "s6sWxkJDqC4o+EKnqMdNKU2WZzuTBBZrGKiZaTPHEnjo+1igQF1S0tydBnGogjJh8RnCTPQiEEzo\n",
              "lg6lrpMuO2+82K91yGkOv3ncfOhPfLdnoC3ISBf/7ru9IvGMEz/QGWtQ3EcbdbEp4GSVXd5j2Kgw\n",
              "+FeVilCrtVJBlSjeyYiDCMBW94L7X++8eUHF21qCGiKJ8G7YXG+h5GHb305mm6S8RAaavlvFAbLO\n",
              "cM5e1kz5vN34eZ/7W4G4fyu6ex/zpMlX6okGIJ6ymqTKlTNCOW+a+KEqJPaVICK5aC2NlFNtg48r\n",
              "npDR6yQBvhOwGs3OCVcGb303J6i8Mr3uq9ua8D3VSAmyTNZNMuiMDkhcQ+9XifF0aQPk5X6Zczfa\n",
              "TChOipMZ2gRCqLiEJww0guBgxVJ/hy6CfVIyg5+080mR3ZwXRVyWS8Xx2iYarIGotwNcVijHKyY+\n",
              "uaHj1LUtwxp1UqyhVGLtFItuKuae2M0ov0jP3WKkNGtwTnVP5yJKJ4hjRcV7O0I1eiROyKFx/U9l\n",
              "aBzNbPyM+csc59J0jDCmP8kNdFjoLCVlgYOtLIZAnaVW404xcI5XosdY+5PwNx9J7PH3aJSTWa6n\n",
              "vW/LszvhVVt/0W9l+7Moggmt3MyNkwC8/d7H2N7oXa3NBxCsHeS/8qiJJ5dn/NIxMjAyGSwhjehy\n",
              "FnPUzsO85HIkOt3oth5xS4c78IHCfWguTHXPEmkAPBJdD0mmpH5uNRFb6jPMJ3B8G7YdgtBoha7K\n",
              "Hgjh25QA3MeG3fXRjC5NAnRDi7146JjWPCRuvys6gYT/9MA9aSw07TJRrCGnwG+B0KKoCsy5pVkZ\n",
              "U8Ha5JCXHl2LEP18mtKiU5eUfmZtOI/qH3rE5N/SdBXP9lrTUU74Y5x58hT0TZQ+csoINM2NAQpx\n",
              "rCjyrJlUg0gh6YSiXyG/E9LDJgvCwqmK3tlHZcHB9ImWw5eaxFPIPLIdTx7DUmBnl2zB2B3LqQlW\n",
              "faCKS3PWPipLu0jLaAaNzOqPX+9jawtfM0r6siYV+4Jxw9YBC5iN7thNSTxmWCYvWielZR1rA8wI\n",
              "QySPntuXRehvIdBUqOACGnABNX0bZNXRnq/59n5guvuFoyIZYgo1keg/TlgrrR+/yGrK51PEJLWd\n",
              "hBHPMhF/nTRRR8PX6fBljzQtg/6Ecd7EoRLfcT3PEq+U0Lz2W8FstrZWLJXhK8LnZ33OFKuV2sHi\n",
              "HEN+J5CwH7R1TGAy9I2UIY/bCPvSPe5TVMD0zgzoBv5ZySC7s2AqlH+vIemrv4dP+NuvDW5uKgO8\n",
              "/1M+BnXIwnCZW9eErtJ53Bj/gMnEZU6t9dfc/3Fi6bwoqwuo0p930vHT1cChWLdH5rz79aEnr/5Q\n",
              "6+uxvoXX/xcenIXl88iwMpLTfTUhZwWxHaVVVFb30DMNyGFKKcFJMxuL2xdU5QuIF5cxVTSykIM6\n",
              "MKEM2F6a1j42hHwHkaQJSvfBr9i94PS8wqRm3XmfD5Jci5zEIhPFgZjHKACNVuD+IGxrlLgI+EIH\n",
              "UXJrD99sC+LM2VeDvqV1OqtPYeoh1QyEUwqS1AyvzB2FOPrLkf/+VTSGD0ihldW4n6NGG81VP4nc\n",
              "xLdRpYk/JkCITIz+51j6CVBiGINqRv2LWVVb3xo0POaX47H/qRHxAHiF0rZ+NW+hRnA5xiOJMJNi\n",
              "HkOz5gNvNA84SPRcT+0n8jYqKc3B4WFENJv+jutk2cbOU8j/cx3h8n7sqHwhcernUSiKIT1/5I24\n",
              "DVgKkt9YJNizDtjm8mboIZ/jEhdXPQzpJyd1Fzbn36Gcs9QHD2cHCBmNCaWW6aPFqXXVAOM30kwB\n",
              "nYJ4juhzam14TCAmntZNPXBak2gKWhhNaJ53NVG4BjoA4DLc9cycQqMV1Z0LlK8Scw3oQPawhc7p\n",
              "M8cdIj/JQA00/seCNZLzM+ILFdWMQ1GyQeZBCmd1mtcoSZ1DKi29HBf7JCVmAwv8N0VMmzzgXJBW\n",
              "Y67wE8ak1Ty0FXsOzXuTfcUz5/kkRoxnI2jj0C7HS8wJSBJwkO3TC5XzutOzpmV66FM5flhs+eR2\n",
              "pYKfwuDRnKy2BJxF+0KfBVIgl+OMMzrQdJtX7tk35jVXJpjEkcqyoEv4FNXqQEdnt2GMvUXiaNS3\n",
              "Wz3gSY1SXEVpZtKlNTRhsEozcbqHkkqC+yJ+sxiWmkYnxtR7wXcv4DSe6SPR4Jidn/Kk7oLd16oL\n",
              "oE4ZALSP+Dbnd/SZdJtwusaHEucYW6zkvgnVMB4zg0JdJObwK6VCT06SUN02uXapKUehuTQE1DXQ\n",
              "B3l6phfAte7kp2igsD8+2RtA0fe4DLYD57pJaFCY5aSfWA9gK7vqbyELXYC6usRAPbnAhAn8iEfL\n",
              "lWP6mAEuyxfqvoek677LREv2WHOwcugWY65VqtAKOfbRRNn+UgLz0UJ4LynOkrc2nPi1yYzWL5HI\n",
              "sKCsWZ1GjKr5cai0JOxWC34rv60RDAM8WSEJwVASggfGpc5p9yf98TZ1rOJDbqMi6GENuigygWEy\n",
              "b3nW+t97edUbmcEz1QHOkONPC01cY5W8o1VC38kKJNr7jZ3QSfT6ikpSznRVK7ib9f3XXTqM9rlr\n",
              "PritSo9h04l4anPX0P/2rj8TSukUwK8KT+aHBdzPU7l7p+qj90mAAnLD4OzOXmQdFlt4TUCo0kyT\n",
              "8y7BdUOWdLxUMGH+quG6vWOn6hPI2dlCDmMVDwU7hcWibT2vw1A1I9G+Gl4NEgq6drXLuoJVfI2e\n",
              "PNbfoG62H41HrncR2bISaU3l8gC9vZLXYStmKYDGCfJXUcO7LWmcKO4x6sU8FJga/AA0CnTIqMnS\n",
              "vYx+WGuaefXn8ANPpkZWazLOZT6YpLHTqIEBhuiu8D1mD6g1jJahMu0wfdJ9s77k5GSlbIV/yyyX\n",
              "PN7FEZIKGUUnU1frLqD2atio2/UO2/5nJsnpp0iywCjbQwYEMRWfjmwhmGkJy+Mlr9T8njDN/G/w\n",
              "sTID+wk5UWXfHQeQgRVksEo7kJzsaE1KWo/f8aXhEMQCjbmbxDvaACXPlkgJO5YGGaYiax0IvAbc\n",
              "JgWmx9Di4Dklgf3rEsDv7nij3N/504F70tudrAjCiW2tn0dpCSNWM4fMJMmBWEvk/9N9511QE0zI\n",
              "8SsQcP7Bb+drLAIBPU2mIU0uTdvNn8LR2X4iPlPsUS99Ah8pWWloj7FlpxOlK2pZV28FGaiKmIM0\n",
              "Ef99Dkb/mvrSWrn7XgPiC6+GaLb+14uiqmyd5A2+BKS2z8T6wI5bifpfkR6wi7FnSsocRdumfltF\n",
              "03pgp6PJdEE4iXQZpfTQAJVBfTw0hGjk9+i4ld77SMCgDqEqUAmBYyEoFSlESVaHQBYahGFpTRBt\n",
              "utGE5grbrfMuSFhTLT35588ZZCTx8g8zkdu7sry1WrT0CQuImS7tVjVpVaWTlDpS6zRTZItqTj35\n",
              "Lzm0TDSOtxWGV9bTJ4WptIYF4buSRPknQjTHHlUHn31nwvWVlbYJHtBM2s/jCU12eR3GS9J4h/bC\n",
              "n+YypNg46BUNY/HXYPJnmOWMyxUwsP3GDZCEWXRVGF0AmnczfdTzWpqDK4muxCd3lSe9yqvjsjvJ\n",
              "PHj11+PQdozM2JwM+w4sxXWE9QZ0G8ztLdsgpXUJhC+bimP27wooU1wN4B5ZaHr9zB7iYfuvyAQr\n",
              "2HTETpruN568nYr9Ukbp920EqZERB3zVduG4J+LGCuM/OhSgrp7T8LyhmswjVQ4rH1kWcBlNFvIm\n",
              "D7eZr02PsQJMpca/aJjLe1agf9K7zzZduizEvxj2ypk+/oPIoQcj1KYTH0QQwxfMmefN7VAGZVmI\n",
              "AmhNNjlvbrONrD/iskcrXCMqMzEj/VqwSpEmw/mAsCepwqKQDz2DBspBPnaWM2J4UtE7yGztQ87h\n",
              "v9MSwfvsvCf71eHK5M6K7ZKyO7nDUYqTAbs6PwpMCfsoP79bwtN5fl0z5KFVvK2M14ZBe94Y0dEA\n",
              "aHe4gpxVsC3KOrrAjtUmUO/xclWlAuCkgpox4byRCJMgCcq24h1dt7tg4+1XZS9gst3UFonCNsw6\n",
              "bJIrZVSO1QdXQgZLPY/wkkWZvd8G+aEp0wZVLK/lMbKFABa2Uc0pK8bwhA7p3XhnEanLF8mmhYq6\n",
              "8MDDY2YVLJf6qRTQymxa3ySEAhzdZ1rEElziF5epbZyT1rExJUssjnT+4/dmAsN6IUsScNBFFEIb\n",
              "RJU+bSI7w3KBn+UIEUj+Apz8Y45X6o4et9j179Cfi5iXo7KTl/KpUzXU3zwa+TrOZB3TDq8/dNs8\n",
              "5X+Gb4IlV74OO17q02cOE21BBqAqr5n/w7xz/On5y/cbFNunt2Yg/Ke7h86iPA+hS8Ci5txcg0zi\n",
              "gX/hQVLUeXI22QkaDyuU/tigjA+Ty5eIhXxKcRprII4LWWabtLh0YJd8phPr2A8MaWapLfjyzrTS\n",
              "zhm02w2x0tbA/5ZrIvYovuA91FmZqhyowIjpT6vjM/AzAqg9/vB7oSXz5943g2PFTF/0Ld1m4QGq\n",
              "zWaPcAd95YcV2YtpMBEdMNxmkb88AkTd8+9ghwMs/X7DARnrOFaQJMe3yxWXPoRL9aAVUj3TSu0X\n",
              "+KRgLBz8ctF/0vO3gK8KJdK9EokG1ebjEIFnBtiPYzB6ikpsBZVKdJhFHqZRKVfEp22zZkZ/uMSq\n",
              "nMGqmjchbR+U+kUJGexUs7X/O6LcpgPPELgWUGDwmxfypUUjbvzT8/96PRF7rU4qmjA++2uXSrD8\n",
              "g5UEChLcqM8iNgtEePMV7vTQrYGrshn7W/Pyo4yCT4FbUsFhjf+CthssT6K2nEVTvybVBN/bInhq\n",
              "co0/ynSIY303NfGbek5I7iNLFUH8oG/qYfesDtA28/yfgx1q5BCo6Yx7F2jsXAdzfzZD9JbBZpLE\n",
              "THAThs4J6m+I+5b08TAbLterL8jbKuJumWidzKCth9rbqboTr8HouZKzyYElMYIdhwpAKkzAEYKe\n",
              "LEIALZAFjhhmN9Zek/M2ghYP0b/OKEYUFG93wOBgalPDlB7TzrPVc3s+1/+7Em9k+wcFazKTdCft\n",
              "9Rju5FWlW49kZkm3cqN2hiKEBRfZSe3qBRyVRYr91wLwYNAFZD+XuVXQogQKGYZi3VMREofQcJTr\n",
              "CVLj9w15wIqS/52QAy+8keyZS6uVhog/8IbTC5fNH66DDxodrUToBFmUrj3UwhwbuaYkyjdk9/AH\n",
              "GAhepQ7Uwrf2JXUt9mq278mzNp62pUChRegHz1+F566O6eILiZUop1ZG7/ksK6uRoa3yghte7KYL\n",
              "MmRHv6wRPY9OL1OW51GoU1va9XmtYwxkVw6ekLSuWaH3gCed/NmjHAtZalPt15cs1o7EihO8dKJ8\n",
              "9JmL0I+9YDrXfrMhks+V50rCkxQUolf9pDt7hXCZ0LYjyjdj+B5500wx4khiYgKIhJJwrfagWQKX\n",
              "C+BrDDquAJZwzPLtmFWTpbbpYX2+M88f1uC3wgOF3pmybtiNf7E6A0B+4uwHUTaWWjwqBbHNw4Wz\n",
              "R7dtOW1OEfXHwhx4i4O1ekpmeg2sHAc7nDiE7RRSnYVlw7f+JOoHYKeLdvazPRKaX1EcuNE4zUqx\n",
              "YnB1NQnJnilBfIJwXVI1BV5aSRjxVOKrcXSaFP7ROeZsaVQh2PvZq/yTFAFXsqGzo1d32zmxHemG\n",
              "bl4KdRB2OeJg32Pe7/j5vWTsDyHL5rkYET63FRuGw+RDMVS4T2EQjwEinLITzSbftWnmakL4trZS\n",
              "CJ3qUIz9DgRmhKTkWyPPCsBvdw/A6Jth1QsvBZ+7Vwc6wUAlhQ8hxYCS0Vng+McGsZQOuYtgpGLE\n",
              "FOsagO2AaLbOftxWuWeZsXYXtN68a7mdEcR05p66Mi7AD+WXH0tRSpAq/1FgzGdZakoTo1y9RNZb\n",
              "R8/GRuS9dQNEW2JPukkhV0Zpee5WeBU4dHo6qol9w5lq0hWyjbN0J+vKR8q/zQGb2NwyXLsfOsc/\n",
              "Qc2pPa4C++OoObut54xxin9FlOhZ/ek/0e20WGjzl1yzSZ+zyS+ICRQKR8qV9QySibRaDSTRgvrl\n",
              "BWTx37ddc7ZN3R5D5HHWJmiByhO0XCIl0pEs73CwA02MX72gJuODQtSLedFvATu/leJSz0Xk7eyw\n",
              "yIz56zMoa+I7pkFFwL2LWXPG/iRsZy/1kxIf+bf/ywL3jNjWKtpVpqjCHI/8IqnDaGzAGJI220iE\n",
              "TFl90DKE/Q4equy6XExkgNfaahpEE1/NO7U7s5RgCgVke1RlstDANZIPOg2ZrF1CxSPDweolTQDf\n",
              "N+hpVwGWivKgRa0BEMHHNz32oukec277/8wB0nIj6Bvcd5ViWnFd9ebfzhC0YiS1B1Jkffvb0TiQ\n",
              "TcIQavaJRWzQUfHCXFqhOKspku+BTmqjDv+Je37UY5e93oo+y+YRYGvoSj72JHpJIxNXQAdT1I1n\n",
              "2DdhiZJAF2tev6FehnT10vBERd9tfGPhK86S5GB3L3nnbr7Oqmx7TZ23X32CSwF3lL0KJP0/i3zA\n",
              "WxjI6eCT06AFGLKi1n1UGJ+etrwfEjxBVNAnwqQG0W0H1ee84yUo0k7yNV1hJZRnpIzW+M99t486\n",
              "HmUvxDbZToaGwE5NBMBXDjwnOIa4nq76WDplSpq9+LFK4qoKv0dcd0mIq7YPtf576Y6lvF/twRwv\n",
              "KnQGUlD4DSPhwz/ugCSfPC7bF+qpCz+4ogP9EvuffW+sPH9fwKWhQbogs/hwLS82VYSk+akQRSZh\n",
              "Q0bDhGOEuo+gzxvGN17O013BvJ/ZKqyAun2KYQocQkM/Of9nQT6XInaqu+4FvCDfrbWnePQkUgS8\n",
              "8xExlH6P+N9pasFUU499BMSOBuighG2a1nO8qDXphLDWenDoxXDjoh/d4qXk5dnsRX68aeS1Rfn2\n",
              "xlhOs8TCIHbPV1C+sZAdvw8npvCtoq6WJZb0XA0YgTKtDI42Y730ql/BpNOzpyC3YbiqUyFMglaA\n",
              "gWggrvqlKNaeZY/DUWfvtEcUUO+LoM1ShcNXT5r3ZtAVnK/myNYDsc9rv71JWIAOAYerxeIHMRAI\n",
              "MkhwT9Pi64PstiB3ctijFjPdFgCZ6oTUnIHmS0cWxg/LGMfwNtv9DMA1V//AWcqzq9BpoBY3TRSC\n",
              "tfLUBOxz+U1HLdSKs+ld0zZ0sc/ZCF3cQ8WoOt7cPfSlTqm2pwT5FbnK12ooOQ8TY8PPd5WsZRGW\n",
              "PQCLoNk150VzELydr1kx2V9a5J2a9r97LlJHKCwlLBwtT37gbd5se4Jt9Bq5mFjOCFCaclcPPytM\n",
              "cnUYYy+P/Vd2fCZKEy5eelhE84QlhnbnMK4OMMrWb3i0yT1lOr/zL/Fdfl1NPT/Y3zlbr1p9LyTY\n",
              "Dsh7no//5cHjoPePxc/r7oq2P7YiCydDC/V+Cg4krxXj9WVRdxMFF4H/xOXTOslf4CG4UpByQNpX\n",
              "Pyn0DRguLoE8VmDW71xujjnVnMlBC0kKxjx8e88sjODBREnmhHbIBiCMFN+VZDPcc+KgPjHEsK9i\n",
              "WIz4QzBOLgKOxd9FNlHwTYAl4x49nri+p9zh7uHjerpen0X7YSfZAHsAbGiBiGrxCAxfV8mkMevI\n",
              "AZGatn1AUtirPdsrQhvzPIcIPc0RAUivF7TkBodMJhLJP+usghDoZXtOshk2eezG/Xu2XpvM2tdB\n",
              "crngMklJZwlZWJwZIOLiri0n7OUA+ldrzdnJABaqqcQ5ia9r/+SfP6tRfnFl6upTlELMilzZMGxS\n",
              "CU40jY2Qfj7Saenoupx9xvRuR0ljJIi44cSM11SLK+SdhZfnZU1aN94jKHnAFZfI8u69TjFFAwHM\n",
              "x54DAeq2kQCUm4Xl1Dp7pmUriOk9ErEn/8aV7zJO22L0PGN3ovldb+dE+xZsyncol7ICSXHzpcPf\n",
              "LsdEo1E8vXiA7/olUams36j8EXegBfxCW45ajJPWVbK1GCZCdN9QZwJP95vq+H7xXuz2HAlMIUFq\n",
              "OhFqsqO4lJKw2w6pR5L6gbE3GQ4ENbi6lWMu7pb53zzT4Azpxz/1Jd1TVy8on1Z8iYwiopFPrcMa\n",
              "BPs1z6sZ/+n+2clLP5vpqdWBt6esdLlQFVe+Wmyf+dYPPfpPlDIDKJxZUUlYwTtRtTO2cpptCmUp\n",
              "Y0Q2JARXuHcrZUfgKJmdShWo3LQil6V3Wgc+jSp4z29wrJwUgyR1bDeaXEt7dwyyNrk3kfjx6Wdv\n",
              "FyJMT41nP+E9ySAuPwyXWyYb4t+3XXVC2dxJQDw0aV7ef1cEnqUtN1KLcLtq45KImw9aZ4XC4o6x\n",
              "t7Z7bIvJnCe5vNiC9nFv3eHcDtGHBzUj0+WB8IQLRTayXG1EyUSuk1jFH1BYHZJyMP6ZJnwsF9zf\n",
              "5FqQkFjHuUGnU4a4Y+bwuGbdOzzL3XNoS6SxOkHony1bpNG++BIVUoExD2D/VHyfNaBEmOx6A4nr\n",
              "Z62fWx87zyiAJ4CxU9FcS0kI/BNr7Jsod4wE27v+q5oOTREkaqm+vCifSEdZ19AuhdJ3pZA9q1eT\n",
              "QL4gNSaZLzZ64nCsgT/4oq4hfh3SWAllquQlB528YsXOKInGRYpjP5xBtFBbHScS1W7EXttOyqH+\n",
              "pBdoHvL++dQn4BWSnS3DOywhztubdkEaKGqwM4iLAYu6XoGK+9BukDLOJImFpKlxoI467ewwyrnO\n",
              "XWvg8ROlfz0srAVLU+YqG6m9GGdsz1vbjzSG41wpZieRHisq6LDFa1zFx0TWpl+QJjbu6UXbTOp6\n",
              "UI/nXcTRzbfTmYTvkdoMOTkh+bZHM4LIqd91TNPwLJoAPHa53KggU2f5vg422Hd52RlMYC3Iqg+g\n",
              "J9X/w5J9PrjpAWURzXzLl1AURX5osZUNrmmr4BiTQdiFdM8wnfyibyMwLZlscnYnwtKQweT5vE/x\n",
              "ctbRz93Gb1D2qXbMis3H2CwKtWRkikT8Z95j03GQSv/WNH01j0Fsi3MpWS4iQ1hoioD0vJ/FUy/6\n",
              "DNoSQi8d7FzadeJIGdZYLY67KFci+pVAG2iWWdTghNcaVf1/pflc8D/VPha0RusI7Oy8oQuZiBWq\n",
              "0D8X3/eUEIt6ZrCkmn8/AheeI9jrUJgNP3Uqpol5FqjTHvT/AWkFfZd37lTJ2rGli6TkmnjBD6sg\n",
              "aQ/3rmXXb/m/ClYlCHxqW38Axe/d4p/SkFfMP9IH+B599nFNTC9wnNqdbyBtr//eqd33fKSS5IFf\n",
              "fRBkj/pV1FsnV9LEuhhem3q2xa3X3H7XLzn9jXjTRvBcXCpup/U9e0v0Ae7JiokbV4VUj/9gclpA\n",
              "oPq7DSrQ9iUEBG8uPhRxPPZEwVAEFIfbJgkZH8Z6JHPkIxBuCSLYD8GlLGcsnd/Z6XW4e/pwPLGm\n",
              "h6lffSH4mIvX6L2otocgbkMTSVhLJ83IkowboqaQfxt9AnkC9/3bkjHs926oOQm5+DdwpbycYWW3\n",
              "cLDON2pt7csaVJ9cFsXlnmddTx/tjxmnd73fafptC+o9/FHONuDzkg5XCE4RTXdj907gufRTdHEl\n",
              "4Gs5tNF/w7R/u1T2lmoSfg/db7nlyPyF3Absdxl8Z7pz46gT+aSWLj0nmkCrcXrXZKBjY1hyu/Jw\n",
              "ZVLnHv4LN/A4TR6TDAv+qaCHanxbcZ1r26P+Af0bi51f0lQpxwjXnJeOcHbmlFESOsaMDu4Fxawk\n",
              "0aoWwciU9X6lbSSsSSs8KyuQQqAFKbr44EsciDpG5X/SMNrLEQ+/txMOFX+2wupHlbTyBsluiSL0\n",
              "HsEdCM1wikqyWWFn00Jj+Oyl0Ac7umaPgzFt95GGrS3nhIDDy4Gx6p6k9L76dyGVqgeK4VHYOapn\n",
              "XyP/lnCZ+qsm61iueY+GDQHV1AvVr+8xK9rOftHiaFK8VJsu6LZ6slIwSrbQ3ytpDHxDXzB5GXFp\n",
              "gLYTb+zieIef+ItO2XlF70LFniNB5pp6kVv6iwGmRW+T3EO65tdOSQTSUA5uzzTdEYi6tTSvRfDA\n",
              "L4QZJTt0uTebSj5prLkkPA92IiUd7si/k8DgEiYi2u/jKv6WEgu4xHuRjmhcFnFSi6u3HhYUryE0\n",
              "jWWfLBQ5eqfObR9dymywKU7naoONLjAEa9dOhowksIeeZe0H2OsRvHL9jlVpVXEzXENdoiktYgTx\n",
              "6/suhMTWpjikLYbaOmB1Q4tLKFoNI/2HYOXAlm0AKfI1ZxRwzGqcEGGDP1lDOOTZaDwIfL/d+CXL\n",
              "TVWrqIU591v5eSu+CbF7CnQAre9SSwtIRhHr+x/jeY0fTKfACpZsH/nL1gAOcEb3KPJVNEfvYwp3\n",
              "Y30yM3+U8rp85C8EmDIm/0wfS/3KVUPhWpzx57+Yi6pEVEOs9wY1xx4M657QPpWz2qFBCLEPK3ee\n",
              "bJUWYKNINydr07Moceg0rfCyLAaAKK3yPoVNB20kTnvylpaXOmguZBNkn7jh9EFhg3HJVTJCGdZT\n",
              "CNXZItD4O/W+/ZtObs0DkPL41oJ4O0Z/dchU3WzSpk70poPqk4vM1wB3fqzs90SqN7ScrgjlZZAD\n",
              "yQxFAaO//vbu8+GYlxfUTDMFMzavi/dcJ9CQFgMD3Ubia/TL5zdtlrUwPJEq0KE8sih+IktOrUcv\n",
              "XVZJHb4qTuBXP2o+CkuCAyNDopt6h7xKJmP6vBwN7ZySrRLluDFbooyNgBirriOpIqs5eBce3AJ8\n",
              "TNrkOBHhaaVIxttud4VCQChWs+tJRxywv4U1+Kxr68nNwUvVcY7eoA++1oj619N49/TS9Z8xQbEG\n",
              "Yp29kcz+NJa8LkY2iU9RzWa0PigGtanCxHIk342TKAvEuRCfw9lrQnwi83jDsCxJpmyXL91pK1Hw\n",
              "VOW0DuCqODUV7ANXSe8c3nuVUBFsu2Eqt/sDdL3nzv4pcqRpAgQ033mF6W9d7tut88n8XVvxEzNJ\n",
              "OyOKWbuPt1YGTQZfrLwJ2IprsCPWZyiHLVOLY+bGDBEOxuoP4F517K678YF4DVKrlPcwP1QQ1Z5L\n",
              "+yQ1lcJqBy3/Eh1TmaEsncVfXlAtZA2JYam/1IwWCFA6jDRkp3WiMYQuhVkPrfU4Xw/6WhQhbzIu\n",
              "9s6k9EKCfL8xxWwYXeV1pN3vba/2DhIMo0lxIsUUwXGr26HYPOAzJBLl22gRaYH0wCLxZzRaUzjS\n",
              "zoLklkP/gX+pppp42Jf6ZLoSpXBYkxOEKn6IuOAAh6Vcypo91dpEi6+Ag+xVJmQXvmrI01ReLoTj\n",
              "s8hqv9EeZ123WGZO+uKMoJPRqyVzni0XJYdni1VLo07NxvmAklWu57NqZstkEh2hE5DgNafIz1rC\n",
              "U4hxt0L98I7e9tJ+RJYY7JJNojgHPq+9S1gKCx9TVc4Miz1IfpUaWRzucaUuKs0VLaf1b1I5OeX+\n",
              "isZXRiDlAc80K8navxRRdzMGvTcrwA9oVizS4EDNBkQJFFEGopTmGRFRgUTiPEatL6cUfkXgNOab\n",
              "KD9txa1oBzqOnZfUrlwxcmNjNhed6MC7zHQUk1Qqrs0/cFQsZgSywq1djvy0iKfHZswych6xMqdw\n",
              "OKtyDdx4+4Zq06BguRjnzApH/17dsfU/0Z+UVSbeM0Jd+qGIDYjg71ZHYA37xotwQkpYTkN/do9v\n",
              "dOndj3iyWg+RD+5k+5lYZMX/ZjOEmDz1e7/ocgSK2TXYwL3FUinPePxvm0XfhPyGtt+FfGOgy4r9\n",
              "dfqLW+oqRaq6D8AxRmIE8JIzmQz0Tz6Qwt0bpDcyIJekCYwwOoObSO4JA7ikih6Z7+cfCBz17T+V\n",
              "1BDCCPzpjrf3K+JdlD8cvL3o/1CEN0hSpYbvZ6+6M8oCsZtF+jJBNmALgNPqlyJ2ccsR6h4uLa2M\n",
              "nEHtWedD7DpQQxCyRYbEjpl/9ZNPnqe8899tTMIOL7Vj9zdTBxpZGi9ay0Y9Xvml/lvK3l9PGFev\n",
              "S00xvKmrRpCayIMXVBMxW5mXRW6Quv7rK+zyfTT9XLGlnV/t6Zx9fj8Dfd9TIbGIr0iG4MpQ6Hds\n",
              "cIFKdsr5fYN7eV+0psoLxqAo0z9yBuEb+/oAXnWkKLHSMkhDprW7aAvPTSaaoPIoD/6rtvhOK8Cp\n",
              "ghRMG7g8+CW9qS6beaWaDeh/Ysh3cFXL3t5X/iv4pzGM8tZPpDtt7IzjhaKsEphLtWa7mNaL+zHd\n",
              "FTHXjPjfBmY3HT0idOYB/MZvj+YP6tdh3QwVEdlgtjt4UTslIcb8yw3j700u9bNHNVgq89QIW0Cs\n",
              "MvHeYkEt75nd/A3qP+s+T9rBAdSYqNhWJojRgMvBobbPCBGrEvXn7WS8fKQpSWCc6AZL9uUVfqj1\n",
              "I2JHSxqcSvcAwIR/rWZJh+J8y0mxKi1eGI9w9l8/68cQZLwmkO6h2cwZBaAzpMGjWL2D9+9PjtRV\n",
              "UAIcSgNcwVyCiZO3Bx/IckbH6HM67Zyts1d1Mu/oyBVkF2jJQ4SXGbgjDTFPbKct6W5g1YTwrblR\n",
              "B4mH1BfxIjVCjtJz76JqFB34B2zv6riAD+u5qZXgumga9mvoD8lpc6So1oYKGTPnKwLB47vJOtTE\n",
              "cctxSg23Tmz2U+TRKGVQpEdSUH2pSa8dEBt09uOW6tyc2JXqTIIovOLXUtFT1dOIFuP9YLH8CDrw\n",
              "AQRpgAj4Hu398Oo3fYkY06HBJqhJvKYkGeRxS8yHc945jNrN1todLGH/SZP1MVJ1SUrXaQ0v1t2p\n",
              "0HOmnzI3+Tc8/8ft6uiqLmiR4BX8dbG2ZZJTQwUhzO2bGLvIWeQdv/VVH+o96BZwQJSh2ObTxjNN\n",
              "Xn2XclMpoeZieU33gRdePnnZ/yodgtKvlFpGQez5Ac3bthShaMBToCvA817IBxuGXyRvRVHm9IBX\n",
              "NLdNhtYvN7uIqgDxe0K8+/UfhRkyhL4qiehC1dbxsU/5P0HytnfkoGLgUe3a0k09YjN1SRV+jerg\n",
              "OZygZAin1jldk4glixEs3J2eD7hYw2ZXJ/pz6te+YDGo102Zxn9LH9/b5J8AC1bAF3QYQDcAGQDr\n",
              "F+AHrdroXCzgDkNmY1eaKSFHg4g49RAdnCxeMLFTnAQkrnHn/3E/mRVpmGlzpCiFBr0qwOvGlSCo\n",
              "4X8I/hP5y2DivPyhafXTr5/xKagT3JohsAX+H+qIOXjGpFph5W3CXeKmQ4iqacXf0gmq0zI2feOn\n",
              "3nC0aR9smPZbeTDucEqmP4xY6k1tv7e82aMiUlWPB8pxrlgzURM4cZg8DAharYX1jBSYxK0xaiF/\n",
              "Yd529tnp36QUtr7sZTf0zbc3Vy52IODdVr7CuQr7PY1k3//orc1raPZQ4l/gTEOxYGJG5xmAIf9c\n",
              "U7huhxc33Z8DvRMrzeIyDNqobp6VIzDGK/u5cDlaxNS1Q0jJ9ai6s8zmc5mhZT3XvcHkgWa42kCf\n",
              "3SV+cbplef37RSSG88U34VWICHz2d7lhGXmtI//tFBHxJ9cU0+X12fZTpADTnSe4VYb8FQEaHUdy\n",
              "oWRymgXGK8II4WPkYEmALNeZsLm79K7w15prMB7ewW45QZ1ClC98w58S+9cXrvj4gDGrhcxk+RZz\n",
              "7CqleIjiKKuRdOrePPR8QazSdz83AdJ5XZoQGoDgXlyDOkNzTCQeBdbFzrLZYW1nRNiFsBLq2Fiu\n",
              "N/t0z3gZMldYQ52F4yNSJEDjdcyKx0kZ7/6gQP7jSdZYItc9V0W45L2wC4Eq/IgAfgnGViEuGe/5\n",
              "LSt9hEPIARmy3JBfmBKePs0tQIAfwVNmzF94/gqe5kC11//9J37YHv+twSEra4PY4Uq/4tQVqGrw\n",
              "nI+2mYOA5d8o/WxE1pqLEEYSc5OiD0YrBEsi1n5e+KW0mKUcrpUnEqZCwXFgSrl9NQPsB44Rqv/U\n",
              "S8NEnrvLHa5d0swcUfEMx77da0EpBc2QRLka85Kw9B2z9WxGvs5o13rgtM5v4uLMl9Ecq4TJyBaN\n",
              "QJof2KJm+JRbzEXI/HFv6ZfW0xuroxOz5XUICiGgGbLFUkNklguO5DZ2AOeu2YrMl4gJraVSJf5M\n",
              "RmhB39pAHBbaX/V90di8gbUKAiagREDQY6YjDP63a1O3peEaGclcCsgcUdl+xz4fYu7Ke+paS9CA\n",
              "Zo3qddGnsT60Uy4QhuRZ7W4cZujdH0Pj+aUIH1AZNhekPhTiSG9eJevDSGxNlGkpBnHGw7sKCqrE\n",
              "WKCqFfg0c4PQvYxbQ1Q1THPqogCqdv9r1E60TSsVhlWZE6ThCG/YF+JaX49g5SnHHNaZOLQJ1giu\n",
              "GprZ55gGbXYqXZfJTvKjto2OdpsdrUvP+Ut6IDr2QxP7ZMES00uihHusA+uYUNgra3KMIX9mqZ/H\n",
              "Dduks/TAx52+o9NHXZaC/bGz1v9IKccp/brmopF3kWFCZf58BRF1eMbKVKWMYRG5CT9xtgbx3z91\n",
              "p4E39eRviYdPb6mPhq7HuI4BcSfBtfMRpqBEspzCpQOran4EnVyLKvPycupFUzNYvwt0Cl1eYaun\n",
              "TWfReNrJ1PIuTlL+QRvsLoVVXUpxhq6lGZYWS8MvRLBDBuM5HN6MJ413NHFRfwoWTv3/xLpPAu82\n",
              "KgNrqFyTqfsCRGpglPFI4TWkxHelwf9nLBQ7poVRGHwDKl4ruMuWqqVVf0oDnFrpdEBEw0FazfBG\n",
              "IN8G8UKCnC8P62EAIelIXSj40oH0dxAea/IMdvVpvCNacEWmRLi0ocyqVDhdsJtTLeMdn2g20/K3\n",
              "xBAx3qu3DuihvlNJG2Tij7HoECeEeegTT0k1ciT12PR3F/OB4nAl9HmtHYzcVMph+gC8ZTzgKPOW\n",
              "cwZsLUFzOSWT1GEC0b5J6LD+c/JkZ4+7mIFfm7EhUsU4qork0PHzMFE+Z4fLaBIiRQgwAp8V6JC8\n",
              "InZI32gGjXJZkvFnzjUs3Y8+LF3oAwvgDVYpiUfvf3xi14GK25dw+2CAeg/j/MHOmv4F+kMQJ9zD\n",
              "9KfriHa/13x18R3vS5DLcqyw2WcRH6JE70X/vSVbq+v/r/zSaaQSj4OFqnMW3Es6KNRbVseB2yfA\n",
              "PC2BC8p88VdUjquBD6FmFZ9UkBv+JyyJ4qDqhX0AyXsUURF3G4ClVmDmt3H3gI2ZdSjuat/hnfKJ\n",
              "t6yaUiq6/s57Q3esf6sDxDeYbUgRCs4mPLAZoPCPOd8QFVX8J6gQgFWJ63ZwqX7sNlF7X+EkF4Kc\n",
              "dEkqlcO2JW7LcWW1foBUcN5xzuxUt/Dzb3FQiJb9bM4J2AiY+vdy5TZRqzt133B8EKd2JO/NFXbJ\n",
              "2xui6rIvO2SmhL/fWE+UV1Mfplzce5L5oNhp02y57XO433RRzfoEwPksU8PTBpVNpkocFLbzjMld\n",
              "3i2TXf96/qYbbUp1tBq91Sx4qog3hxgAAAMAAAMAuoEAAAg8QZokbEEv/rUqgCC51twCEjAhpg+L\n",
              "/ZCL3/zXDsYlaP6mIX4Gp4Th/sT5pnF/FpgT1FsBQElQozojwEkq9hjlwiXr7eifvJNSBXaIyLv+\n",
              "/9Yg7/lg5u6EhhmuFLIxWQ3O22nMd5PPtAu/MP14il6RpfyV/8bUT6ck4AwTOFexnxX8B5kb6Z42\n",
              "TAH5jIJ1ch3fYnuPfutDOJGEzuQ1iC+7qbcO3wqIjxDSP93QUQIIvtu+SNRA8vLngnqcdJbEPtc/\n",
              "8MkrDsweT6WddLhHcHo3aBvWnHOGcmB2k/Q4RhZB7YQJYcLMrphuJtzuSDrbFXIHcxLMTDc8VZf6\n",
              "TumAxi+32nytVqtqmcYv9Jofp8MjmQ0AaA0uJ7LpBfk5L/2LxBOXH1+mRuqVNamhKOKjk0X4EIYE\n",
              "6DdaTfPe5GHrhxyMoztGtY7T1Tlsi1DQz3lqMbUP+fG5poLlUQt7bTqKq/rscb4ZuXXCFVqxaxc1\n",
              "lCPqvE+NbC6uSHmCHFPCElOcSbDXe13uDzHVvy+IFc9qTH+SqGd5DdOc5LtgvlnZUJLVhjlrhc0b\n",
              "z6SCRG+pIgDMykV2KPmzeeUK68O1XWKYFDGXIiXroIExC1HayfSirejVNcarSXYfZwOj8N3k7tJG\n",
              "ZdtaBdrhkZoLQDT7gGJIzd8AlqN89bEFpF1PYdBMjqcT+8v/j7vsbxCJfMaTYYYEa9xMNkUJw3zZ\n",
              "Okz5cCOa5wm+annxtB+dM6e/djd82x9pLxJw7xj89n6+pptdRTQjBHgtdVV+kl+QJXy9rPjBOdP2\n",
              "0VgzBPbDiL+Yy9w9HECf2CXJhZY0KDIsZgDMQprSN4Uxuq0pwmQfQLDBppX2GRcXxnP6dYBcnW8n\n",
              "8GEIzT2smhdmXH4id2yYFQvx/j08hDntcKaQ85fyg4wCQrHhizckQeJUZqdmw8QHJeO1WuepUT+H\n",
              "YLNpQ4xjPwXsZPEVngPIISUrnGllDygcbX7qEtRHhWBXBlw+JzaO/h4qA5XL6HHpHzVvY3yuVl3g\n",
              "ummMKSqvMPBx3i2h9gnzvSBU0wtZfWM/X4JlLcoUEvjDfpRCsyKGzHb3qsd5zp9wOEzmoPo4jfWN\n",
              "cTztZ43LGNqTbubbG7xszBkv+RQ4lAfSCCeVnLX5ITa8CPZG89rmq49KZw5PHRli16P/OnkaXNXl\n",
              "1WofkC9L+TmLtqzfVfD/n3+cEVWYidYmzYhQr1yVlKoLZD43wnz+zo7ph1paxo6y/BeN88GpXPFm\n",
              "BKw/dtc8aV+KyMtpK8+qmJCzh5UtoWgBN5EIgaRT4a7vu8yvOG++f3iYwrbB1mP5noYI/OZIdtDe\n",
              "2yNv9H+VfnEqmA9y2nn3lDAxLgfS2NVZ8wdqjnU5FLJntC+/Oyb+UHSgSp3b96ak1DM4ZnOSSmw8\n",
              "wDKxfuFF1YIfZJo+S7YlegRca/VAbLbhGBT77mVddaeuwFk0esvdFtAWz8mFN/QzJf7n2pOMV83P\n",
              "aeq6r410I4ZXtK/aDME5oIdN0/E+p0xy/F8Fv3ZUn+VakC6Sac/+0g1+wnGFMsgP0ahrllD/f5XN\n",
              "JY8Q6lGU8gCddZnjRg7T7XNsTjXG2wdc/ImQ3nlmIqKpSPrX54c94Besyo6VUbfOowY5C4cGqA36\n",
              "isK8qga3aw8n/ENTCFlICvdUI5RA91nuv7NyFqlKVAlYRE4CnSl7qlimZlIIko/9exS2jJYSymYm\n",
              "ewH+/g5GTCHUzpX1bY/Xy/h5j4nqlssZrF6obxTg/tMzfsuz1s82s0TG14+jOz3Y38SULzAzumLD\n",
              "vQSjqWamKgxoE2NBiGOJKGCXa+WYsjgumKrg5HE41mPgru1LEQmI4FtxIEld3COetK3S3d7L4f8R\n",
              "+hId1U+GzNeaeZEqWIrvZmL7Oxtj1QryS09M/XE/QbIVJNuJoKGFPuxB5iyj8+1XRuc8JgSVkXPw\n",
              "C+uMRR0XXxMZYK757GHV99eBlUyKkvMF1WBQESH8/k0i2D5iaBSIa/6ry1Nh0yAMQ1R8cC2ry3fP\n",
              "yGTwwUMXqcVJykl7cxuNN7rBC7LrpcbjHe5uOhftuvr9KeKL2ih0Rw+XNtT+3o7WdZ+kZ/nklxgh\n",
              "2JGWJtlj/WTzNz8cxsgAzmeLsBA3uNL6NY0kYPQk+VJMcaFBNQBCoYeL+1rTxNsdNFMmiDTXlk2v\n",
              "/aDnIKLdSUxn2Rj4Ic9J68HhAnGHGNhnCztMCWATmmNds5lei5DTyGmDUJ2nUSgJH2fUHUc6YbWt\n",
              "9ywrblMK9iu3IJKmDN2ppIV6EoBcwwmr7T5QoqiFwL06UTluEXKROmX5048PplauI7FR333n3gTO\n",
              "juWRFlqBbnyFHbrU862wHMQMr6fS/O0gecFAHY4oNd25waycW26Z2Z2hF1ejINDdFquat6wE2Ydk\n",
              "NkvUDvBODPs9gnSUOlJZY/QQwQlIzuFhiw3NdgJ+cKUb+nJ+awWR6EFTZwLWzZYXx4j+S0SV64KM\n",
              "vD/bfwQw+HTtzNlUM4NBzcEDfh95pAXh9/gD0MeoS/4a+LvbmtnQ+PHOW7yJv3K69FDz2gXxu8WK\n",
              "jEygy5K1bzk2QAobEh5Witgh/KQTz7U/Ti+WEUlEShkBp22wHuGtoJmqhmsXYfWdHNN3MtK3kEeq\n",
              "ErqafwIZN4u9o5vwf7kGuSpf5FcH1nOwl59TasVsUMKlmRCA6jchX4SCk+/rsgEydlO8vNHzKRtF\n",
              "kRsdRyMqTpVn8cBc3xyXHdHct9eowku+HrL7nJRUy52UEdmEsjJBRyjBotn+Ff7yXAlCPAAcO8Yb\n",
              "B1G479ikLGhbLcFz6n6ojqSkb8f+D0NrhfMeDsOUI7DcaWgAAAVKQZ5CeIIfABV/nTQhtOZBdyAg\n",
              "HCSlXSVg8H4ONgsyliUDB/7CMq5ZACabZRBo4txSFJm3B17Ugv6qHx6p+KZKIhCEXPD2wZm11/o1\n",
              "66tyOQm0mpg5PIyT0PdAI7/lzO8zc85zsw7zOoVO6Nze2wbLa39dPkauRfZ7B3NkAky8Uo5uf9of\n",
              "ThhqKRkpBAfWozhpAsOdghiGiznO6KfJ37u//Y95lDHiJVLrJEDhsJF8I4AY4k7NmfFW5dJJfyPl\n",
              "WEC0kIoQZ8HfhWNQGCcBEo5YDlfgXRe69aQNN7aXXI/tPKrG2ltycDYgdO1KQYDBZrfsVhDdPLrg\n",
              "r+PErzUIcXWRzrYmEpTCFweMjOy2vH1ywu0NtYwLpqM4MbbgE4Nywj3zXvuE8Nl5NajJ83Mpy7fF\n",
              "3VwYf5OEM+WN0WjDH4pyfYMaWB3YU7d+EzDFUcIpytUCYUUG45RGENDq6r7+K+8zg5Mjge1jqdED\n",
              "tQLUyFG8McKaIMijUVXPJxZqZk7lrqkD9iWcTXLPqjXruOX3YurW8NtxpdsSTOW6tE/e7OPeGiP3\n",
              "W/8ss8FkQmsECVJ7FlqrNfGjkUrmFtZNBzCXYtCfvrpbMFWqFJt3Nf2sueIF8tawUHf+BlkzqVXd\n",
              "6NsBv0xsQvQzkkocNefg1WRruaHnAzi6wJrZh2yYQps4nEH4B5MNHw5kcZLiyZAxdvYqSaQ11kGt\n",
              "v8gR7nDGn1ON3nfPv+w1h3cFIw6H00HgC0I1lWCn2jBgBNsiTilbuLGYXnF+SwqNMS8x1M4v/WVQ\n",
              "wh5HV1S2pl/p+EzmIMtQ4hhZJR2Yw4mWjJcCJ0wDe8WRYlfHT0IGDMkCWBvfSVJzAEuJmxRDF9Db\n",
              "zsTC4/s2qAT1LDhzCifmQK+zKTWG+PZY2H0JdTHPMn6uVLLxcfrvEarRfy8B996encVJykkGdaT8\n",
              "+hYHMF3AwWq6UQaa9ODj97waRBY8wbsnM1xPbDb0AhCxcbFHbF0eP1Ag7RJmiSksRGHAAPaKI2Mo\n",
              "UK+VyW5s8MJXtJymyiV3mXUKFgXbd1xvI+3zspcuSxiefv3S4Ld9G0lGmK0aO3p8iMTQLhLpJClr\n",
              "/e6ZjXSSva/qVd8CbECTjxUQAAkkqbric9tshrVOpbDZoswoQutkmKRVTMYD0exi8lyJiWBKf9Ku\n",
              "f8zJ9u/TVDsQ8S7Vuo5w0pgm8x5coNH52s2XlGHHwHVYC+r7ntSlSOuXsTytGO+3vqWdtjGcBsUa\n",
              "VCn0THCYb5yiyUF7kYUdIR72ytK6YaK4quXBqd+WKsyRfmh3Gk5SnAsucsYyMuvd7xdk/CH21023\n",
              "on1KPqT+bCtD6PRwmtjzORMS9Wz8/uS+3qcVwsakC7pehYLJyi2fcUQMvYx6tLHUgPmPs9qwQggX\n",
              "stje1o9gsIXn/WCQ6EPs9MEczuavIcolRuBcDos7lSkE19U0gWhYXr6ZE0CBvCJSu/uwo9dY5CJZ\n",
              "WGBTZ0+xdBJTp7+COeSJZQVDikx3wEfn5EItOYzMETUhQ0yNXzROQRx2wc8/fY51SgEKpyexKZ4N\n",
              "+ro4P+VsFfFaJGnCA0hZ6Bcdz8n0JfTDv0U203VEqEifWOOsXHufoAZJIb7k/FtUCAlE83ewZIjI\n",
              "/Ru29Kz9PwRCeepxZYpB2QnujstRHY4vZOVakw/pdruhe+qF/EXD4tMhOVRFNp51Yh7ikc3QO3YQ\n",
              "Qr//3KZRoNTYVCZhYgJG91YrAyE0IIh2PHHyK4/OqSZljYRHb8tftJYTkFk+WUCRbvrszg0MZFdk\n",
              "nn8CS3aYvMvLHu02/K99uw0EZmU8ShjSgQAABNcBnmF0Q/8AL4Lbo2+2IT6fBZ2tX4i6w/wW2sAB\n",
              "xbQJRkwUNFLiQ1c0BvYVMCf6DXWxvXr6bO03nRNohmlyIg8BKcYYNLZz6Gew1Qt00GOI+O2w8mNI\n",
              "YQag1de4TYBjfUvvq/RJBi+7GhcNGzKWPGAeaX8mtEmHHjTYfC/MCiMRB6/F1cGzp6Azpq+dHP8G\n",
              "tPH3ICQpaeDzbinS5r92KyezQyIgDuGbMOCrr6n59Ikb11oAuznyMGt6LR24zSG88/1KwKJGIqP/\n",
              "x4aVICfprciopzWV89sTCBQ02YYbQuU5l8h8uYb1Tujr+Qf9iXXYBdLCB17cDnopYLkNpPHaKFwm\n",
              "ut4E33U8YwRc/CaScuD6d58igzsYIuDCfQz2CjsFS+dmvOnK/OpkpefUMsKUZO76W5eZncvTpmw/\n",
              "iYuc3yPTONr9R3nUFvMm0w8fi7ZxE47hghQ4Zl4M6dxuYqk3IdsTYdkl1y0XmKUkCKDOamjBB1yO\n",
              "pc9GHkIIvcnFB4pKz3+LSJLtkcexCoCfd4C+gT2VU7aobvkE3vrFq4QmpjYtVqbdvfVwmsEyvnzr\n",
              "jvl5dKKZ3MLpgyiO+IWBBEA9zE/wau1IStZfqy/v6mMBnmmBne8AhvCuA+/nTGJqd3vZ05l8g0uS\n",
              "i1loxqZxSx7J2sWfboifVrqSRH83ZB1KGhEEz8CpMGYuZwE+ch6WYEWtKI2mmzQ7eyUH0dh9YHeL\n",
              "nBsnj/Zkwu77HPO8UHABd1SE2TVBKwmLS/kTBN/i08pXyp3hdkcY4gRUEdWHONaXPnI7vyuw5il4\n",
              "qzfG8evU+uhfLg59xg5kMlO56LAM+J9s7yZimOZMMdziW005V6OAyd0Kacvqjnbl5wZiAAgBn0MY\n",
              "RWn4pYiD4EH4Stfga84XihJVg66loN3UmQLisf18PJN7AdwVoBdjwQ5SMPa5eW+s8ku6uh+/ARbR\n",
              "AEMbRbInp8Iw8VLPQZ8fJ6KCgtLCSfQ2QbpdfGtXh8loztHK5iG1+9O9VOeixPQNE5gS+qXQV7ly\n",
              "tJj2ftUqjE+1IEHQ/XU5MKrCjtnA+Cx+2JHDOH7aTKJI00kD+CERUjtebyjrz3a/vQj4tuAh3ZHB\n",
              "cReGbNfOk/OGLwwi+2fvlzdmtCYdf+AFQc6SaYJTC7wn6sH5doNgIDPZZkEEd3E0QWwnXKZfuJxg\n",
              "WQIl3PMiNPimFamcxVRpTN9+Uqy2zh/5O7LCmhlh1MkKF6fKsDO8ZNmbjDNr9o08QLKsHa5kbeq3\n",
              "4srZHjVGti0foiFuc7208AR9GyPCKz1WqlvjSCcmMOKxxOS11vbsYQ0JS4tEu4gY0XGvwHEObpQJ\n",
              "cQSXp3KiaHAKYTa7YnuVPpConI2WNcN5Quz7pnc3DBcHaXkSZuNcIz+Ql0ZgOHOT6AkQNMoMlHZL\n",
              "c7E/1DAUCLNEGJ9B3vTB/TDA+Xb0UmfjSRNQzH3KlAbldFhWNh+/k3lU+e4wT17VgWLhkGBGiOXB\n",
              "AnaX5sxIpzYE3ABo2TMB/qHC+afCZVF0l4dpceVILHnc3lG/qZYv2kWu4gSPygIDqnFgnS5Lz1F7\n",
              "c8OOgzZp5YjelksotYXVJ6u4m/vNn+zLdp2J8aJYS+9RaCfzswTWjzeF0RCt94y6WrhQ+8++ftDX\n",
              "lh5n4jBxTBnLqH2QWcAAAAQDAZ5jakP/AAMjmcu8C6hgEqq+ok2fh9E1+AFtIWXo/o3elg5JjTPo\n",
              "R9lziRuF8Hz8DeYyr2SsWkJrWULqPFT4kHfebJbPM5Qo1Ky2BqYo+0XYWlAwTlL+2vuNbnXvogcU\n",
              "gdeQIip3gU4gHOaduY8m+GixiNtgryOX7aNNgGrQRZC+UD5fE4WQvlYZNr/JhqU72cqUrYOTSv59\n",
              "AR0yE0iq0mg57RXispHsR8t4qx7lDFcGXch4spsfn4kxVzmV+rIps7QD4Nox8ANzh5zf4HSwY2Nt\n",
              "LSeIBLphU+5OOZgKCO0EUKsAZF+7Whe0aOV1K1wfMkV201N+AMPIUutFyIGElXb+E/Oe1uppravy\n",
              "DUSAQk5RZg5sf43DOFtotUzhv1W0BQnoGKEfDSuUdLY6tdtQ0UIg4PXcm809Q2Q9D2/0AYL0o6zO\n",
              "C9TUmm6/r4qgeXGODfWFN9Vq6BvtgaBRTXt85LC0tSmQI59/73fXukT/qj97N4UO1WljU0bEgeaq\n",
              "x31uu/umlO2tdtTnqnf21Itzpro8BGVr4BFSmUDyYvVJ5XnO8RjHq49/aAeAwoNK9OhCsM0w4GGs\n",
              "d+sZ+RGeM3CZxaYz+RrCirtU4XaAg2wpBpqScJu9JgLNaWj7gNll8kRzrbp0rmZRNXILnRc6TEQf\n",
              "LuVsslnvrST2ukDNyEBxWAE8UeceaiwgIK+pbYpSJ6341s7BRe5ssW26aVxXStW4AsITmiUTtNgQ\n",
              "l0dF9F188kreoJGvE5ZSZ6gDbQSCt9NJtfYwXeCWSvZf5x1A6Git0ibuw1/rQnlD2MG4Khzv0rdb\n",
              "UnMNZBGR3KPgKGKYxTr3A/vgJ47hPPFp4/T2IP6CiJ5pFjM1UCntGUxLdvVXQ0dnhx601hsgo9pJ\n",
              "jmQU67NcagA5QIZCpTrqRBRxE78bDO52862mH52dd+P26F6/XGma1mFr2q7bLI73QQ4rQ+WtI3Vm\n",
              "Gl8v49AUAdFMXOtAzz/68aopqQF8Vh4tbx73uc05CJ930/de1eH6zyLa9kEN735+fdmJD7esSeQZ\n",
              "rCBA/VVZJ1qHB/W3ZZHBkXCRCadKC7dlGkqNtK7/JH3aLIqkLRrbtKtTTKyXPEVnfOmglat0/IwM\n",
              "4unBnFLUwymsfVgi4slxrfRREEYeZHthiSWKHRA9KXIEdCQ2rpiOgtHRtUydYqFDNopYs0A2brLQ\n",
              "kYPz6KtWiiAPWIRKllHy7wWvrgTR3/MvUT//xAYfWEwjwPeiEHOHxI8ArEc49j0eG8yxPfK+Fy3w\n",
              "VsAxjsmyIBftF1d1+465/Q7lrQ+TBCmD6LRkIcoCyN3/dCTcFeSoowB1m0sAM2Y41MaPISDj74i+\n",
              "hbqVIjabNQacpP6pYg33Vt4ICQAAA15BmmVJqEFomUwIJ//+tSqAANlUJa0VxQUvdi5Sfj2oWWMv\n",
              "6BOru3cXO5Uj7bmGOewjn7/pvhkLO4kX0Y82JlU2JnHjxSKaXA/pF6jt07IWLA/X2E4pOa7XUYWH\n",
              "DZAGG0JKrRMwdaMH8c6AZtEotxgF1mH8xgmAP2Sz6Aa6jmNe9mRMenLXq4Eis2vsnn/85Qedypji\n",
              "CSKS16FYCH+KDUc28c1Z3+wFs9o9KN182E6fEbShl1Xhx2ASpb8INwH9oiq+fLCn//viF7bgV3tM\n",
              "gNzESDRr8x2Cn+uAFOB6Ljq86X8pbxDRwt961U35r7T54il8k4BjaNsUTVO3bjWtmNf5EPfhPKTt\n",
              "H1yGzruuEIfZGhpTWL20KCm2FSV1lkUIMc7BYmP3se+4YJaEaFvEbmZ4XjC+g1fJqKl6eJWYuMpB\n",
              "jgA32LPJPDQMaDCVVCmF8bq2w3BiIqU+uk52OsfB1yWO/vjz1wY2BUog0CzCYVoE/tdzrvHpiUQc\n",
              "td1LPBoEZLnypY4XurcVEKrZE4tX//Ulmc1fGUk9zm/RuD0Y0e6tJ4aknuIxYIWfAkvI3lAHnAk1\n",
              "WRu4kb8jkFCrh06ulnUMIAwZGiScTnIyE/dH9raZNDbMcjIHIo44kVwGkwlYcdwldXSZXFtBGU38\n",
              "s4TSk9niJkM4/LCOgx+ZhkiMSInkD1K6yGu4W4IUdP4WTY53hWBPJATKarXIlxntTYFbQxluYp4B\n",
              "yGrMijMMVClvwKycCpgnS9+xNrWcwgG7heECRx8cTDZgj/YrdwdAjKnbadz5ZbbOcfa4pPTSVb/F\n",
              "EX172IlSzJtSeQnvydkIOQckaKmXoV84gW0bVSZ3HdylbzpLBm2Y9VVDF/OWXz3S3v9o0qaEf74e\n",
              "c23yVySGEoJDoLwPYG0pvbiJ83ckfNVhgWCDzERy1VNmNBksOwq3NNxz/kIq8KJsDjxo05U8YpvY\n",
              "DjqStHuZl2ojzvyug7UZ2yg9cbcmYIrtb+/MBeWK/T5VnmMU74ipGf5vjgQAc1No6E2w+M5YcOnD\n",
              "YwoRHh19rbq/8CHjBjK3aDSjjNGoD6zc5c4Gt+XR0vcrHI/rYDE2cLrr9KMt6YatHoBF8kRFaSpU\n",
              "38k/4SM4NPMDFXtogNKjIac8gn97h1D0vq+VvQsBAAAEE0GahknhClJlMCCf//61KoABVPpgWMd9\n",
              "/UVX23DuFP3DAA0NeZzXUjXtDz9vc5AleXppAViDTFIgmky6Psq//PEB48S0etMJ8If/Diwewuek\n",
              "sItRDPGsyPoQ1TVflNrGdjNuCy1zHyIl99BDz33A3+1IFE5uzWaL5RiSqy+KYLAEt8tpUZFnVuu1\n",
              "VGerg984mb1V0USw0m7OdFP+jYNI//rgOVVmnAM8xMAIAu7gae/obwfOhOi4gNosU6Or+qmMxOC1\n",
              "zJ7wJo+tnu5oHY7BSweML/7SOg/B4rwy7UOXYW3Xorg0r1s+kvgdFrUxCqjkmkKbBXz3ASh5OxI3\n",
              "T4ZJK70bbW+oGwqR27Wj1C/Pgf3/uzuOAx0shvus6TzafChOqUhYPT1eKZHNesRhg3N+MpIfbQPf\n",
              "r0/9R/Qya/cn0o+3hkM9xxi9a+KG7obfNGEVboye+coe0tko+9bwF27RYHGMaznutnP5i59RNetq\n",
              "z5Qcjjyw5F2tQJa+Xo5stktUEuX7KI3sdeT5WoZ+uZwcgdg7NJ8iNW7Thd4Frf34Zy/Ecr5zf8a1\n",
              "3oXHSZNTn+AVVioZdyxT34LGs0P27xRlBrVMMCDZOzt9m5GsCYap8n03MjwrohgpWgRFl7RsY1IF\n",
              "z2axnKyecIScdo5lB8eozTH1fenC8pIPNw19+GkLwI61atygBnP8NTTImx96risIdsK07BF3dEZ7\n",
              "xvyNaduYwXKXw/LVaSjmVREz/7RVGXTMUSJ8FMldVsH3msK7MbndDIOxAeNNZYFo0CPOtosFaKQD\n",
              "0fDBpBTlx7bEpSjzvxDarh7SloYJ27MNxUm+fmCez+mbsPlGlVT9H6Zaihnc8/6jWkYAU7MEuAMu\n",
              "iMUWTk1qBiBrt9duOs1V6v748Gr6IBx4FID5Ukw3il2B2H4vIa75iv0vvsuirz7QIjsua7mMVsv0\n",
              "ZIfS6dyZiL4mY+Su/Cf+QffOw7el2kAWFdHh8J7TlsrqS0VhC5rlsF4dq/JWYJBCJiGaZLMmxxEN\n",
              "rI4e6V803KwiZGpvG0iLtQnhZ96KLKWoIMwzSSrT+aqtE9f4OztYAO5gEdfW1yEERuKMjSH20bLs\n",
              "2Fih8Xm7tV5MDhVtf23ODAoga7sAhFa/Zno42U0dcvECeTssGx1rte7U8463drGWR//o661OO5Ko\n",
              "c/Vp9yeGjmD3bNdI3YIEaxIHh5T6gdsyZOKckQ6ssW8i3S7Lv9rT8J/TJqG1yUxDm0EHUm57eSI4\n",
              "6apU879RM+Sho9Z9cHNDBT70zUYLDjyk1EsEioVc81FB/HU/z2+A5d2AF9uVLpOHTl4vsqon1jEO\n",
              "OWHnKnJNvvfmTzBETrrJZpo9tJD71gZFhiuEdvL4nImUeDmkVk3OGotXFnaVnWrQVS7pAAAGn0Ga\n",
              "qknhDomUwIJ//rUqgAChfTAxCn6/5xyFIAGjqWZzXUjeWBiEmwZ4kxi9AGFhQkTiwPPdF6jdyT/8\n",
              "bYdBbjVU2yEtyE2ayaC0pvoAezXMS7pyVGbu2SdmCLkn3a9ZNSJA8cFrqOb4amEeZTglKVG+trIz\n",
              "EZUIvnuWqCuuGKPfbkFun1X4BU3RwUia2CjASw+80YpbaiILuPNeV1nLm0CnkpPNu0T29fdrQxsf\n",
              "ntCcKlSKMVb5n2b2Mx4rwtjl9unS4IUJQSeox31VpVagJs275afeo9if2RgLfE2rHkoQ2y44v6k2\n",
              "NzqxaKFOBBbCJlEffqvXPdNa6J3weOCpbuVzknJQ0RKNnJ9q9iyUXDa38R2srgbIqs/lDHpTBjrW\n",
              "LvcMapQxCxwFvEpqfAlKaN7Wm080F6zyQlpPpdRFe+vxUN7tDeKe2LaWEvxdp0ZwiVjO0faqn9KW\n",
              "Wx003tFoARdAhw5iziwkNb/UKpORnWscEHQVPD3ZQm/Mirw2rtkTTkDLKtHN4SsWX6T0rcv2+d7c\n",
              "7vExaDKy7QP25mZP9JlFmaNaViUe68Y7PmgW4dmxVeW4r2sXeFbT0kri2TJhH6/w3yO1Lxtud1im\n",
              "S2vdmbaZS2rWHAR9A2L4nh7mRlywGSu2K0calqNzAP8DR0q8VlXeXpcrviAZRk7rWo8hzOUX3nzz\n",
              "muxqY6OFO5nWcsaHGE5J3c1iiiZGnGH+Yz8mms+6BtW8tKyAaIEu9oxeU5womawk7HikGDfuiAsj\n",
              "sO0Se/3UsBO0P/BIGhYJvut/5Sl4A8P1mEEZMB5dEEuq/KdlYvXqVPEAwRKYuDLyho5nRZ0OBFFu\n",
              "OzdQJEi24uaRh1TQID9bzPqFF5YX00Q7qP7msJW938Ct6zq+8mKNQDZr8+Tjs+fSqRddlDSNMfqe\n",
              "cfUQ/yz4z1W6JWMqieQ3hkehnbRu0Fs5dXN1Xqu56kIZSr2hQD7v4yyaW6pBofx4rtD+tPnpPGRL\n",
              "8yKbNClP0IZDTzT4l11VGpdyMnCetp1TnQZKthZO1DjLI4ia8Jt/VfTl3PNMZ7HDNQcB5r+7irzc\n",
              "jLNzwo5pfoMpvtqzXpTxAYVr/wX4kwQqVPxyJBeYNadgoTD57PuZYTwV+RQWnJ0uhNYyH3eTunkG\n",
              "EZm5aJ+U81npayT5+SzhoUfizocBF567kJDOm2cesoR/fYqSw0ehT4zGXXmREiOStwPI3xg2esaw\n",
              "dOBumDvr+Itue3XoCCZhLNWY8BawdIKNFhKZ12luzuaNmeIFr7XCCA1BQaSXEVfzeboloM1pjzJX\n",
              "ajCyNvT3jgshWhePPd9kJNW58ge7X+tDWHdnWt49TYIqyTRII01xG1+qn+JSDcMunCeYoBOE/VYf\n",
              "QuRtqQpVb9Swc81Wx7BO2zUVA287fWCDdbkP5x6QX9IcRI5aZGx6cqcgpgEhiozZiyG53o1Xpnov\n",
              "gTywvredPnGtnlFMCTlKSwEiIJvaqjtqbNPIsY5KMCewDKUGsvcUpYNGr9XunFu0WbiR6JppmVWZ\n",
              "LkT+5RXCKw3YzH5kCf6x7gf/0vMM9E6JT4srEdmB0iyErrkcSTo7HCzGVF9FgJLmpF6S7mc5ZyRi\n",
              "ljtDbqUQ7W5gwuy+fp+aHzMCbpWbD6WtfNz3op8UIHAUIY0chAI9ISfG/mLGkLuv8RB8TmAn1agz\n",
              "37bclt3N298der62BaXaRwyNr+Lg638ojHKlEtiqG7HxdD90BbMIXMkXPxLpm2MSbtgXgV4OVC2Z\n",
              "QVs8fvQGDA4fowoT77wHNPr93ZUqCRqA3hgd/kE3mOtBE7x9hmuy/h8hPi7L+jApeVMxi1FtDe5r\n",
              "64F5Qq25scj2AkKThk8FgU/cRHfF0geBTJOBOcbXOoaLUZmcmhNgGAX3h263trxmxtk2WkyOnnUT\n",
              "oBp/lAKlDEmug2V/AfXDGuURktIofe950xAkRs0aCySzx3mNfpvtJiAUMcLFue3NNbsLR22NhRGo\n",
              "qeuOAtv1Z5FH0WmErqWqzstFbx1lbeYgDDRSdz3F1ZqCftQE2Ft3Sm1ROZzuaJ2TW4nhbqkA/rhb\n",
              "VOis/fmy0ny71D6j131oIs0jPJclgLIgBakUhjNP7RjtfX0hfkL8XOnGF2feBCjdBnfrTSXu3yhV\n",
              "gCrlcbnic1Op4ywZ1yZevUmblibb5YQwwO3RXkHohxRQfkYrYm+ZRWuDZ202Tcw3hS/l0nTebEcQ\n",
              "IiFtJLUmgsPJeKTNj0IHECHB2ehbR7ssRmLe+EExrd1FBTfpSIuzuQAAA7hBnshFETwQ/wAAyNEB\n",
              "lKfSbMS8Z1565jUAAE1exnUz0JaA6piFmrrROyknJNF6SN7j3XSi11YfATw6VcbEW8GgLuuYR/iF\n",
              "2uldSYLbWWDlsD4yeZzAN0kxKszf6b+ezpXx0fqI2pjmdiaLU+0p2VLM//34dLOLg6TI6NQBu039\n",
              "GKKYFqbvIzdnBb1jxfWyWwuDxaHUd39S/BoquwbLocMMp9oR7ROZDbI4w2QZQMRBMx4zIXtd7yeL\n",
              "xH3+7s+cfxnDqQtHFEpWbrSEsuLfaF9zXGfdplILgBdj4OJT2bk8qaP5i4qmG29i592xLU5aGW0F\n",
              "oFi6zz0boiU7EQOp1jd1rmj5b7m98hS+pdhXZXwbiDNBtpSGjomMK/IINz+qs/9tBhjCT67d1SqV\n",
              "yUTClvG+iM2aMNlLf8W9lIO4TyokhzetHOekUQYQ4U5H0/GcboxP33yfb+I6Rkh8nyBYZZhLwM6u\n",
              "558A2mL3timGw12LAQd0CV+uhAFjkxI+BTi4yq/LzQcEVo2FqN4Om6/ex9SHsaKQqqgLriCiViHz\n",
              "V6WOZ0m7OAf12n1WqrCDX2d1I3FGBispWZPekQe4zP3i04EJkAXa+MjTlc7DnLMc1rRBwa+HnPaV\n",
              "JImYwleMv0goaHFtqUK6MX5wyntzd1P2uYdzrwFvyjbnivcEbJohuMGfERVrCsOWZt3isMfWTUTa\n",
              "Ud5yNVc9Od5EKt8YveHPDGDtIBKYMVIQG1YHCTTRcjAk33mybBprCHntH6drcn8BIO1mDkqMKh1E\n",
              "ZJ9gAHCQR3Q7uDueukl756YWCc7aKkVlGZvChXzn24w4DnNto6H5F8BemwCq6hNu+qS5nTmaWzaX\n",
              "zlhrvcUFMNy/lZxpXFIKAhlOdOPUkXwJRy53UhbldcxgmnrtNjdyUHIgkq9JOZ/nkHukxz1lBV4Y\n",
              "M1Qrq7tX1AYqptPV7anQy0GMvkmaFxRslTJQSbvFNC7y6YHVPuUAIxPU19LGiuQoR2Qm9rPaNKHc\n",
              "9MnSNXAGQJxEgGlRqVg8JAW36Gl5NDCFS8OqavWX4ORqVg7KQBBR+PNNWWN/4Oz3UZJYF/xoYQRS\n",
              "t/wN1g9NW0oXirXSoctXNSCj5cD5UHbdyy5CjcqN2Gt2tEZnWmxHwfpy1ANoRB7OMC6+C9+k8wU6\n",
              "DAc1uUfFF3wet8sVfPVXurF7kMvqer0V6n9NvokKKewZa+mns58WLk1qagmROrTLNps7eeIrF7H3\n",
              "ZWk8qWEFZ21Nl9cFidwa6l0FNmSAPHrNkDKgAAAC1wGe53RD/wABubpSaIGfV/CUIYPcGqbUAEoF\n",
              "rTptLXK4Zvm4S4ttK0J//d/CG7dC1Ai0wMhH+GpYwE/ou6FiEaLfCzE5rJkHknql3Ag9pN2sEX23\n",
              "uNRFJ7vNE4KCTNCtp3lJYZw/cS/lIKK9aMibwkp9CHvS/CTPQFfo/xI7g28v77WMjH5k//hPfnF3\n",
              "gdyZpOvRCMf4da7UPUUvDdvID8wFv4ABVhJXwP3ozMGwOh2ZsDNpgCKukG2iyKWdiXhxTnItKwDr\n",
              "QGJGYdVh35Xohph76TugMNecC1K5SciDGCo+28D1u5gWbeOSlCFH/aksbJemsHkon9D5SMKRZQgN\n",
              "mus5m04luOX9t11kIvzsfxV5pT+5pcX+mWeVw5NCSGubv9coQ20Fw3XLLrDrVzhAGF7YOznvzIwv\n",
              "Labab/zSNnH94ZHmcoNndjGyi2nxxHm2GnBvPhd3Nr46DlvN14nRQu9ghw/gQCuG4Qp0boq4ySzY\n",
              "12NFfdEoB3gxy3G4vyJZzvKyL1318l9PEyyx/HCJ28osD0aYyOn/9rYNObifCUE7kYYtUFbDIo/a\n",
              "dPsd0tEj/16xrcJapa1Ii6g9zyOZEYtyYmiilaMm0A9KWgKYtmNGbUOlQ2LOaXEOUMtQ+XdyNVtq\n",
              "+4tJ5ewhgOEruhFEUsf2eEmP+vSAblY5r6B2JGHrIBdfoONQxZ96MFFPXtzBwIAJZKyNw9dEEkJu\n",
              "kPwabzUaErAwubSTt7jlddaAOBFFb96QVqYHDLhOWRA4lf59tYeSYd8LvVEXvfzdafPq21jxYhlY\n",
              "tID8lFCqawGdeycXqZEvKpYducITAMjD/6zs/qgRHGfh9UrQRayr9hwbGMg7sCNT8xX8rnYDlhT4\n",
              "3OGj5mKngFdR2e/BxjxVN2kBK4CzgTusvti13WclCoDqa/tV3/+LsZaMW0VrsgpbFw5CWXq5rnT7\n",
              "f5MMdB5ahFjJMIBEjVDapWwAAALdAZ7pakP/AAE+R+U/qn1Vr4aEepuQyAEwUCvSLpvihkxPZ+pJ\n",
              "0PL2LnHh6dmn0Lac90SnKzevdlhZvQ1YwNm64wzwTvSoxqGjh0ItFyTwGGkBSRMIj95iuhyPaFM9\n",
              "mFJInD1cCpXeYxPuWHNcvxEhnyH7Avcsr0LkcEhbQlMqYmM/3Vo8GFbx54DL8PKidnpOzmIOK7VX\n",
              "ZZQ8U8GCjz0+ysNknrgurxmOTqPs7N8ZaitfvtukR0ZsaEc80EB6Kmwzn4dRHXW1og8I1WZQCpq2\n",
              "VGdztaygoAAdSd6BHGWvIhsSAFyfihzj7G0TT4BoZiUn7jvt+L0Mvml9w2XAoS/I84X9BVwZg0jv\n",
              "URmHeAcKTZXlENXcSBDmTAZ3Xzkr2PfEFzZH1G7aTAQ2JuqiX+c4aPOeprNGTE6Oe1ygAM/QMKmJ\n",
              "oPiXqbG5zchEOItl+MKwFx72lGtJBvUvbKc1XgQFrEuj0IfEmACv1QFresfBqShEmIcIpZmI3W2m\n",
              "7hbcAYvNeL8oZlq/X0nst8pKWOeR+Wb6T0Dcl9RKZkPyLvCAMkY+dfyVij/uXqARXn2shZGSerlW\n",
              "y6FRj9UAtmM7oYctt5Q2X+htz7vUZ9DGsw4EuRE41TioStsHq36SMR+TnQ4XClxDchaUuFfOFqu9\n",
              "y1m5kUoZTJiZ/qG8+4RMhHiM9nIQnBfXAqXE/4tPbl7P/3WtYNG92vEDBgEqa1/O0XxlwECBOw7q\n",
              "BG4r7u2p2+JvAnsSX4lesY22gBUQNtjRh8qMSHELYq7kbNsw78sOTiNEuCCcEEn2cZCHDxIoY3mb\n",
              "lR9Phdbe5W2qQD6oMIAVSJIgt9bwniUc6LhJ4EAyx/UTp32NOYCCqhLNMLQ+rm1AsIFfTsdtdkIQ\n",
              "2DdSilX+e250U+j+C1VHGg95lHerEsHskGfgPg5UseANLyuwu4CLzVi1PEfpzROO+z6aoZCBSQWR\n",
              "rAVBUNa1LNan8SjHwQAABplBmu5JqEFomUwIJ//+tSqAAHHSRqwAH6E7wiu1h3m6n0tNgQ2+5kYw\n",
              "TcYZ88V3nnkO20ae2hAaGV1LpDiguYeuZfNpVkMSUHXO+fs4GnZIJbHvVaGcZU89d+kO+tmldLnB\n",
              "Tdg6QVp/p9iO0YY0kgvLMoAKWEjdaIflfYRElVtmDRpW/K98Xxh2sHZCgB6h2BjBGAVzn079kTZw\n",
              "0uKUN+gGWZMIE071yWCxKPJkO4qXKya8zdJJOyuNh3hkEesMLJww41YrG1HDUWjhF/CZzTyxOS3g\n",
              "sA+LDkR6SLk5xG0r07Mp60dl6dyyPjRCIhabWjXaNKXC8LiuJGI482nkEuhLrHHSRkHSeynBI/Tx\n",
              "Hvq+bxCWgcK6CZU7Z6U5JGknqIk6k+lB7A54R9x+Qj9HrMlnO/MwGzChVkPrTdaWFFWWEJ+GBRME\n",
              "KwR6j2pHlmc3ZwbL9hGcSOPoE/kb305ExnOu1QESxWq40YFxvmvSMyrDriw21nULemSXCGAFO2eX\n",
              "pJ1FsWsIpG0WvhXMeBh86xz99216j22m0EFA511seKG5DpB3RZ4m4kfEWAPuGS6rzA/C5y3utMee\n",
              "TLl7T/9xygZluczmjVGK5rbun8UNa76+VW7yF/xaLEnjSKU+FYD9sNNZO87bg7MYox6PZX0w4l8N\n",
              "219JMXFjUBi5+g5Ucn++xWgE0W8IGxzvX0NEsdlYRczea4qZFoLZxG0FUiaKZ34TttMXvyzr+CtA\n",
              "z6Ig9dKJNXS8xyT5B/FpvawHndqY57KaA4UIUJD5pvhcbvFcoVfKPYUY65YuFB+8c9+OpojYUjUD\n",
              "XqOUncpuRspOFEFoGkp2tXQuBAHmaOqAH7CNlPLFu6XqWThG0ys94iygkNmecpDKDFIrOo7PW1Cz\n",
              "GGNyc60u8OpcRDYoGeR7RgGAbLbR1cg1w2Xp2Ankc+IsveEVaFHYBMjbbPPE1Q05RZ+R24LJMFo5\n",
              "vIovx9dSSofRCHw+Yo+8p4z+ZmwyycTXtnNHy9gJz77MtOgyubce9xnI/M/oOA8chYwS4QFN3xqK\n",
              "bYVMQPH8CQTjTzzhWjsleQBT8G34zkJXStTZcUqF0jy3HkFroJBJe45ec+9gXJxCq/DIkAaSUcDp\n",
              "eXzXEGOBsXrXSbuy9zZ5ZsTr+glCAsjgG+iaJ0yN96eygckYvk1mufVfH2Dy/+uKKJSk/d/zrKT1\n",
              "vHmOApNu6iW1qPpkZZt0f3NftML3yTU10smZWYwWhXkO62EabUaABN+HsYS7UK0HV3efdH237y60\n",
              "dzBXvjxfxMv3ky6i9wjtP+dDQ5w+VOJS/u611o8mz32dur1qvzsG35iA7UobkR7yiToOFwkYNH9Q\n",
              "2HbZCCej4qrgXp8iiZNgpaYYEwmKRp85HAyIN+RZ6suBHDBoGoqO1J0Bl50nETOWjBJnNWtwWjfp\n",
              "DU4KTQ1JvnJ6y4YxUpXio3cshiisXBxoANYp84WmrCLuU4EySJwRp3ltvzEg6we+bNNZ1JdxslXO\n",
              "omeq2MIek4hL+1RPMZtdDNOPURhyq2CQbc4rZU67/QaLUw9RnjrZUDrjrsab8/Cf1kbkmH7XF/Da\n",
              "LNJ48ScRlaINRxbzQfozTfxqDQqb6mXkfVpGxGqD59JfGxyLLWd5NxZA9DaO7sM3CamKZReUNJAP\n",
              "X8W1OGvWlE3EGcfMog5SPCKfpjxe4oRUqk3eDpmn04ANhALIBuJEUCP6pYEmHkrIwiXz46w+DfSz\n",
              "/y1S9PpORuPesV28dxEfNvyPqJ26C9L/9vzi8f9ayAt/f+UX/jez55Bdbm1zMCfky1bz93XZI73X\n",
              "8/857ekkjx8yelGIHWKkxT8h1+M4wnrlrBN8AF8h6rPsZVusWzN8Bc3dwOqj8kUSDOhdTxislV2U\n",
              "3DO6TbkzEWtw2IyjVj5GgMItdTRrVrt7eifsrYdD0d6EsA+bR5pgtHGVYbbq1gb2E37c92cRlRFC\n",
              "bgVnBIRUZpkUfV6Bx9yY/L+pGM7fkVyU+4J/5JESSASfgE2tExdtsm5sWcRMHXXvwApBw8OKuYdN\n",
              "vOsEZQtJq4XlZRfJtuqTNpmk4b6gJUdDFdOdx+ejT9h8ae7sgiDWA/rjy6rPhnWocWWqf6rfIKmQ\n",
              "gfBBPkd6l/Hux8lMG8zfaK6QiSf4M88PZ/FUmPErYQFbXzLfhV+W7hkRwNfdBrGjrI2FyBZYb45N\n",
              "daMXkQ/KFIdkce7jIOiXyciriF6VK6Og61VYunN7v+pNA2S7FM9JOpmUCUmJgRKs8eOidYAAAAQ4\n",
              "QZ8MRREsEP8AAI5+CSiOhYPACWd9vT+K1AK8kCqM7zvhrWKQPyAcOdISJw6PdqVsXe+7zuJ2937p\n",
              "6ES4FwXXPH0/S3g821+Bc9oUD2Zdd8O1B3cJ/K3BtvQxgaZAR60M8I3uqGh37WQAjn5yxo/efuyR\n",
              "p0t3w9lkPnjmpnT4MgRjAVgfUB2PFFqAyQZLcSe5ziAbTz4lsuoxcYM0Z0wslpOFtm3yuAGvU3T0\n",
              "OggmMg7WxJXeBWSXWb988dJncW0xqyYpYd+38zEYx55bXn07jZ6KMWsfnsjo7OGHdqO1Ib5NAmBn\n",
              "MrJiHwzRa3WzE01LUgXVqE0ecShLl6UTAsXq36WPXqgbprQ7Ux5fB1y/SPUMYtOFkMMXpLkUqeIl\n",
              "u08ZC0iS0ZcJhMkZ81BAaAjrYjBsyJivtwCcUfblpdqjWxiaTr2eIOQqTWadrfyMTnffZPoZoGLc\n",
              "p9as8TJK4GXAfAwr+ll4Nf63FRkbOYZ2ecCEOlNM/Peei5PI5mTVMdcYrmFEb4z9efG0lrORugG6\n",
              "TrKDr2iHaMRbQjLmV2+WzNAGZKbPN0jpusnOXCdJ7K58bji3fmtrMFJ4H8A+1XIDmHgCcHB8flJA\n",
              "bk9I0+ZJ/Y5ao2HnB30Pj5+9mv/TJm12akS+q5ANd9xAn4m5qf7dzW1EXTzJMBErBc3Z50X0DF28\n",
              "gzH0iiFMR0wRaGn1IuuJj4dQk99WlCIhdNmK5gsAjSq9v/981HDZzhxDlOm8A8lzt15IG1SPUxm9\n",
              "7D/l9mg+HJoiPPaE4lnb1yFmg3TSCcWusS8YkDaShZ6Oaiv1d7yizdptbAEq3NLtTVarhHFbR45R\n",
              "deMbgzJbdjaT00LMVmHmZEPWhmnmwGY5nFU/0hFiLaoLYQ2tvCEB6ybU+GFozoF34Z/0miITjB04\n",
              "ySnEYhi8pwIuTMmcCrUGNUhbWqpgfNfa1w0KL1R1/JcUltRrf6l25jD33ccrYdbxq4E7JPQM01W6\n",
              "ndCUyDaqYlXIRaY8f8xY9PGR442GNRB0cWiIuFbjPewnvWKgWTXtpc/NgmyqK/Y/7IZi4lINEXcD\n",
              "khFnjHb0xHsv5i23L8Yqv02uXcxOQPQ9yEcJ/+C97jpjTr5hR9IaqctZdzIEnPjRDYrWHHW9EbA8\n",
              "ftpBiV/HShmLRJdmU/m3Pac9uKKaKtDUTixs5Ky+3IfUfV6V0giJe3godi3H4fVpAlzgjkC/IDpn\n",
              "4eg7GTNaUeaeH2wJb9ebTwamUke2c47k53jfoGWL7UKhc5Zrw7rO4b7xLAYjt0LNiP5zOTKT4b5T\n",
              "H0HQxf5FHh/ZD9ICW9VTTKhds9FthPW2gNEUWdmPjA5pv5skoWFsL8IzXQJClrKajI9wBtuyLSDu\n",
              "BUYkNMicgECbTattsxsf/i4I71JUxp4aET9eJ4KvrQf/RwLpjQ80FdUpAZUTFJjFieLlladAAAAC\n",
              "6AGfK3RD/wABOauTb3doe/8SbwMACHwTIi1pUORVuN+uMo8aVEVs5gTM1sfSS7vMenhqsWKwaTrd\n",
              "qhdGXdFvqVHRk0qGQZPSSQ+yIEAqh9YSOxjlzbddKgpAQPHBm3DM3EfNX8cSXncD1Ezmkujd//8+\n",
              "Fmlb/QcyoTERiAfXe56t+pwDzTF6JiXsa/xjyIsbNiI+89eYgeLUre6wKrfZhp99cqBavzKbx48W\n",
              "Kz5yv7skqQlFuA0EBjKKh6GNHr3f+rjY89OSkYBwWo0QR6QHZIyJV7Rs++ZO+ZQSso55/wlE+ArQ\n",
              "ds71Q9vL78/H+BtnBe4nx0CqKmXPY7Q0rKVCk/zI+ETCwqnfHK+Cw3diilM1u2GmObhuSmxssaVo\n",
              "znK+Ntf8iF0PonBzl7yoM7FRN/CYjb2lBD4p48HBGDXwmzkxt5o44BsIF8+EO+eEapQXvH0ojGX0\n",
              "lrQaNaAaSKw7vUfo4NAFXW57Z7hzpYF+3WJptPddoJbAByA+fHdhTMtxKqhhPR3ff+vCIsMjYyTB\n",
              "r1mteGOSho8mGXPbE0LzoUNYJ8sVtn+5i0lWPFm2VbCYJSWH0TyA/kbzbQ4M4pIBCHdyi/qcd24S\n",
              "7dRlnTwBs5jCSX46RYButi8kwl5/2/oqsOGAkpFVg7hLjEyZKKnq1QObGontcSlX2ySb0jUOL7hv\n",
              "1y4CB+QJJ7uVqeQ9M9Sh+St9+8grFigIZH1ZgRkfz3+iHHiFYahG/pR3OSIOl+RA1oFFGPvW6GQC\n",
              "PwM3e6GzVDRy/7ZU/I8UxcWvdffmklUkwu2dnref2smKl6L9Xcoh6i9vq1E4tu2SqhS+diEDdJfi\n",
              "g3X3YHwskyFk9QdBSWxinp147K4oO62oBJcOza4bfZ/uUENzd02EE/oDF33cn8JqBNt0vXmmEU6k\n",
              "ljZ5Y++6hHvBoziFPqOONpCGRSW/hRwKLGDLlQHB/udTaYEysQ6JrXFMVt38hfErVZbrTgrM3yHy\n",
              "jm19sQAAAoEBny1qQ/8AATypgsDJlGmY2IbpaACH7NPhlIYBgyiS8/Nh4UsMhEJUzMX3MRFskVZu\n",
              "MAHBkIRKRRVBX7I6HNe4jZm9L8nidJUi4f7XK++8zbtcqS3Cn9OMFGyZTBm3oVxfTVJqx77mqrpT\n",
              "HCMW6THBU7kjZZnnCc7CCoQB+xr41L77c8kN4HBhAlB6MNT+a8UGTJF5abDpOw14aonTZ3X7qLnu\n",
              "9GAzlAbn/nKRAOifzzpdFAHsoiRcp6vJQMdNzgh57mOKtHnPhCi0zg3IN1nl+Q8hU4Ameyq6aGc1\n",
              "f8h0dw+sHx3C/liyW1drSo/s9ay0PYmwl+1r7WXJIJ+XD4UnfXc57iSDJbb656SQbTfT2bAJFMpQ\n",
              "cHRH5dIEh9v/6gTGwCWtgwiyzZhooTiPYooOWEZIG4v6AtgV5ja7Qf/ziitU6IXwIUpyTWxmwnej\n",
              "jeJeUJidVzYaTssLFgdlZqwQ0pfypbAELNsaX9fRJoBE7BKH23sfn0vZMmTGgCQrkDyfq0pl/+XM\n",
              "EHf1Vzo6vsaNeVVf5eJ/+0sa5IEM3NHAdlwv0/nMxPVGD5OmSBGB7lyYygI82NY2Zjy1nk93GD2r\n",
              "6kXV1LqiOirUhEfVOk/jpZ49UIxFmGBoDvLBoaKxvA2MLtF3a2w4kyeJzCrEjy/9AjTsbNAz6jIN\n",
              "MlVZ7awFh7eZzp6TDWx9yHiXMcyLp7ZB9EYzUewMj1j3wb1/91vNTs1KY0AQgdrNc0SktnU/ixjF\n",
              "4X0enM1ovK8WuCIPSK6EZzcKV2sQNMrYl/iZLsnpCZz/OsLXt55fzpy5LSVV4ELkAFeYiRXeRDz+\n",
              "5q3q/uxS99tcFIOVRzn3q+KMIqLdgQAABjNBmzJJqEFsmUwIJf/+tSqAAOPAqwALa3N8HGgJru7H\n",
              "W0rAHG/fxPfrBKkYNjw0bxV/6bdeBo+5a0FhPdLKor7W9ImIfTg2E6l+2X5zFZYX93PwWCKWF4OX\n",
              "FmycZjTcXbtl92JaH+OrywAxPV5+jGcrEBfSzPzYcHyyL0VALrVsvv5jbvzYGsx43l1F6j+Yq1F2\n",
              "5LX3Mv05/8ix1zOt7k4wHRIpoefNmg2RYetlVNfO0y/w9ipZkZpdz1Py5jMN6SSEfyXRrjWxiSFT\n",
              "6GXEVASLdKoFBjbwvW5GqaAAcGYh+f6wGyTKfcUTjJ9CvlpKF4doGqX/fpkojYH/Pvc1SAlZk6Xv\n",
              "mCZh/zCxIwiVMJNGDHCUVpKEltveqN5DzdP0zUbCdyCWiS2JxoaoCNmEkHk9ONwm7/yxlVAYdrxV\n",
              "rex3maqkGuaeKNUuyZxOZ3wJj51ywf60SeJ304VmKFPUt2BlnEAJdaftaGcur0SUA1Ri2dMsN3mW\n",
              "UNr7yMuuKltkFTd0mQTIDlzN/Qd0CAiccxI09sWAi7smq3QtuB2KjklhOg0uqi8wo/WJA1/zTqdO\n",
              "Qlg6CNVyrpvb6o0FLbsfsXB4S2JMtAFuwmHUYeIqaiC9EChe4SJZhn5Fzz8+GJwbC4zp1pSL0BXJ\n",
              "vWiXiLJdfGSK/mPeZdJK92p5AHrWwzRcV7eT9NaKnkp0ElZkCM22tH08QZyiWGpKNBG9Y6B/S1ZX\n",
              "RFDzm8eXF3ViIfaGiber7a0igTYSbi15xY8dbTrPDafo6ZdXZqEoUv2kVmXBJxMZbBXDWlKFkt07\n",
              "cupwDyadF8PhbMcBuFoR202cnLHYuuzeT2+jfmKqbOgTuTK2lyU+iZFJA0Na7Sa/JVfoY+ac0K8B\n",
              "W4Xlf2Lglui4d2E2gEdl4pO1dIpTsJhxzunRNgz36ScqptunMf0NDVqlJ7qc+Zed6d4SThNqTnJA\n",
              "K9xHUm5RO66YEMvvAHdBoTvWkoHw1RBfeJDrORHLCRSOkA+/5zTzrsqQVmMJa3UoKVZdG8ZzAgMq\n",
              "1JGZ0sOasLzfTfs9Rmfqz1mrDjQgp3cVoRb6YFwPqChNy7e5KJ1ng5HM9/z4BcSpuDcxZyx71q4Y\n",
              "2yQCT8ayNFBsQAGe++3AKBEHxeJVBvQ0mUJbxubIeb9bNTJrpMTE69NXsc5DwVrS+P4VpiCMfPqP\n",
              "YK4tNl8PYXfI+y9GdPYWN6ybVQlnGe87W0z5hvNhWaDdezwBtUlVQn2WbZMv/xnwxwXG6tY/h2xR\n",
              "GygKe1gYL2JUiGEOUOkOM23/wnIc7qfk0onNgW/Z7hFcEPZBXMqWSraiAfyqWfgXSeZdENGM78+b\n",
              "7GSrmSYP8FXhnVBdC7kfIz4Kw0zyuf7EhzSaAN6xJj+/4Z+bqDFe9LGvmUPLWgnThZ3rXzs8sUyw\n",
              "h+HV2OtkFrlyQQy5JWUcUxBOv6eDSsI0Nos0OOqxvf1afC4GQrlCXIFmzwwCbt7elPkP3A5qZjTX\n",
              "27gQIwqiaFOMoeIkHDBZRv2/re8TTXn1IgisK1xnpuD6roSbEaDhYujtX9mMydfu7Spxs9hju4g8\n",
              "5bap12W0JStzyHtKQOr8ig5jW8LY71bsxmm7JscZiA9y98MuLAMcJm1qxQeOLTSHqyogqlRF+NNX\n",
              "1j80y1G2ijPg4IKx/rYCkALy7sqg81QCnYhqfS5FfzllmBROJ/+XwFGn1nO8sgVI0nrFt33jO26r\n",
              "d9UmF3wUxrb00d52ekm90Sssk/Dfcc20sKDWxG072XJKuv/o60Iw0k8jJ8GLtZ7zuWk3JFFAyP2T\n",
              "8JB3S2TzIkdAJzXUaxtQ9LcBky2S1tmQEvmbKvj/ru10PJ6Zl9gvo1d9q8axv/BQWFUGc5DF9i7z\n",
              "XS1EKnYAZtppkzDjHMronnleoEbjpnag/u9+HYiW6OKVk1vM2PGIYkEQgdUXcvDwz5nKAwmbDj+I\n",
              "/8zsHxsTjOIydLoioABGkeE+GnwJgFdgB9ZSsNw9b5IPaQNZn5KSERJ1gjGS1MGzssrWy4jPqRxr\n",
              "6KyX0Kl/f7sjzKNIBMT9C3C/ZHDD058MPyCOaYi14eWYrq6+RgcskSStI3tKUJ7rIPG5AOT1oMm6\n",
              "3/IY/TiH3/jOWRpeYNJo52MAAANiQZ9QRRUsEP8AAR1b9SAE1fPbDP1rUqLK+NH2eLNBPf3rX50n\n",
              "yA49OqRWMvA78lBVJRG6S2tqeq9JkmhiyAJ8NTW0b+nS4DVnDETO6JHs9d07c+qixxzpACgScKS+\n",
              "vP7k2ym+11CEjx4LDwNlR5jD/j9hsZWohmRDDmLdVCNsIWNDwU4/cGmraTx1wXzH3HpnuGB1Cfds\n",
              "KY66swY9JEEXr1vpjltKm7oUhl0usk8C7tswWRaxA/TGevRt4G0RPSisodzCe7k/DhArexnMlBGt\n",
              "A2FLDI6GAZM8SqKysuzv+qbGWuVhah0OCvKue5mbV0SnlxzeXubuDr5chtA8xER9OsFC/+iBk+uK\n",
              "nNaqjdK3+NDM3zkcIbm3EcbGWU4QPzDP8fZHSzxBKQHaHi5r4B0rsJKD9VhNtz63V5oAdPYkyp5C\n",
              "VRNIiBiQJLxeKvjcq/U820kesFdUn13qZ2VavVaUBA0TUhIPcnNB0ySLZ/a4U/w6g2KaXLb0goN5\n",
              "Iae+lZ/UeW/NeFRBnVkr7jbD1wgLi7N05qT9i/JUgkQMxz80lyQCSUji/eJ5XY3SRHgUBMpZUqqB\n",
              "xHA4J87Fu/y0xVxwPCBv8F++BPnewuA9KdAVfBeIKh+75IW1r7+7NtKR2u+T4UNdPVa6ltbEnQ91\n",
              "10Ym4t3NQEe1a9dlZfA9teZcGMBoZ7nt92dRflBLG8/pqWoenOurAl8YgBX2K5DkGGnschLTesRt\n",
              "MFCkFzUjRzt2+e+Y+92DlkRGaVMQtIENqIMea9JcB8GEIErZws+LENO1Bd2Ijf8niA8JrL9NW1Qd\n",
              "JXAtjOY5dTq+aSQ/RQApj4qYQ9kCPoX5UCVc7fu+ahdQy4JhmCvc3ZtPmrPVEOHHUhMtb+eA7Lm7\n",
              "/0SMqw91DJz8DXnNpE/y4vz09byTnpHP1St/9DhOJx+yEgtg+XAv7YwRt5Fk9cRdOZaWygCZSrT7\n",
              "ob9AyhovG86l74Blm+qX0LmDoPD6pYBm102ZPblUv6xr7qZiXta0VtpZopgYr2DtFRfkBceLFLSG\n",
              "qhZsZxk3sH3/Rfi9owb1QFOEnC7mnwfbBAb6BTvCGlHBgMI0Ow895vZ2XcQ586u4AJ8AM4a5IeVn\n",
              "ECw5+sdjF5eLmMnkAKs6PAliZNg9E7XlmBrW/riDGIAAAAJZAZ9vdEP/AAJ8pYwTZLPXkpX29IeW\n",
              "/Uv+roANjpIZubu6QEXzB/MaXmLkUkOggix80BQZsAdZd/63q89qMTGLoQvUObCNv7NGZmpK4Yve\n",
              "nkCk/x2SiFDMH9mqoEAeV39Uw/4uccmv/uyXVdkXmUsJUCN8yZNzn4qjyjx6b4L7GgCf/GOWL18w\n",
              "3uaP2d+lvR603At6jHJNf1hwJeUFYYEcL0CqK0J76hJ2VoSesnrfNkfIBFUhoPW4eo+mlMHos02u\n",
              "0OH5sULqTN7XFgkoB/GMupTPcgHAZqfO1vULtPEX9a90ZEibsThX+T9cnDz7/ezy6gdsmvvGH1kY\n",
              "gDuBhlvfn648UvWoL9R0zF/Xg3xkozNiepKHv19DtMR2gsq3HxCShTHMQ02rqsFtJ+8c+ZOuYf5h\n",
              "Ax8d/iTAbIYqFTBM4UPooZ2F55Uzkvqsh6Q2YsrHbmsx1Zk0SLw0JmhFiObY+3PhiHj8S9jr/Hya\n",
              "w8T40i7ZBdWgwe29J9U9sXlAzajt40WipqIv2n13UmHtltsVpGLJNP0Sr+/CpELPRjhPDrJUfLX2\n",
              "VFRdJkFx1IxfqVCK040y5kJjv3jobORgslJWazMEJDOSSwgm6ocdLLI1QQJGhtg1ooJH8ir86Ojc\n",
              "MZ0C+O0gXYJGSfHzcZ6I7zI4/csBhu2X3sVQsRDEJiNZfNz9yx31KO7uBwUweEbrCr3D3lywsmGH\n",
              "kRXPxmAMnkPLac/GwVioJ71nHS9b3C8gy10AVmrVDkH6qidqIoX/i4wHmI0afIx1ZJVDCFUJnkvQ\n",
              "s77R8qQfToZ7kAAAAe0Bn3FqQ/8AAnPEsmPKVgA/nSXFxX/z+IwwXccHMDtCQfQmoKimXpj7j50V\n",
              "qc5N7nKHiRIKQHU2BgIxqR0UQqoIjjpnD9w/7akh+2eSsyTMpTb1f+LzaL2qhQYqGYBg07cjTQR/\n",
              "muQCoFJJPwth1j6a/DksHuHkcmNXTso06qeH3FbtZ8G1ClTk35X/Qmgj0p4UJTybr3p7BUI3YJdd\n",
              "I7LSCESU8ZPBe2P81J951gV8TUdY/82w8IE/r18v27wjCGIQ8pacbP0MvPkdaxWL12HGYutDCLEW\n",
              "0AIrynPnUj4IBSuL0t+xsjYgdqzFUsLLmgUxf2UXbQk1tkN6e93UftGbPBzEo9zDrK4W2OfxlM0w\n",
              "fqL8D4dRWq16ocm8hjU6YXhahjRQJkEKhW6kP5nsnxbtjLM9fo4FUZ0lLWDU3KHM2bJSy76Z+jNo\n",
              "jFWkSAlybsYczXZ3kebToM/Bq/EDszzPpimIBR/vpLcBT4vW42Q3rKaIkzqa0v6iduI1fCrfNNAA\n",
              "cK6P9m7mbuHK2eJtrKA5em2L9yc+ionbLcZZkPRmU0oEgBu02OzQoW84uTSwFYNIhShfBRTCRswi\n",
              "vPUN3T0ifmbMkLNnhRMvJYLWJI+1AeWA/aNyS+OOder5BWlXcu3xA4E35MDnMtU06PcHAAAETUGb\n",
              "c0moQWyZTAgl//61KoAA5L2UnSAGnIdmr96KE0PX1OLZKgEXbImBKgc31OyHV7oxawfQTVvQ5E8r\n",
              "d41R7pG4UmAb1mEArwZNnFMf5ZLNDmvIRJY+T5sYCy0byCesAnOVrXmQMFMz7BB0LRvcmOXJENjs\n",
              "3WI8o1oC8Ss3deujI0Cq6N9Wh496+J6AZiP0c2wgnLBTqw9XzmFFqD5Fv00nQPHvpQpYzprCq/Ei\n",
              "XLZX9ek35GobvWTkJekGggjt6BVEFDjYRtS/DwZ8vGVMU3MM6m6sPZzz++Qb0MzdrjypsQDRMyiF\n",
              "pTvlYwQ8BB69/3DlFlUx7V5462h7IRg10wuQI60zMJbnU/4QhqVwfD3wZRbDWSiMFQhxb/iQFwwg\n",
              "LSkDbqH6ynrMsYDYT6q/9P4iyVe5KaVDpjYS/TOgYCIRpbwgN5THinU9OvIJfkgBkIRAJZNyf6Wf\n",
              "8cvyX1Y9TlFsEcMZYMWhlQdtvHhHyzOr4l7Lps4/B6PxxdxRWGXsGeOcB6+XY5UzBEBz72EZ83In\n",
              "yn3YMaeggWvp5rxn1Yo4aOgmrPAsM690Mf4yEQL1lcGsv1f7qEuHHV70rtAg4jyeGjRhq9/EnAWD\n",
              "PsWgchiHOiIHVngpWCDTwzAcZgtKPp49SqkTjqw20F4PcBQgFyURhvQ1thJhKdPhCc2ef4atJwwW\n",
              "MAoyEIje+kTRPnxNrX1aO57Y8UHxCwQ2Wx6Xf5XdiIIxshF4ilLMEycxNUuEm1+6+nAUzuDu4xFF\n",
              "0RJWn9SYtFmbEak3uiX4wrh45rbBee+eUK0oGl4zJGCgCzoXckRUOtNYoknWt/5rUpIOARm6Pmyt\n",
              "4BIyimIl/GAnFe3opI/LRCIRH9WBB7RbjUJi8NkcZZ1uXovHr96AdRbQwNLD5BbydGwS5Lsz5EOA\n",
              "9yRStsqb9k7KN82cdDgHEmDQrsriwj1zxBJSjbLNcDYNRN94GV3sJyIjLWT3brOx7QqzsWPwKwo5\n",
              "isDRd5apvsww+/NEvgSyRNHo97ODOCcUVQGkMdy6wKUkfQoRhmM8rl8CDXcnzYYRQhSo8zC/3Zgv\n",
              "QEJalbZqgKvbEi3D9nSRudfdKoINRoX2bVIWtTdYU37xbRiWv74z1WRBTZDQ8uHb2rbuYYhpCwmx\n",
              "I7EMblkPNmmjmL6LfMvUev3Q1uPljp2TWCSHjQG2bItoaY9tR8niuL38MWah1I74o4/QFCmqA1Fv\n",
              "2MKvuP9RpUPGZ1Kz+NwcJmUNYBG1lVCvEhMdFbjKOSku8Cg4EpQUn/wkyZyxh5HLwcVM0R/o0P36\n",
              "xOG5N7MpRxXa5EGAun2OwZsuujj7lmWWZMBDSXHGQ86byEstOWmzDE/R+00esQyf+sgwxdkF6HHi\n",
              "T7danjO9rUhWFQJ4kDgiXHcmrwgXnUEChJUirUm5lJl0ihTxJmuRMPX465u+yD9UF6N449cyCfOv\n",
              "YH1xJ5w4RUpyYHKCW7JyyAAABE1Bm5RJ4QpSZTAgl//+tSqAAOS9nOyADRJqAXMmCXl+RxL/xAgO\n",
              "8D3TWnJPeq39aQ4xO2pnhePDqVejQz7V/hl/SgBPfwYpI0qd7AvYq/NyCaN6oUisGrCHVAjkl4ha\n",
              "QYkDsoEPaZpNmHscR++X3jkgkUY6iFsHgmiEA3YOs13I3QLeBc9eM3VOehzlD5cICD/7T23ShrIs\n",
              "EJDSsdnkbwIeOHAF3Pv3movAngTuq/VjsheKIpwEcQLG1xXh8PGHhVcR4OPmgqEZHrff3zOA6Zs4\n",
              "+GTaE+OcIJIwtyNnGOcTubZa31SOW3buczVOQOkBOnkOGbbRQILU8ZUIBnuola1FbU0MY+UeTMgY\n",
              "SJBBb+Pwmq12myNSKHf+w1QMvtuOYRBoXwLVfIhkEqJImnIyt3hvTeV/y50lZBAGNjtAV3DGlzNs\n",
              "MrPcuBK6pWay+F0kG+V10dbWxRtUu04DbjuQtmbGMRLU6SJvl1I0sNnN7geehJHmzNCJHg0tU+Ju\n",
              "9MO6yn953eMjhOE6cA2XrxlYpfwgTio+ytNcMlICSUrCbY6IhCixyfhup7SiPnW9Y7Ou9eqBRDoN\n",
              "aSxZwcUt8vR5PFBJ2kXAGeDLShu68S776sBErqa7sR+11PAYS5/zDST70ZFwdjBLXmJDuJphCxN7\n",
              "Eq8bg7AgJkEyBbu86esTKTU09x8vm+QiGnxD4iPQmBzWKtRdWTnhzn8urw6U4Za37C6ql2OeLjfD\n",
              "UO5ekLNp7C1UOfIzOj4R2RLYNiakmCpVo4C7D72CNRZWOe2KW/Au1bgt8P2plpuR8JAH1tDxiXyJ\n",
              "pBjwBX4ViHbZytNjowEc0/NJyX2ysIXsgKampKIsnjCgxacwbNDQodpT7WdGTrhm/5a7JX0y0E84\n",
              "N5FQnqiKaEZHQiFx8a+9LPxyrMJrnENZ2Hz6gvCJIQER9IGVqhuYWlEdxisg+LIUOtTVbzXHJcbO\n",
              "tann9Pv/Y9/svxDpVP+6/ZHi1a8fRuBWdSopfB3cbrBaWQvULVXPX52vxs6zAPdW4/egUz0brpQB\n",
              "5P26lkxxUSc+vvDLM2WyUD4GIxm0D5DCKWWWVi0l8GYkmLGMbb2ARqaDgdX3lnkpY/x5B3e66+NK\n",
              "qIbaMvFauXkUzKsc2WuX799TqDyqC2rdEDX4NKvKeZfWihzrlftjeRl39dl/2r7ULjELRI6xpFzG\n",
              "dSM2dk9XldoD2lJI7zZfQNRaEax1s8R5thvv3m+6w+rRVm3nky/w3ftIIXSckyYWnDepdzMm2HL1\n",
              "6QVewq7IX4ZhMPbLZlwBsgmjlM1LR+RdF0Xy6XtAvmnkjAd4DkvsnLBrAHi9ozW7qthOOEf35gnv\n",
              "lBNcbe1bdPGzciK/eXUWReq/jMzK743bOH2REUXOvaZoKW/rDJAUVOT6aQTw6P14lCD4RA1eDLgA\n",
              "CkrlbnXfa1N06rBYzE4dB7WDZQFKWR9gSGFWloQT+kYG4BjOqFAAAAQUQZu1SeEOiZTAgl/+tSqA\n",
              "AOOVKHmbSAIH0Ycs/Xuf6W62/C+7BVvteERfETGMoPt1E6WqCDuGy/RsMzrNwGRcCzjIBi+s1lkm\n",
              "2KpzHLbyiIHuvsBfI5Fb1Wl/zEHTNsvyTdy2jv5FUYpeadnAl6OOJZviPxJnk3khzPF+ZqKAFPNE\n",
              "BmZliNqRz/6jsl1zwLlAL1C92kw3C2ZBJH/glPqqBPukb2Ja24wAADUNFKR9vUBikmN5FSfjVnwY\n",
              "4jUE0BPg6ETDy0Mov0vvO3XyNlrzwqhkbAgB2jj8hToyQjQNTPKEtZpjcfmBpPHu/jk+Xs7+TNmK\n",
              "MZBJtkax31mVdY8m7gq4GScNfEk38Mx5mBiZ5HJ0UXBmIzjZXQ8VNKQsv95NBzt3AavZFTqwVmZd\n",
              "/xGTBj039B0KS0rZ+3q3aV6Sm9EruVynppmnjU2me32h/F0L2wskhPXo0ZMNT1VhXl1iyXZEAWdb\n",
              "oBtAySoBLPP50lkPtybjTrw2uxsYbhY6RK4jPE9P8HvWXL12qE/tnoidiedxxA5ImlcP9WIbNWLA\n",
              "T+IajUjUBoBzub/h3zsXoSK4Y7MjEWbP4JAAGPKgOeFPLGHkANPgjiH+LILAQn7MVpAmuIH+WJ8A\n",
              "pOnCWfUDC6iWAfHcrmW6YQy+Ix9BcYiUMczV5KZvRzKBxaP5hVznbIqckTI2xMj6VLkBCjZ+5KHw\n",
              "o0VjUjwu2GAMdej3eNbYgm6/SN7yujMP1LEVoJ6RgI3yxdYCcO2pR84+RnH6Gql0OiOMbQI9/4ZB\n",
              "VQrvp+UYnLKD/KEygF/mq2zywkt9L7Cn3SvotK1ofXALtK5CEzbnyp305RD7K1K/NoRHkxNTgpzV\n",
              "VJmyWvsDNobBurlg81hzw9RawIRL/0smPJXo7pUkI2oNyQCj2zpJjfW23EdDcAaSTgLSoHYcgGh3\n",
              "jD2rqoCDF8HrzJfqIUiIYx43tbYb61+dmJwPVZFmFb3wCZ2qCQYkIdKE1i5Hip3MWuYFzQNjUbrw\n",
              "LJfld/EH+D9sdvHve470GLvsyQFFw5NNNKCOPuiJ+swRcY6ESJtwV6EeOlb4ZC0f2mp938TWrSGx\n",
              "HKGC2NrabU5p+nNleGd/J+0DlWxkpoQiQCxyQEK1NQ0B90fHrp84AsHNjPeRKN/odv0DFFohEdaR\n",
              "5Z9pZEoCmrU0J7tnvOMEJnG6GJ/mPVO152GiVINsj3APUS9pGQd4TxzPfXfaaY9vCqv4ZrDavoFm\n",
              "Qg6QOu3hYzjtB5OtrgJnpNXmCebrRltPsbNkmjDEahRyqw6tfDb3hgJTnjBHLLkvoRblWEzDenoi\n",
              "adtwI3/mOuBeU06YAKM8UKOu++IZZREWNcfWgXLM4HzCLlBsqtd82etWlQt1SeNLXNmHDvFhxMYM\n",
              "whz/AAADvEGb1knhDyZTAgl//rUqgADjlSeLjSAImlgIBN8QT5OnyukNqU27cL650bXOgQ8JTPqz\n",
              "3/C7q1nT38jzNVyibsoX9P6R1x/PTfyeAvZkwVpNwZpTC8GNt7t6TpNQzVmeiHoNpjf8vA2zJpwn\n",
              "yywIvBbc5oBEhh4B2jHKF470dwLEvqkrHQM8FfsiaoT4Ps4j+zix6nZXTGGMtfb3kibhDvsW3HQ/\n",
              "jGQmSwdnvQyYpN9e1QIJ7twOohuZQ003JzomD0l/PJNfH9tzNMKB/p0gL5v50RijDaphC83YSV2b\n",
              "2hJdqqY9Ye7Ly7Vlu5Kv92Ki6NPLTLPAlR4/GkJB68Cy2HMbZe+z3KAndkY+AjCkZc99bmZImxcO\n",
              "Ob3O4fch9lxmu1dbZETbSdc0No6iAO26KkEdg9uBBFPsf77lvZnYCdZhoHYWC5ZDLPYvr66kzqDE\n",
              "RL9cVNneHN/Lv/pW0Q6Q9x52abnp5S9zJ/WEjobI0HqU4Sga/RJp5k0JaRfHzjTIFh1uJk3ZYAjO\n",
              "JwzU8mzFcm+nW4s9KoiIWQjOV4/qqC6MDC+xcrWcfzgPUZlnulh6gb8FbocPe1NBWIQneJrCj5Wt\n",
              "beR7yWYseW/Ji/rokLrkKQWg4WKTCS9r8LoCrcj7z9wun5HfiOOfrg7kZT9nurnnmKC8heDtOyuQ\n",
              "Pbbj8DZ48e2DqRjegaT2ngOHle1xbVjifRH0twSkf9udl2Jbh9sheyn0KeyOHYZE/saRSIqGXTrE\n",
              "XVChQ6OMS6deUYSnZuAKKOMBMCRsMa/c0Jc45jdp8ZXVzpRhnGZ5Taepsyj9XAqJn0xN8wLrzFCR\n",
              "8xk42fEbUrxjN17WhaDJjOooNw3JrrKGe805YBcGEfvs0w6q3SLpmPSqV+AeDylyPByTdrkzfnuu\n",
              "hg6JWU2xEviJ6G4KGzb52X8AuSjFoSEJcWktUUDHsZ0IAn3B2blux+QH978HfVfME54+VJH+lhrm\n",
              "kI/eHxat7my0LPdpL9gjhP4v0pJwd0JLK2ejmUQdYVmeLd/SB32tYeAymz6F6+I/APtUxHYT6GUK\n",
              "3QBSTDBfSzaWkPgRY1B/nWVM/XorNCeiAxCHngueFQRtvP/XkvNVOeRtgApgqaLwdwTIE/6/ImEc\n",
              "IJ7pCdQJldAJ9VVYW5oUGllwY8PhFwD5zDe5EKWS06FAfHj4kl9YJrPb+g/yXp0xTTbba612OcRp\n",
              "w+yvJbYU4GmrIxNV6E5APXHINDIdxs/w4JEc8vis+vc8DQisSB4L88zlA+smH+bGqyVfAAADgUGb\n",
              "90nhDyZTAgl//rUqgADjlfFWHRjACGoveeGgt1zeCPq5mT8VOxoTyOWUjsx6WaXuKPBh2KHe2+zt\n",
              "fx2uQlyMUL6kDTAmf3+m4Y6n217Zj2K9VL6awO9J9fwV41/ZL8dj5PbK5ZAW1d+dYyTrwONZUq8M\n",
              "dqfqhWquUfMP4K+dlCTlUfqYF6NcW/Mv9whhS6KNnCkO1489bgzlzBTjIk4SPqprW1Qs0t/efNaM\n",
              "5yjn1LfPbgAmDVSmrXiIZ+1+OZLV8RdBDLSwVU6xER0u81hccNwfBlgIFa8dz/FJxBiUM46qpuxJ\n",
              "yfSdBA1nzV+K5YT9d/qsTmXUPqdhjuqBKnDSH6QS6KwjuyNs2EmIqqKCqiJmSOl/ZrZUrLCceY+I\n",
              "jWXc87xJ5ujo43OfEVgDLxzdOe4l/mPQgm2Jyfvrbgl+XddjSQB6s+Si8rKHcrJHSyb/oBMl5Onk\n",
              "b8SJvzdx5KnfRCiIjkFpZ81kr87BF//MDxwTzrWymhB26XatpXsY5Of/y5lDcZ7yLMsTICWohKx4\n",
              "d8WNHtLAEF6drvKFBoioYy9cEFPlKI68kW6Emgs14tPclOkEyUFjvInov+hFvgVIPVg8QzUMPU1+\n",
              "3iENBeXuVIlAopBrtNavmqZg/801CPup5NGmmdBL8tmlgMQjTWo2gddQvDSEFjawo/QIblYEcxJy\n",
              "A4hoGca+6ZCaJZ6FeDCULsAD9NIMtD2xnz5yjr2+x+cZDRKsUeWw/fOKBFzyt2pzTKEb08HLEZ/R\n",
              "ySvhZaQqwc8uE1eAkIiJqL8YBRAIOtGQGWAUD3CWvVB2tRBx3m74pNK+JewH2sqzPre5F4rkUZ1v\n",
              "xeeaixnZR2qM1mfbEP3y2nRlGeogSZQEl6FB3HF1S4yzsnt44jQAlEiktoaTZOBshJ/3Qr0In+Vp\n",
              "wZ1HsYa8sriA75wWFbdQm9oLBLxR4BeviSXbjJJatqzLMR0bMloz7S3hSf2Sk+E/XwUc/ihm3Fcc\n",
              "0Bniv2/KCIXXo3bVJgpqM66l62oUoDo9WBdyZFR1EO1WvvQcmPI/dmLywmFfxIcZ/ksJlVBxEqNh\n",
              "CQ6HheuD2a+fgfqS2vCyTxPfM+MKtddKyTuDaIzK9qpLPTMFPiuTDoy7Bxn///ODHoUQXplG2J1H\n",
              "afvc34ewSNI3OYqC4Fa54hMGyYOCcGeuhX0GvdKYw14T+XhzVUISvwAAA1FBmhhJ4Q8mUwIJf/61\n",
              "KoAA45VPLZK6VQBGViQChEtN/70YBzI6uwWZ1IskHSqcsSfqCX5wrPPMp3DbsJRaU59/CdUS+wRz\n",
              "NEB+aXCbAC9zM4xNOXO6rWQoINIgu5dEOfT3LWkpReLnYEXMEk3CBUgQwZebms9z2siCztZQlPuv\n",
              "rGxDsru3TatXQtqCeoxKlK2TZ0Nec9w7fGBD3MHFQRN/VEhx0YAyBNl70ajAhgLWVfE9iUHSehQw\n",
              "0LMu4kTXy8KYcbTyMqj1yJM3tk6420sm9h8IFH2P+ShPm+Ni9B841JopBrTbVDwL41ffK/4gD9vB\n",
              "y+kG5UFjQaOIAHAs3xJpJFto3uG5MnDgRzsQfqK2FuC3zGstM3Y8BD9xzymo3ly2FejTgHT6051b\n",
              "Ocfk8VcBYhm3Wq1qPDojPG/wGSNojlwp6YGTLPo0kRueIxvstpB4lcjg2cS5rKzuamQ6d0oyP71z\n",
              "UBr4mRqGmRRi8aDOk0tquqW1eKPW9xQateAjss0uvnWCfX+VOypeaoc2XjgUgiV3McVGWRYpwbkz\n",
              "+CGongbZI+MZ7rIV/oS7j2bNHPnD4LRsVccj1SeOgGRos+A6O/leJfZS1FBr3vKjd8LP7TNgN5nN\n",
              "230daNh5oeojNWzzt/pXIi0oMAJ02/dWN0Lr8v2yJnn0xB09t9z1C+bC8MMcFDBqO4JpjymM5lJl\n",
              "UYJRoRsMs37wb6WRmymOrT3vxuVDkIhNyCdRTMWDwNYEnXu/ZAwLrJHN1AZjCHp/WdTR4s6sxI+L\n",
              "8IVdQWjrv59SRruoq9ZvLwmnr+yCJlOVmEYMpAvTHeMPN1H8jopeyTSNcMXWb+TceRUdHHDsupfl\n",
              "OM3znWNUzkMLpMx9IDn2KuzYq13V8idpCw4DMzVUv3ZWfxrzUCAUSPtIydkFj5JwQWitvTTtL/Yj\n",
              "Ap5XtiHwodtQoot8fZSMNsfakwK+BPBjnbB0ngS4KqQDQOoD9bSfyJMXA7NR+vsqSsjbyVbLsebS\n",
              "Be9t8J9tAFgzSvY5W69qm1jABo4cGiEEHOAllHpMlybb7j7PzoSjgOXNWyFzsU13GFsYXJfGkSrR\n",
              "DH6iLRp3T/Rm3+dSVKUvOExloqS00qKYkSH7T2A97lq4XZ44ZuEAAANdQZo5SeEPJlMCCX/+tSqA\n",
              "AOOUadLNgAjfr/rsmSGitk7K3TzsMkdTswegPaTzI4CkM2kJv8u/SpjJScNhyYLNu6eyejK+eRsU\n",
              "AMhVc3sdaOTZ37F9g0uQ4Wf9fOsHs1GGYxKn2KhCRrdIuOp5yBMtE8TZad8mCjopnarX3QHYa+nQ\n",
              "ZI17o7KSbEJpI03r/eg2nvH9gxMOLj16i581mrzYS2/ntcC9kCY1oE2/Us34nyIDBS54GkijpOro\n",
              "+EblVkbdaw3VT0XDnq3VeC+/VrLFTLC/6tZkSdLc22WyT9N41xUOCfz9iDkUVGjc6LXTMBwb0uEu\n",
              "pb+rYVsaYjDdhIEVPviN6a3djdtiUjWB+01DVyK2iygWjdujUwiPHzILU+X0RsqDRx7n90hov/wW\n",
              "ezEvKqInpJJ5aosa6zYgBnGy/cIyX2uOg1Wm3SwTJUV3VuoIGJu7ZBNU81ERI0uCgT+5gJaVoL1Y\n",
              "meCCFIq+cFIxVerfGO2mK3bvDUIlAd3J84/rT6FEaMhG12GORUkt0lcHhv/a0l4jbVe6lSFEguDC\n",
              "BHE7n7+kGOae1LI9wjU51RCMqny2/GbV5WgLJCPDGTVIhhUvZwLLyhR9BdtfQAoIVF0ynszI61o/\n",
              "p+W82UTswDxm6fyKAIawz2L3jRbEoGtFqAqg7iuhIgLXvhi84eGPUihJVE7GPrpYydgwHMeP8+Le\n",
              "aW9AiDw77GPgZWpmdqX87N09RDHpC47F5cQYxhaB9Zit6tgu8m4ZkxG/yd+R1uEZv08j1DJsWC5u\n",
              "Q7z5B9H/7pxH5ZrultY2ew+c3r1POctLBuBd6AZs9JeqbS+mKbCoFaoktXzHvrjmRRTENSb/Rbl8\n",
              "3zaQKdjBlXE92ewlR9jL4tlrHvznVIUEf/Q91jrSRnssNXTEeiT3fs7P5HMv784nINvKU7i9f7kj\n",
              "kAS3kRba9vP9mFotSZeiRG3Ti5xwyZ7m8s068LdvEOBFrZbkP+EqCTqRNOrhm1guSte8R5VcNlSo\n",
              "GotOGVcCwf9aXFboE4biN9md9Ad/xksYU7L42Ls8trBoqbxwoG7V1Ygrl0jQswrlaLeCJPji/wNA\n",
              "HqsfaH/WvMtqVZc/Y5fJ/RtEMEH5uRusIhyBuftm6LjoyOgLzrY1UeuvGp+XYfOcAAAD5UGaW0nh\n",
              "DyZTBRE8Ev/+tSqAAOOV8Mv18wAR8Hu4l5/XVxZSzsORzNA4rmSde0kgEw4JDy9UAf2U5M5FmiXu\n",
              "BWU4uCk93eNRRkykIzabe9DG9CyHDvzYEV3Ew1i/HjeskgTmctWIVwM2ODEjg3oAITs0aRvu8qdm\n",
              "BQDydns5eRNWTizcyq1rshe3RMGN6BoBedZ56skzKZLuobcVAV0Pk1UaQb44atJu3BsF0enhY8kf\n",
              "mjL5WuCWQtuYrY7WNqOaIjLFHljAyUOFn5tDz8KLvJVREYtCd01l5NNPoEZLLt42W2nI314/3rkk\n",
              "ZozQIJeHLShi3NIMoq4/XKouNNYojw9yAFQScg6V86IoAsn0vndAaIYX09f189Z4Z8/E3r/XsqmZ\n",
              "nFARxviPg/mYezo2VDCVZBvvV0vyyWWaXJNaiZLZWNxl7lT0rS+Fzh8WKzd7nUQDAEXe5nF51ncw\n",
              "0RCz5aziRzm3lzB2pq1KpxLYOPQoN6irF/lMN4VbA4rLkIZbqBskpBMCALJ+mr3WtH+9EjRKGcsu\n",
              "e1w6WzjLrvmwujYV400vLBmbg0ecSSIFGieEFj2texV+gi6ZcouuN4ExsOP3Q/4GnCYOXYK/6X40\n",
              "RSmTzTXg72qjCKyYdsd2QyDt6xqKuJjTRt2kKCT8y0AwZ+Qqpl+0A7AkdRbRRrLP13hFt4vV3CYJ\n",
              "guLJh7vEx4+OFdeRKZ46dM+O1fs0nuXi2qoP0MEreclUDTvNP1SA+Mq3UTnAwND6OXUXeE3/Csyy\n",
              "+pL7c9pxWz/bCIGQXEzw8PRExxcL+1OqIXeCx6T8gi1hbYNt7XzFbjeJagSNebf1vGlWXlpkPmfZ\n",
              "pkTCGm9o8CVVG+IEp1sosbLiUZF1brcO1mVzuBQduBsWWhB7bbBYrzxn5L3/fiuI0LmYzw6gkFCp\n",
              "64uwetrctdwGhWxYFDlkYEPX3831gBNugi4CZCmTpX1nOOx+tp/xdB07tqR4ElLq/yqJXKJxy0R8\n",
              "EUikIsbFYN7P0WEFuDa72Mfngoc+G3VLKVOeE6W4698E3Yf1BY9samroaDN+p0/GsEVe9sAZK1MS\n",
              "Y2QdYZodK3fV961tb8A2F980Y6Dt5V9LmmqIPKE8I7e2H48n4BjCgypDcAOtY1aOScBLD09reOyl\n",
              "WIWh/KGrtyIF2ZJDQTz9PaqBkoNgM13eLcVtU6NVbwAiekejemAVxg9u1RqO0VUhEDMe+Fzd+AO2\n",
              "tr8R6VCQrykAf/AsSTkrDEMeLn0Lt//wzqzpEvIVrnVPFjN1XCnc7NvNB5Nernan7nJvN77L1uSK\n",
              "pDCkqEQUnEFFm389XVMhD8pSHkrCvQ0AAABiAZ56akP/AAJ9yaACWAPgRRBkh0i/+x2S+/GEhMQU\n",
              "mIXzFS7PrA2hrjVOaQEBpTrNgcfzjMxS1mDeL980AwgeBsE/ZloR7sn26VA0FxHv1ZtN24Now+rV\n",
              "GNLXhgm6J7nru+YAAAOiQZp9SeEPJlMFPBL//rUqgADjlVFvwoAAjBoPKvOASuVm62019Gzp0L8G\n",
              "5UtBEmJYdKwFCuI7UB9UJSwTXJD7T//SyGSnHXUbHrU2XPpxz4GkmC6dAPVI/kPKRzdH5Yz6J6Kd\n",
              "/rrd948HBpLSHZ4mHsE55U7E5Ost3Hvov9TdLRcvm5v0JoG/Hs5NDFjpU5tEqGOiP68ue1HyWz1O\n",
              "y3tPNl19ks3eRdB0V68C2/TK5alJsC0+SVWMeRN82GR8SxfAo+MmGcHXVNmLN2f0f0QSOWfnMxcq\n",
              "B1cTTcIygcp3F4k70nH+r63E0Y++K8aMz8ou0h3oDtY9X2MTPYGOk4b0ZfCBZCG7tcS95QGBV+/S\n",
              "DlJ6saAo/B5FhsJil3uJ5p2vHZaoyEADy6uo0h2Cm7qYQvTrHryg3Q91fq3sfXe4qZouiwbduqYR\n",
              "2nH2MuQCohLXyPHe1khpt1da8sxF2LSwHURNPR1IErkqcKu5h/J8SF0WnQ/bZUo0yyXomcKYnSau\n",
              "b4nNFs11HK2SX77RVVOIG+/jh0ttHo4eCy9/2IBVpULETqTDgNLYKY3b8MRhOVr9+QhZt6LA6qdy\n",
              "lMRmNlWpuxIzjha3MLEk95scX9UhONcVMt/u+kLLBjD5/GyaQtar6gQQw/qjK2JkKuDuHezX29Gi\n",
              "zpPwMg2AJJ1ksK0won2rGyt/lOeW4+0VxH1Xttgp6KcCxKrLdze3aUMGMp3+E7DN5berO5r4XDfF\n",
              "KTfP8bVH0FxXEhZbxRP898S5qvfJtXnXANb0vur4ijSZIJ5wmrD0jDFe/AkHWFNpe4LzyHhp6y9a\n",
              "4Kz1bEeh3rtGc51Ps0ecoNuU7DjzZk+PLhlG1xfFx/No2awA/fEMEe1+1K40TYXrIih+6xDbWOQY\n",
              "b0zuu4pCElLF8bjLsXawQIMeK8yxmwvrfc30dT5Z71zzO3dQxiX1yW5ljeJeDJ79dKi7MdIi/yKy\n",
              "GoezxqR+CTVZ/6ne7K4GeeLW8QsMvVcAZ3juNJtW5KT537Mlck22E4av5gc9WEKBzm7i0uhl5e+s\n",
              "HlBvxIlxORI47C7Ac10CuGj3XwX/d389VfmDBjQvBUpBae/y9FOjC/NrsIOLV3kKpHaESEalcTej\n",
              "sfLeUIV4FH9iTI9ffPbTiwDsmXLGkqXFz6Ks7ofZbgtGi7d+9Xgws8VwC5tuaGZS4EcPF1sGs4DN\n",
              "6/BMh1hdBndbknntxeUBQAjgYQ/GIGFD7+IjRy/pd4XRAAAAKQGenGpD/wAAwfJQWMDfc7dYb5lg\n",
              "wS4ciKv2YrACEN8+oermzAzoAhtLAAACTEGanknhDyZTAgl//rUqgADjxB3gBW73aGhel/YBHQLE\n",
              "fWJmj3kwAR2BaHomy6oE3ba64t+EjUVoxC+ThbxvAlNU8vZzyyyb7h0MZnKT/Fo61mh3noDUWszi\n",
              "oY4BR7kE3JGgsR9O9lsrD0Aqy82RJr7xbp9/5bwnjzFsFl6uUv0nPWBP8jDKHcjxpIilGO6+eLFL\n",
              "sdayiL5Hncc2hXNF3vf6rm3PbNZcgL/eTyvH6FrZE1gXvgmPZ0/dqJ1mLt63AelBL5fX3akc1u1v\n",
              "Aejl9l+0Oo7ZTvPkbi2sjlWPlDoUZCGgODXx0pF36+TIALcqhPdjIdjsVdF7P+rs+UIBwFLOaPqX\n",
              "u8gS0vPwnNYsCTkmH6kfhSRtPP/YBP/KsYqHl5T63NRY1m+1VLd4cbV6D3un/NCu6ulULWaAcAXl\n",
              "1yGHLcnC7hBbtPoAMeCB9zYT65kqS/Bh/ye9pWMZnLnlpMHpWJnZ+Mr6uFGa0btwn1TPEIv66sCc\n",
              "rWLkmTJH81hefRvVTRk92W0L1l5wc/V9GuJxJHp7bqmMcubzB698TsQPJDyic1CptQU7QzCIJkWN\n",
              "iEiozZ7gm3ZutJ4+Xod65PlS8bhnJ7fvqAglk19nG8UOkIao5LZC4cmMoG8gD6oj+CUw01ohdKbn\n",
              "JVnooyZiKP9STscAg+LDCjNrOrpeOX8WsdhLUk8JxLm3nxC9oRF1yJc9LFOIjvG+/N4XWjNUDPRx\n",
              "TP4oGXxoOb1hL54xCJLtxDrgNbOt8u2TqppJ235qlFhFkzvImXgyReI3QAAAAidBmr9J4Q8mUwIJ\n",
              "f/61KoAA48Qd4AVupesEKZjdvmTdH4vNJENWorzlZR5fluBtSasp+mX/05Bo5eZjVecjWFfjk0Kw\n",
              "32tCa8Pv4l15rF/raa+KBlAnc+Urcuux0XCzdI2ZrBjRSzyPcn2QefKmKYBKjpxKkOTFmDp2VvbI\n",
              "M8U7EIMpgiu4LrAFZ7XRiQ7aUe64GbinDESl4tol/CKMvyIh/g6rtwi/XsAvWc40WY5yuk2ruOy/\n",
              "JsMnn+1iWxwyJ8KQEGtywIyH42ga4VmreJDxw57hDbu/iie0tffnw9sdNRgwa6Nt1hIxgVZV9gqj\n",
              "uRRKO6rmAEr9cgN6J0FmUZVNiI3CdTPB9QBLsvE+4p0zxlUpSKqNauNVk9rj1o9doSAZrAWuRxAa\n",
              "FTA74io+mxQo3b8eY7U2piW2Ja0KEzv3ZqUquKAuU+jtypfgKVCldyqMW1eb5hNO/+L4NyenYhx+\n",
              "lo/+CBZseyVvnb94tr/eat0XURwY4XqBNFi+156BG3YmatGCmF7Fz8Yx9ahJUzhJboEhZW3Wrcs4\n",
              "4E5glJoearDSWKh44sT3N1c60AizdoNRXyyC31BZy9yCqhmeZRffZvODH/sQxnjGcuB6pTaPblRz\n",
              "24GAFICFq4hiZCDu3Xf9viqivDi+DiTVRILJ+di6TSxce4S+CCYXx7eKQG+d/EGwRqp78x5DP2P1\n",
              "ZDIYT50a9pi/ixMZtuGZUYjCaTEmKGfdjpl2VQAAAfdBmsBJ4Q8mUwIJf/61KoAA48Qd4AVu9zFT\n",
              "SzifeS7MEo6VMPHZNeTahBaeGHjoNMxCt6nJhCr4HK1BBxJAH9+0321EDRUrtdx+8fihA9alpAnS\n",
              "hQADzlxeSdhrqQ2BGzOW6nwg/6zsUYfMuHnFNRE/K9bM39VlW5p559J+3jEi1H/ncySvMPsXfp+x\n",
              "MumdZx0PRKcrtYVz0S56jHgVpqAIz43LTr7Xn/mgYmWMUMbuiMv64i1aG8+26O6nSjCmITgN6PQs\n",
              "kSYx8Kr2SiekoQi8pUE7/IVE9RIiLZouJdQuu14vYqd/1phr0wjzwb+ENTl4HgKy4lJPi+EQ2FjN\n",
              "3JmeFyfGDZ02xDcxnLF3K8vXeaV2V7oV2N6CFcJQ6NLG5v2h1GjkvcnZ1DY6r/jl4LrIFnaxvqAo\n",
              "tnCOVVAC6/yJmP6UDeLDd4SyQUR5Znyr68bNhXL4RSnzFMyJAW/nERf7oIUDj10Y01/yW6RLCjwh\n",
              "2sbL4FDTOK7VHSW5sJrjuYjYWmTulLEtAiiQpmq43oIE+jF6OBwIIFg98ittMWeV/fG12s4yl+kT\n",
              "BEblS3ZCNKnWP9TdmoRxS+5jo/SL/Fl7IS4KwgcVI6z/wzkX56dsw4l2Z9g2fbUarwUeK8r+CwU8\n",
              "40cqoUMKBLJglru2X2iIQokuIOUXQQAAAedBmuFJ4Q8mUwIJ//61KoAA48QgYARkR03sQ9H6pcP6\n",
              "rUM9nnZnNkNDzAmKIa/cySM4+x4+NgxFlmJqiEq3diLVU+NO/29qDFRn8KopEG1E0Y3RlM/kxt98\n",
              "+Cugc84eJ+OxHMDL7C/GcIAcI8bS6RaVwLCoR8y2ky42tI1LXFwx4nZRwp7BIZpneHnCa1KthjLh\n",
              "QDWs4m039VzbMNEp9gxHFuPaD3QWa+vbIyNNLZadD7yi8FDd9uRhqTiQF/te9DEBNu/FRbSzSoxy\n",
              "abSh3GloVoPnrSWokaqwrzxYjobtxxQ727v7RvlIZfUbbmmJEw6HGKATKJsQZQypoXJyC1g4X7M6\n",
              "Dpf6xUTjT/0YHBUUaPckqbKUbbODH+xitDe8q0TOvOIyOKUrpO/re77GNQDLhHb3yczKUizyYap3\n",
              "az0KR7vhMl+ltF+tyVtFdfTGMMwYfeOqOaNKnXqtOAQ7wSQPwbIptNrWgiIZHnPTK9B+rp6JW8OV\n",
              "OhnSRbdWRJhzGtqm4vMjv2u4/b7bD0nmfSa4Zs3BrZ4zQq+TNfhEAAVxjRuCoINDzkJY1mBlIkIG\n",
              "PvqHy6lmiyKNKiQ/mrwXR5K5GN1EikXNqCqRhyEax1Ns42PRaO9YVlWqRfa9Dqm7L/JLR0mhD6u4\n",
              "AAACgkGbA0nhDyZTBRE8E//+tSqAAOPEIGAEZEMxmWz6IjSVVZUXpG81nVnMQfkWfAvOIQwPZMlC\n",
              "1uxiM2F5M5o3fouoB0WOozgdSJogRyK8szkyLnGut3vIntbFbTmwoJqlNk5LiODdGBOn5jFxD6Wt\n",
              "/2LC7F95Mb0thsZ2V351CltMFDbEr0w/s0AXL+/ZnGH9hcnkALt7gWcUI7otOF7inAZ38zGpwN4L\n",
              "JZ74TLiJdY3D/8AG98ttn5mebttzEMd048L8K2M1WqZOlNsEUk3OEcA85lR2NJGwEPwK2F/eSh9y\n",
              "nLCXAhC8KGh/nKYCsgDgQEcTL4I8oPB7SL6/wmB3beB+nleIjRn1CxgeIh0yi9Pss6nQtWQ9C8xx\n",
              "1UNoUanBwBFj4c2SxnrZyhUAtx7Fx/vMhBW2wjY59d7Q2elDbnkA9I/hcICk/20cLlaVrub/6WBa\n",
              "wp/0uMm+6OsgHqI1q7p9Y2pCI9Sf4i3lan97oc/BnTn8PYCfGe+Zl07fpi79r4I6mIUzFAPX8Hjt\n",
              "nbfsxw06VBVXq6Z/5Jxi6CdcRVMXYAkDIq6ZpOPR60gxzFkbpWVigBGSnCOyFzu68C9BZzCOlxwy\n",
              "Rp+VB6bgdnrVX+o99YijXilDJ3TpIe8d6y/VIhH8/mlDjrJQnt0QE2amk+y72GpYBnqTG40hQU4R\n",
              "pIOhjXl8KsVwBBrJakPC+51APOICBdAa8iasscex/zH97Bmq6fzA/Hj/O89Zct9cEyVzheSid5M7\n",
              "j4ACCy7RQY+Q0SeLnbXIfiktHnRHMBPQq80C/xN5UfdaDNLpw4Gq3l/YoxKa8SR6oNSo/ecXKwx8\n",
              "1eejSBmKIB55xJctHAqMTG+3QQAAABABnyJqQ/8AAMHyUFjA32oHAAACK0GbJknhDyZTAgn//rUq\n",
              "gADjxCBgA417tv1fQd9yqytTOCjm37Jmv6dyZ/kJFOkRtHw4n3H21KP/ppaxCfjPH5NdxFkFEqm9\n",
              "eg+z4Irml/7j+hCh9Pk8tpz2PXNU+S6VKi0+YV1f/bL6yckV12XWIy6xS8HVzZZ6Qaq5mgem/uB0\n",
              "l3OihRUOTC/QMK7UcccXrNBeaG8wPFWNK2+U0BoHqbufW1M6uuZGRB5ooRF9OVxxIkrY30BILmo5\n",
              "yHXvrC7KFCJFDUZS89+sXs5ZafjHVV0apP5YDjPgQ/ZDY+xpRpYTiklp130N3oz6/pkYtEYKDvNW\n",
              "Qze/LC/WGXUzOxsdYwvbXFP6R3AZGzw9qrt0PZpQaOZMPmIdGqogrASq0VjsOx+cDXEMiHKBnKZN\n",
              "e4TviPRZXCyq3vRhUUR03uMl9H1+iKxez4WG7EW4mkw0wiRD1Uhaehch18ngsf4418g81fdFCHqH\n",
              "vI67xH2YwUKGmQ6PasneLuaxR8C6vLmcCPrL7J7ExlhQf84JkXQ1U3n1haIyo09XIp+UkKVtY59O\n",
              "CP3B7vTCenF18wbfnZp56rOX7wKRZ8Z9FrotjVud+cep22zQRQ7sHbwAz5SgNwB0ot7vY20Hhj1n\n",
              "vcJT2EFFdgsdsOXIgql5dMUYVdsEEZyu1tWJioDDQd44e3EvNDwlxDjnvKPoC1qmz9E/Sc3YEDG4\n",
              "RSXcR49VOBEUUMsfXy6WXEWnhstHO6yi3lZz0wAAABVBn0RFETwQ/wAAV6o/Uekubx7FWVkAAAAQ\n",
              "AZ9lakP/AADD+PCRUauUaQAAAa5Bm2pJqEFomUwIJ//+tSqAAOPEIGAC6hjbHI/rcnrtMYmI1w3B\n",
              "G6ELOxIiSlRYoSFluNvt7YpIPAg4lJrpEOiVjl10c0V7f4IRxsuKjH7YLBBRx6pbz8mPE69cQv4Z\n",
              "dYkX3lvoJoB6WREF/WwnwRRXriDaR/C4VwZzaFdrZL5+nI8uhcO564Z94iO6WSfZHoS5sz2RYPhE\n",
              "xltEbTRwuBfwJE1Tb0/H9VtO/ZuArOCkeHHu2kF2Te5Hs/XmlVHBqh21UixwLzVyRPpJMthZRSUp\n",
              "mGiVn9PYx/+1Gb4E678EMRrF0no5mDRVNO9L+KZrvEWqcJHhNe/eyI88u+ydDntAfWvPfH8Zthlx\n",
              "O1RweFBXjafFCuWDgocz6qdg/FAb0GR/Jg8fW+xkEBSsTmIC4eLd1T01l/zYs+DZJI60arNqLEkm\n",
              "GYTdSVYSOjGksfBRyBvVSBA3AghFPzSqvBWYtJ8kADFAUoqmu6qv+uOVvVcKU9JnLLKvc0ujYLbH\n",
              "XwWZKGgVhAn4Xoe5pa2iFnzGUCYReQEkMIPwKeiOnRfG+2sLasHck/I5gpv7ahX0vA9RAAAAFEGf\n",
              "iEURLBD/AABYi00z8QnSg3u4AAAAEgGfp3RD/wAAw90oa+Ai02XwcAAAABIBn6lqQ/8AAMP48JFR\n",
              "q8Ovz70AAAC6QZuuSahBbJlMCCX//rUqgADjxCkgAJqdoM3VwAnwp1jP9UHCyi6XNUBeUtx4x5Gz\n",
              "+nDkJnmYFvl3ChQLwqe9D7+VSODi4eaRnL3UcNWsse3ll4p/Vq/EclUVtggkd41qyMprrmvV6FcM\n",
              "lZeg2i88+/jU6meZdbpH4C+I3WILfrfxFVa746o+FVMOpECWXCk9asptg2J+GZuizszUwpXMhSu9\n",
              "oNTjLLnAy47wDNowY2vHft3zgCaRrm0wAAAAFEGfzEUVLBD/AABYi00z8QnSg3u4AAAAEgGf63RD\n",
              "/wAAw90oY+SRh1Nm9QAAABIBn+1qQ/8AAMP48JFRq8Ovz70AAAAVQZvxSahBbJlMCH///qmWAAAD\n",
              "APCBAAAAFEGeD0UVLBD/AABYi00z8QnSg3u4AAAAEAGeMGpD/wAAw/jwkVGrlGgAAAUmbW9vdgAA\n",
              "AGxtdmhkAAAAAAAAAAAAAAAAAAAD6AAAJxAAAQAAAQAAAAAAAAAAAAAAAAEAAAAAAAAAAAAAAAAA\n",
              "AAABAAAAAAAAAAAAAAAAAABAAAAAAAAAAAAAAAAAAAAAAAAAAAAAAAAAAAAAAAAAAgAABFB0cmFr\n",
              "AAAAXHRraGQAAAADAAAAAAAAAAAAAAABAAAAAAAAJxAAAAAAAAAAAAAAAAAAAAAAAAEAAAAAAAAA\n",
              "AAAAAAAAAAABAAAAAAAAAAAAAAAAAABAAAAAAbAAAAEgAAAAAAAkZWR0cwAAABxlbHN0AAAAAAAA\n",
              "AAEAACcQAAAQAAABAAAAAAPIbWRpYQAAACBtZGhkAAAAAAAAAAAAAAAAAAAoAAABkABVxAAAAAAA\n",
              "LWhkbHIAAAAAAAAAAHZpZGUAAAAAAAAAAAAAAABWaWRlb0hhbmRsZXIAAAADc21pbmYAAAAUdm1o\n",
              "ZAAAAAEAAAAAAAAAAAAAACRkaW5mAAAAHGRyZWYAAAAAAAAAAQAAAAx1cmwgAAAAAQAAAzNzdGJs\n",
              "AAAAs3N0c2QAAAAAAAAAAQAAAKNhdmMxAAAAAAAAAAEAAAAAAAAAAAAAAAAAAAAAAbABIABIAAAA\n",
              "SAAAAAAAAAABAAAAAAAAAAAAAAAAAAAAAAAAAAAAAAAAAAAAAAAAAAAAGP//AAAAMWF2Y0MBZAAV\n",
              "/+EAGGdkABWs2UGwloQAAAMABAAAAwAoPFi2WAEABmjr48siwAAAABx1dWlka2hA8l8kT8W6OaUb\n",
              "zwMj8wAAAAAAAAAYc3R0cwAAAAAAAAABAAAAMgAACAAAAAAUc3RzcwAAAAAAAAABAAAAAQAAAUBj\n",
              "dHRzAAAAAAAAACYAAAABAAAQAAAAAAEAACgAAAAAAQAAEAAAAAABAAAAAAAAAAEAAAgAAAAAAgAA\n",
              "EAAAAAABAAAoAAAAAAEAABAAAAAAAQAAAAAAAAABAAAIAAAAAAEAACgAAAAAAQAAEAAAAAABAAAA\n",
              "AAAAAAEAAAgAAAAAAQAAKAAAAAABAAAQAAAAAAEAAAAAAAAAAQAACAAAAAAHAAAQAAAAAAEAABgA\n",
              "AAAAAQAACAAAAAABAAAYAAAAAAEAAAgAAAAABAAAEAAAAAABAAAYAAAAAAEAAAgAAAAAAQAAIAAA\n",
              "AAACAAAIAAAAAAEAACgAAAAAAQAAEAAAAAABAAAAAAAAAAEAAAgAAAAAAQAAKAAAAAABAAAQAAAA\n",
              "AAEAAAAAAAAAAQAACAAAAAABAAAgAAAAAAIAAAgAAAAAHHN0c2MAAAAAAAAAAQAAAAEAAAAyAAAA\n",
              "AQAAANxzdHN6AAAAAAAAAAAAAAAyAABFpQAACEAAAAVOAAAE2wAABAcAAANiAAAEFwAABqMAAAO8\n",
              "AAAC2wAAAuEAAAadAAAEPAAAAuwAAAKFAAAGNwAAA2YAAAJdAAAB8QAABFEAAARRAAAEGAAAA8AA\n",
              "AAOFAAADVQAAA2EAAAPpAAAAZgAAA6YAAAAtAAACUAAAAisAAAH7AAAB6wAAAoYAAAAUAAACLwAA\n",
              "ABkAAAAUAAABsgAAABgAAAAWAAAAFgAAAL4AAAAYAAAAFgAAABYAAAAZAAAAGAAAABQAAAAUc3Rj\n",
              "bwAAAAAAAAABAAAALAAAAGJ1ZHRhAAAAWm1ldGEAAAAAAAAAIWhkbHIAAAAAAAAAAG1kaXJhcHBs\n",
              "AAAAAAAAAAAAAAAALWlsc3QAAAAlqXRvbwAAAB1kYXRhAAAAAQAAAABMYXZmNTcuODMuMTAw\n",
              "\">\n",
              "  Your browser does not support the video tag.\n",
              "</video>"
            ],
            "text/plain": [
              "<IPython.core.display.HTML object>"
            ]
          },
          "metadata": {},
          "execution_count": 24
        },
        {
          "output_type": "display_data",
          "data": {
            "image/png": "[encoded data removed]",
            "text/plain": [
              "<Figure size 432x288 with 1 Axes>"
            ]
          },
          "metadata": {
            "needs_background": "light"
          }
        }
      ]
    },
    {
      "cell_type": "markdown",
      "metadata": {
        "id": "CrumB8sxyyim"
      },
      "source": [
        "## Visualization of the learning process"
      ]
    },
    {
      "cell_type": "markdown",
      "metadata": {
        "id": "4_dmPq7qyyim"
      },
      "source": [
        "1. **Plot the regression line** against the training data set to visualize what the line looks like for the trianing dataset\n",
        "2. **Plot the error values**: This graph will show how the error drops over time\n",
        "3. **Plot the change in regression line through out the training process**: This graph helps to visualize how m and c values are updated after each step"
      ]
    },
    {
      "cell_type": "markdown",
      "metadata": {
        "id": "KDQDfNQJyyim"
      },
      "source": [
        "### Plotting the regression line upon the training dataset"
      ]
    },
    {
      "cell_type": "code",
      "metadata": {
        "id": "hAETOQhKyyin",
        "colab": {
          "base_uri": "https://localhost:8080/",
          "height": 282
        },
        "outputId": "cf08c2b8-1786-4cc9-bc8d-9e8244175eb0"
      },
      "source": [
        "plt.scatter(xtrain, ytrain, color='b')\n",
        "plt.plot(xtrain, (m*xtrain+c), color='r')"
      ],
      "execution_count": null,
      "outputs": [
        {
          "output_type": "execute_result",
          "data": {
            "text/plain": [
              "[<matplotlib.lines.Line2D at 0x7f38a10820d0>]"
            ]
          },
          "metadata": {},
          "execution_count": 25
        },
        {
          "output_type": "display_data",
          "data": {
            "image/png": "[encoded data removed]",
            "text/plain": [
              "<Figure size 432x288 with 1 Axes>"
            ]
          },
          "metadata": {
            "needs_background": "light"
          }
        }
      ]
    },
    {
      "cell_type": "markdown",
      "metadata": {
        "id": "a3XkU_teyyin"
      },
      "source": [
        "### Plotting error values"
      ]
    },
    {
      "cell_type": "code",
      "metadata": {
        "id": "ZFDU4Hl5yyin",
        "colab": {
          "base_uri": "https://localhost:8080/",
          "height": 296
        },
        "outputId": "ed8531eb-06aa-4495-db80-b1f0cc82d32e"
      },
      "source": [
        "plt.plot(np.arange(len(error_values)), error_values)\n",
        "plt.ylabel('Error')\n",
        "plt.xlabel('Iterations')"
      ],
      "execution_count": null,
      "outputs": [
        {
          "output_type": "execute_result",
          "data": {
            "text/plain": [
              "Text(0.5, 0, 'Iterations')"
            ]
          },
          "metadata": {},
          "execution_count": 26
        },
        {
          "output_type": "display_data",
          "data": {
            "image/png": "[encoded data removed]",
            "text/plain": [
              "<Figure size 432x288 with 1 Axes>"
            ]
          },
          "metadata": {
            "needs_background": "light"
          }
        }
      ]
    },
    {
      "cell_type": "markdown",
      "metadata": {
        "id": "osbKVmYRyyin"
      },
      "source": [
        "## Step 5: Prediction\n",
        "\n",
        "After step 4, we obtained the final values of m and c. Using these values we obtain the predictions for the values in the testing data\n",
        "\n",
        "We will then evaluate the model with certain metrics such as RMSE, R2 Score etc. The choice of these metrics will depend on the type of data(Categorical, continous etc.)"
      ]
    },
    {
      "cell_type": "markdown",
      "metadata": {
        "id": "b95m0elCyyin"
      },
      "source": [
        "### Now for making predictions"
      ]
    },
    {
      "cell_type": "code",
      "metadata": {
        "id": "OouE2aWNyyio"
      },
      "source": [
        "# Calculate the predictions on the test set as a vectorized operation.\n",
        "predicted = (m*xtest) + c"
      ],
      "execution_count": null,
      "outputs": []
    },
    {
      "cell_type": "code",
      "metadata": {
        "id": "oWxgFJzzyyio",
        "colab": {
          "base_uri": "https://localhost:8080/"
        },
        "outputId": "c3a87a21-4718-429e-876c-2908df7007d4"
      },
      "source": [
        "# Compute MSE for the predicted values on the testing set.\n",
        "mean_squared_error(ytest, predicted)"
      ],
      "execution_count": null,
      "outputs": [
        {
          "output_type": "execute_result",
          "data": {
            "text/plain": [
              "0.016546401494596658"
            ]
          },
          "metadata": {},
          "execution_count": 28
        }
      ]
    },
    {
      "cell_type": "code",
      "metadata": {
        "id": "DPiuiQcjyyio",
        "colab": {
          "base_uri": "https://localhost:8080/",
          "height": 363
        },
        "outputId": "cd5da007-2caf-42c8-c265-dbc40fd1c00f"
      },
      "source": [
        "# Let's put xtest, ytest and predicted values into a single DataFrame so that we\n",
        "# can see the predicted values alongside the testing set.\n",
        "p = pd.DataFrame(list(zip(xtest, ytest, predicted)), columns=['x', 'target_y', 'predicted_y'])\n",
        "p.head(10)"
      ],
      "execution_count": null,
      "outputs": [
        {
          "output_type": "execute_result",
          "data": {
            "text/html": [
              "<div>\n",
              "<style scoped>\n",
              "    .dataframe tbody tr th:only-of-type {\n",
              "        vertical-align: middle;\n",
              "    }\n",
              "\n",
              "    .dataframe tbody tr th {\n",
              "        vertical-align: top;\n",
              "    }\n",
              "\n",
              "    .dataframe thead th {\n",
              "        text-align: right;\n",
              "    }\n",
              "</style>\n",
              "<table border=\"1\" class=\"dataframe\">\n",
              "  <thead>\n",
              "    <tr style=\"text-align: right;\">\n",
              "      <th></th>\n",
              "      <th>x</th>\n",
              "      <th>target_y</th>\n",
              "      <th>predicted_y</th>\n",
              "    </tr>\n",
              "  </thead>\n",
              "  <tbody>\n",
              "    <tr>\n",
              "      <th>0</th>\n",
              "      <td>0.201711</td>\n",
              "      <td>0.413333</td>\n",
              "      <td>0.468746</td>\n",
              "    </tr>\n",
              "    <tr>\n",
              "      <th>1</th>\n",
              "      <td>0.049669</td>\n",
              "      <td>0.608889</td>\n",
              "      <td>0.586901</td>\n",
              "    </tr>\n",
              "    <tr>\n",
              "      <th>2</th>\n",
              "      <td>0.450883</td>\n",
              "      <td>0.191111</td>\n",
              "      <td>0.275110</td>\n",
              "    </tr>\n",
              "    <tr>\n",
              "      <th>3</th>\n",
              "      <td>0.104581</td>\n",
              "      <td>0.395556</td>\n",
              "      <td>0.544228</td>\n",
              "    </tr>\n",
              "    <tr>\n",
              "      <th>4</th>\n",
              "      <td>0.428808</td>\n",
              "      <td>0.246667</td>\n",
              "      <td>0.292265</td>\n",
              "    </tr>\n",
              "    <tr>\n",
              "      <th>5</th>\n",
              "      <td>0.282561</td>\n",
              "      <td>0.333333</td>\n",
              "      <td>0.405916</td>\n",
              "    </tr>\n",
              "    <tr>\n",
              "      <th>6</th>\n",
              "      <td>0.458057</td>\n",
              "      <td>0.284444</td>\n",
              "      <td>0.269534</td>\n",
              "    </tr>\n",
              "    <tr>\n",
              "      <th>7</th>\n",
              "      <td>0.618929</td>\n",
              "      <td>0.200000</td>\n",
              "      <td>0.144518</td>\n",
              "    </tr>\n",
              "    <tr>\n",
              "      <th>8</th>\n",
              "      <td>0.307395</td>\n",
              "      <td>0.324444</td>\n",
              "      <td>0.386617</td>\n",
              "    </tr>\n",
              "    <tr>\n",
              "      <th>9</th>\n",
              "      <td>0.347682</td>\n",
              "      <td>0.262222</td>\n",
              "      <td>0.355309</td>\n",
              "    </tr>\n",
              "  </tbody>\n",
              "</table>\n",
              "</div>"
            ],
            "text/plain": [
              "          x  target_y  predicted_y\n",
              "0  0.201711  0.413333     0.468746\n",
              "1  0.049669  0.608889     0.586901\n",
              "2  0.450883  0.191111     0.275110\n",
              "3  0.104581  0.395556     0.544228\n",
              "4  0.428808  0.246667     0.292265\n",
              "5  0.282561  0.333333     0.405916\n",
              "6  0.458057  0.284444     0.269534\n",
              "7  0.618929  0.200000     0.144518\n",
              "8  0.307395  0.324444     0.386617\n",
              "9  0.347682  0.262222     0.355309"
            ]
          },
          "metadata": {},
          "execution_count": 29
        }
      ]
    },
    {
      "cell_type": "markdown",
      "metadata": {
        "id": "1Wa6UOacyyio"
      },
      "source": [
        "## Plot the predicted values against the target values.\n",
        "1. Predicted values are represented by the red colored lines.\n",
        "2. Target values are represented by blue colored lines."
      ]
    },
    {
      "cell_type": "code",
      "metadata": {
        "id": "fbT8lsmdyyio",
        "colab": {
          "base_uri": "https://localhost:8080/",
          "height": 282
        },
        "outputId": "ca33e593-51e7-4b71-e6e1-e8bf6f4145cf"
      },
      "source": [
        "plt.scatter(xtest, ytest, color='b')\n",
        "plt.plot(xtest, predicted, color='r')"
      ],
      "execution_count": null,
      "outputs": [
        {
          "output_type": "execute_result",
          "data": {
            "text/plain": [
              "[<matplotlib.lines.Line2D at 0x7f38a1275c90>]"
            ]
          },
          "metadata": {},
          "execution_count": 30
        },
        {
          "output_type": "display_data",
          "data": {
            "image/png": "[encoded data removed]",
            "text/plain": [
              "<Figure size 432x288 with 1 Axes>"
            ]
          },
          "metadata": {
            "needs_background": "light"
          }
        }
      ]
    },
    {
      "cell_type": "markdown",
      "metadata": {
        "id": "e6-xrRaHyyip"
      },
      "source": [
        "### Revert normalization to obtain the predicted price of the houses in <span>$1000s</span>\n",
        "The predicted values are in the range 0-1. This is not very useful to us when we want to obtain the price. Here we will use inverse_transform() to scale the values back to original representation."
      ]
    },
    {
      "cell_type": "code",
      "metadata": {
        "id": "m8izg9c-yyip",
        "colab": {
          "base_uri": "https://localhost:8080/",
          "height": 206
        },
        "outputId": "97b085b4-2efb-48ba-f24a-db3f7c164b1b"
      },
      "source": [
        "# Reshape to change the shape that is required by the scaler\n",
        "predicted = predicted.reshape(-1,1)\n",
        "xtest = xtest.reshape(-1,1)\n",
        "ytest = ytest.reshape(-1,1)\n",
        "\n",
        "xtest_scaled = x_scaler.inverse_transform(xtest)\n",
        "ytest_scaled = y_scaler.inverse_transform(ytest)\n",
        "predicted_scaled = y_scaler.inverse_transform(predicted)\n",
        "\n",
        "# This is to remove the extra dimension\n",
        "xtest_scaled = xtest_scaled[:,-1]\n",
        "ytest_scaled = ytest_scaled[:,-1]\n",
        "predicted_scaled = predicted_scaled[:,-1]\n",
        "\n",
        "p = pd.DataFrame(list(zip(xtest_scaled, ytest_scaled, predicted_scaled)), columns=['x', 'target_y', 'predicted_y'])\n",
        "p = p.round(decimals=2)\n",
        "p.head()"
      ],
      "execution_count": null,
      "outputs": [
        {
          "output_type": "execute_result",
          "data": {
            "text/html": [
              "<div>\n",
              "<style scoped>\n",
              "    .dataframe tbody tr th:only-of-type {\n",
              "        vertical-align: middle;\n",
              "    }\n",
              "\n",
              "    .dataframe tbody tr th {\n",
              "        vertical-align: top;\n",
              "    }\n",
              "\n",
              "    .dataframe thead th {\n",
              "        text-align: right;\n",
              "    }\n",
              "</style>\n",
              "<table border=\"1\" class=\"dataframe\">\n",
              "  <thead>\n",
              "    <tr style=\"text-align: right;\">\n",
              "      <th></th>\n",
              "      <th>x</th>\n",
              "      <th>target_y</th>\n",
              "      <th>predicted_y</th>\n",
              "    </tr>\n",
              "  </thead>\n",
              "  <tbody>\n",
              "    <tr>\n",
              "      <th>0</th>\n",
              "      <td>9.04</td>\n",
              "      <td>23.6</td>\n",
              "      <td>26.09</td>\n",
              "    </tr>\n",
              "    <tr>\n",
              "      <th>1</th>\n",
              "      <td>3.53</td>\n",
              "      <td>32.4</td>\n",
              "      <td>31.41</td>\n",
              "    </tr>\n",
              "    <tr>\n",
              "      <th>2</th>\n",
              "      <td>18.07</td>\n",
              "      <td>13.6</td>\n",
              "      <td>17.38</td>\n",
              "    </tr>\n",
              "    <tr>\n",
              "      <th>3</th>\n",
              "      <td>5.52</td>\n",
              "      <td>22.8</td>\n",
              "      <td>29.49</td>\n",
              "    </tr>\n",
              "    <tr>\n",
              "      <th>4</th>\n",
              "      <td>17.27</td>\n",
              "      <td>16.1</td>\n",
              "      <td>18.15</td>\n",
              "    </tr>\n",
              "  </tbody>\n",
              "</table>\n",
              "</div>"
            ],
            "text/plain": [
              "       x  target_y  predicted_y\n",
              "0   9.04      23.6        26.09\n",
              "1   3.53      32.4        31.41\n",
              "2  18.07      13.6        17.38\n",
              "3   5.52      22.8        29.49\n",
              "4  17.27      16.1        18.15"
            ]
          },
          "metadata": {},
          "execution_count": 31
        }
      ]
    }
  ]
}